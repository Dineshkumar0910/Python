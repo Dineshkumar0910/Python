{
 "cells":[
  {
   "cell_type":"code",
   "source":[
    "#variables\n",
    "x = 10\n",
    "print(x)\n",
    "print(type(x))\n",
    "y = 43.7\n",
    "print(y)\n",
    "print(type(y))\n",
    "z = \"Fita\"\n",
    "print(z)\n",
    "print(type(z))"
   ],
   "execution_count":3,
   "outputs":[
    {
     "name":"stdout",
     "text":[
      "10\n",
      "<class 'int'>\n",
      "43.7\n",
      "<class 'float'>\n",
      "Fita\n",
      "<class 'str'>\n"
     ],
     "output_type":"stream"
    }
   ],
   "metadata":{
    "datalore":{
     "node_id":"3O4xQ7Y0DYuPQonJEKka8g",
     "type":"CODE",
     "hide_input_from_viewers":false,
     "hide_output_from_viewers":false
    }
   }
  },
  {
   "cell_type":"code",
   "source":[
    "#Python - integer, float, string Adv - List, Tuple, Set, Dicionary\n",
    "#Numpy, Pandas, matplotlib, poltly"
   ],
   "execution_count":null,
   "outputs":[
    
   ],
   "metadata":{
    "datalore":{
     "node_id":"T9adqb5wdbI7XN4SwC4wbV",
     "type":"CODE",
     "hide_input_from_viewers":false,
     "hide_output_from_viewers":false
    }
   }
  },
  {
   "cell_type":"code",
   "source":[
    "a = int(input())\n",
    "print(a)\n",
    "print(type(a))"
   ],
   "execution_count":6,
   "outputs":[
    {
     "name":"stdout",
     "text":[
      " 9\n",
      "9\n",
      "<class 'int'>\n"
     ],
     "output_type":"stream"
    }
   ],
   "metadata":{
    "datalore":{
     "node_id":"Pwywtwuv5sbwhP4gTtrnN3",
     "type":"CODE",
     "hide_input_from_viewers":false,
     "hide_output_from_viewers":false
    }
   }
  },
  {
   "cell_type":"code",
   "source":[
    "#Arithmetic operators (+,-,*,\/,%)\n",
    "a = 10\n",
    "b = 5.2\n",
    "print(a-b)\n",
    "print(a+b)\n",
    "print(a*b)\n",
    "print(a\/b)\n",
    "print(a%b)"
   ],
   "execution_count":7,
   "outputs":[
    {
     "name":"stdout",
     "text":[
      "4.8\n",
      "15.2\n",
      "52.0\n",
      "1.923076923076923\n",
      "4.8\n"
     ],
     "output_type":"stream"
    }
   ],
   "metadata":{
    "datalore":{
     "node_id":"FT8AGfTyzXq291EFbIJCOC",
     "type":"CODE",
     "hide_input_from_viewers":false,
     "hide_output_from_viewers":false
    }
   }
  },
  {
   "cell_type":"code",
   "source":[
    "#Comparison operators(<,<=,>,>=,==,!=)\n",
    "a = 10\n",
    "b = 5.2\n",
    "c = 10\n",
    "print(a<b)\n",
    "print(a<=c)\n",
    "print(a>b)\n",
    "print(a>=b)\n",
    "print(a==c)\n",
    "print(a!=c)"
   ],
   "execution_count":9,
   "outputs":[
    {
     "name":"stdout",
     "text":[
      "False\n",
      "True\n",
      "True\n",
      "True\n",
      "True\n",
      "False\n"
     ],
     "output_type":"stream"
    }
   ],
   "metadata":{
    "datalore":{
     "node_id":"uQZLICtsbm5n2Bp8HPqHeX",
     "type":"CODE",
     "hide_input_from_viewers":false,
     "hide_output_from_viewers":false
    }
   }
  },
  {
   "cell_type":"code",
   "source":[
    "# =, +=, -=, \/=, %=\n",
    "a = 10\n",
    "a+=10#(a= a+10)\n",
    "print(a)"
   ],
   "execution_count":11,
   "outputs":[
    {
     "name":"stdout",
     "text":[
      "20\n"
     ],
     "output_type":"stream"
    }
   ],
   "metadata":{
    "datalore":{
     "node_id":"4Z0Qx5zKtMdAJmKSyPNhRe",
     "type":"CODE",
     "hide_input_from_viewers":false,
     "hide_output_from_viewers":false
    }
   }
  },
  {
   "cell_type":"code",
   "source":[
    "#membership operator\n",
    "fita = [\"python\",\"java\",\"html\",\"c++\"]\n",
    "if \"python\" in fita:\n",
    "    print(\"yes, it is available\")"
   ],
   "execution_count":15,
   "outputs":[
    {
     "name":"stdout",
     "text":[
      "yes, it is available\n"
     ],
     "output_type":"stream"
    }
   ],
   "metadata":{
    "datalore":{
     "node_id":"HkGHxuZuI6kRyOe2jXFa7Y",
     "type":"CODE",
     "hide_input_from_viewers":false,
     "hide_output_from_viewers":false
    }
   }
  },
  {
   "cell_type":"code",
   "source":[
    "#identity operator\n",
    "a = 10\n",
    "b = 5\n",
    "c = 10\n",
    "print(a is not b)\n",
    "print(a is c)"
   ],
   "execution_count":17,
   "outputs":[
    {
     "name":"stdout",
     "text":[
      "True\n",
      "True\n"
     ],
     "output_type":"stream"
    }
   ],
   "metadata":{
    "datalore":{
     "node_id":"5FDPqpDEeh6sH49CiB8bEl",
     "type":"CODE",
     "hide_input_from_viewers":false,
     "hide_output_from_viewers":false
    }
   }
  },
  {
   "cell_type":"code",
   "source":[
    "sum = (a + \n",
    "      b + \n",
    "      c)\n",
    "print(sum)"
   ],
   "execution_count":19,
   "outputs":[
    {
     "name":"stdout",
     "text":[
      "25\n"
     ],
     "output_type":"stream"
    }
   ],
   "metadata":{
    "datalore":{
     "node_id":"wXVXYWlGZk0lW28PA2t55k",
     "type":"CODE",
     "hide_input_from_viewers":false,
     "hide_output_from_viewers":false
    }
   }
  },
  {
   "cell_type":"code",
   "source":[
    "(2+5)-4*(6\/20)#operator precedence"
   ],
   "execution_count":24,
   "outputs":[
    {
     "data":{
      "text\/plain":[
       "5.8"
      ]
     },
     "metadata":{
      
     },
     "output_type":"display_data"
    }
   ],
   "metadata":{
    "datalore":{
     "node_id":"em0xNqfojvahg4aS0tVeSa",
     "type":"CODE",
     "hide_input_from_viewers":false,
     "hide_output_from_viewers":false
    }
   }
  },
  {
   "cell_type":"code",
   "source":[
    "x=3\n",
    "print(x)"
   ],
   "execution_count":1,
   "outputs":[
    {
     "name":"stdout",
     "text":[
      "3\n"
     ],
     "output_type":"stream"
    }
   ],
   "metadata":{
    "datalore":{
     "node_id":"M312TrcYEJcRnwYAgM0rYp",
     "type":"CODE",
     "hide_input_from_viewers":false,
     "hide_output_from_viewers":false
    }
   }
  },
  {
   "cell_type":"code",
   "source":[
    "#variables\n",
    "x=10\n",
    "print(x)"
   ],
   "execution_count":3,
   "outputs":[
    {
     "name":"stdout",
     "text":[
      "10\n"
     ],
     "output_type":"stream"
    }
   ],
   "metadata":{
    "datalore":{
     "node_id":"wMSEeqh5ta4T5CFUshKA1G",
     "type":"CODE",
     "hide_input_from_viewers":false,
     "hide_output_from_viewers":false
    }
   }
  },
  {
   "cell_type":"code",
   "source":[
    "#variables\n",
    "s=3\n",
    "print(s)\n",
    "print(type(s))"
   ],
   "execution_count":5,
   "outputs":[
    {
     "name":"stdout",
     "text":[
      "3\n",
      "<class 'int'>\n"
     ],
     "output_type":"stream"
    }
   ],
   "metadata":{
    "datalore":{
     "node_id":"o09g5J24NTrmOfMuwOCK0R",
     "type":"CODE",
     "hide_input_from_viewers":false,
     "hide_output_from_viewers":false
    }
   }
  },
  {
   "cell_type":"code",
   "source":[
    
   ],
   "execution_count":null,
   "outputs":[
    
   ],
   "metadata":{
    "datalore":{
     "node_id":"fg5QrbMWKBla2nQmjvhXly",
     "type":"CODE",
     "hide_input_from_viewers":false,
     "hide_output_from_viewers":false
    }
   }
  },
  {
   "cell_type":"code",
   "source":[
    "a=3\n",
    "b=6\n",
    "c=1\n",
    "print(a+b)\n",
    "print(b-c)"
   ],
   "execution_count":6,
   "outputs":[
    {
     "name":"stdout",
     "text":[
      "9\n",
      "5\n"
     ],
     "output_type":"stream"
    }
   ],
   "metadata":{
    "datalore":{
     "node_id":"ToSviEz0JoL1DUO2zZTb7p",
     "type":"CODE",
     "hide_input_from_viewers":false,
     "hide_output_from_viewers":false
    }
   }
  },
  {
   "cell_type":"code",
   "source":[
    "a=int(input())\n",
    "print(a)\n",
    "print( type (a))"
   ],
   "execution_count":10,
   "outputs":[
    {
     "name":"stdout",
     "text":[
      " 2\n",
      "2\n",
      "<class 'int'>\n"
     ],
     "output_type":"stream"
    }
   ],
   "metadata":{
    "datalore":{
     "node_id":"ZAPYZz2L6utjijdCIWc0YJ",
     "type":"CODE",
     "hide_input_from_viewers":false,
     "hide_output_from_viewers":false
    }
   }
  },
  {
   "cell_type":"code",
   "source":[
    "fita= [\"shalini\",\"rethu\",\"nithish\"]\n",
    "if \"shalini\" in fita:\n",
    "       print (\"yes,shalini is there\")"
   ],
   "execution_count":18,
   "outputs":[
    {
     "name":"stdout",
     "text":[
      "yes,shalini is there\n"
     ],
     "output_type":"stream"
    }
   ],
   "metadata":{
    "datalore":{
     "node_id":"D5lQE0fYoE6lPEzy01qkcs",
     "type":"CODE",
     "hide_input_from_viewers":false,
     "hide_output_from_viewers":false
    }
   }
  },
  {
   "cell_type":"code",
   "source":[
    "#Data types - int, float, string, list, tuple, set, dictionary\n",
    "#string - '', \" \", ''' '''\n",
    "string1 = 'Data Science'\n",
    "string2 = \"Machine Learning\"\n",
    "string3 = '''Deep Learning'''\n",
    "s1 = 34\n",
    "print(string1,string2,string3)\n",
    "print(type(string1))\n",
    "print(type(s1))"
   ],
   "execution_count":4,
   "outputs":[
    {
     "name":"stdout",
     "text":[
      "Data Science Machine Learning Deep Learning\n",
      "<class 'str'>\n",
      "<class 'int'>\n"
     ],
     "output_type":"stream"
    }
   ],
   "metadata":{
    "datalore":{
     "node_id":"25SNScNkvw3PbpluVdE4d7",
     "type":"CODE",
     "hide_input_from_viewers":false,
     "hide_output_from_viewers":false
    }
   }
  },
  {
   "cell_type":"code",
   "source":[
    "#accessing the string\n",
    "print(string1[0])\n",
    "print(string2[5])\n",
    "print(string3[-2])\n",
    "print(string1[::-1]) #reverse"
   ],
   "execution_count":6,
   "outputs":[
    {
     "name":"stdout",
     "text":[
      "D\n",
      "n\n",
      "n\n",
      "ecneicS ataD\n"
     ],
     "output_type":"stream"
    }
   ],
   "metadata":{
    "datalore":{
     "node_id":"zuuwPFPiXJJkhNNBYZWF9O",
     "type":"CODE",
     "hide_input_from_viewers":false,
     "hide_output_from_viewers":false
    }
   }
  },
  {
   "cell_type":"code",
   "source":[
    "#string slicing\n",
    "print(string1[0:7])\n",
    "print(string2[4::])\n",
    "print(string3[3:-2])"
   ],
   "execution_count":11,
   "outputs":[
    {
     "name":"stdout",
     "text":[
      "Data Sc\n",
      "ine Learning\n",
      "p Learni\n"
     ],
     "output_type":"stream"
    }
   ],
   "metadata":{
    "datalore":{
     "node_id":"uj0JVSKOKk2Et2cybKiaVC",
     "type":"CODE",
     "hide_input_from_viewers":false,
     "hide_output_from_viewers":false
    }
   }
  },
  {
   "cell_type":"code",
   "source":[
    "#updating and deleting\n",
    "list1 = list(string1) #choice1\n",
    "list1[3] = 'M'\n",
    "string4 = ''.join(list1)\n",
    "print(string4)\n",
    "\n",
    "string5 = string1[0:3]+'M'+string1[4:] #choice2\n",
    "print(string5)\n",
    "\n",
    "string5 = \"Changed string\"\n",
    "print(string5)\n",
    "\n",
    "string6 = string1[0:3]+string1[4:] #delete\n",
    "print(string6)"
   ],
   "execution_count":19,
   "outputs":[
    {
     "name":"stdout",
     "text":[
      "DatM Science\n",
      "DatM Science\n",
      "Changed string\n",
      "Dat Science\n"
     ],
     "output_type":"stream"
    }
   ],
   "metadata":{
    "datalore":{
     "node_id":"dtiz4QbgPnQHY9XCPHdcmh",
     "type":"CODE",
     "hide_input_from_viewers":false,
     "hide_output_from_viewers":false
    }
   }
  },
  {
   "cell_type":"code",
   "source":[
    "#List\n",
    "mylist1 = [\"Data Scienc\",\"Machine Learning\",\"Deep Learning\"] #preferable\n",
    "print(type(mylist1))\n",
    "print(mylist1)\n",
    "mylist2 = [\"python\",34,76.1]\n",
    "print(mylist2)"
   ],
   "execution_count":2,
   "outputs":[
    {
     "name":"stdout",
     "text":[
      "<class 'list'>\n",
      "['Data Scienc', 'Machine Learning', 'Deep Learning']\n",
      "['python', 34, 76.1]\n"
     ],
     "output_type":"stream"
    }
   ],
   "metadata":{
    "datalore":{
     "node_id":"GH9tXhUVSFYFyFI568641V",
     "type":"CODE",
     "hide_input_from_viewers":false,
     "hide_output_from_viewers":false
    }
   }
  },
  {
   "cell_type":"code",
   "source":[
    "#list access\n",
    "print(mylist1[1])\n",
    "print(mylist1[0][6])"
   ],
   "execution_count":24,
   "outputs":[
    {
     "name":"stdout",
     "text":[
      "Machine Learning\n",
      "c\n"
     ],
     "output_type":"stream"
    }
   ],
   "metadata":{
    "datalore":{
     "node_id":"jKLg6jvp2LO4kCMZaeE0pD",
     "type":"CODE",
     "hide_input_from_viewers":false,
     "hide_output_from_viewers":false
    }
   }
  },
  {
   "cell_type":"code",
   "source":[
    "mylist3 = list((3,6,9,12))\n",
    "print(type(mylist3))"
   ],
   "execution_count":25,
   "outputs":[
    {
     "name":"stdout",
     "text":[
      "<class 'list'>\n"
     ],
     "output_type":"stream"
    }
   ],
   "metadata":{
    "datalore":{
     "node_id":"AbeSxxz615N0SIYPyqow7u",
     "type":"CODE",
     "hide_input_from_viewers":false,
     "hide_output_from_viewers":false
    }
   }
  },
  {
   "cell_type":"code",
   "source":[
    "print(len(mylist1))\n",
    "print(len(mylist2))\n",
    "print(len(mylist3))"
   ],
   "execution_count":26,
   "outputs":[
    {
     "name":"stdout",
     "text":[
      "3\n",
      "3\n",
      "4\n"
     ],
     "output_type":"stream"
    }
   ],
   "metadata":{
    "datalore":{
     "node_id":"9xpmXrHt1diqeAadhZm8Bt",
     "type":"CODE",
     "hide_input_from_viewers":false,
     "hide_output_from_viewers":false
    }
   }
  },
  {
   "cell_type":"code",
   "source":[
    "mylist4 = [\"Python\",\"class\",\"morning\",[7,8,9,10]]#nested list\n",
    "print(mylist4[3])\n",
    "print(mylist4[3][1])\n",
    "print(len(mylist4))"
   ],
   "execution_count":30,
   "outputs":[
    {
     "name":"stdout",
     "text":[
      "[7, 8, 9, 10]\n",
      "8\n",
      "4\n"
     ],
     "output_type":"stream"
    }
   ],
   "metadata":{
    "datalore":{
     "node_id":"ikcea0PCb8NCQtrnQ4rvSK",
     "type":"CODE",
     "hide_input_from_viewers":false,
     "hide_output_from_viewers":false
    }
   }
  },
  {
   "cell_type":"code",
   "source":[
    "#23 Jan\n",
    "#Adding the elements\n",
    "mylist1.append(\"Networking\")\n",
    "print(mylist1)\n",
    "mylist1.insert(2,\"CCNA\")\n",
    "print(mylist1)\n",
    "mylist1.extend([\"C++\",\"PHP\",\"LAMP\"])\n",
    "print(mylist1)"
   ],
   "execution_count":6,
   "outputs":[
    {
     "name":"stdout",
     "text":[
      "['Data Scienc', 'Machine Learning', 'CCNA', 'CCNA', 'Deep Learning', 'Networking', 'Networking', 'Networking', 'C++', 'PHP', 'LAMP', 'Networking']\n",
      "['Data Scienc', 'Machine Learning', 'CCNA', 'CCNA', 'CCNA', 'Deep Learning', 'Networking', 'Networking', 'Networking', 'C++', 'PHP', 'LAMP', 'Networking']\n",
      "['Data Scienc', 'Machine Learning', 'CCNA', 'CCNA', 'CCNA', 'Deep Learning', 'Networking', 'Networking', 'Networking', 'C++', 'PHP', 'LAMP', 'Networking', 'C++', 'PHP', 'LAMP']\n"
     ],
     "output_type":"stream"
    }
   ],
   "metadata":{
    "datalore":{
     "node_id":"alVJs3FUgLvTPzsRVrK9uQ",
     "type":"CODE",
     "hide_input_from_viewers":false,
     "hide_output_from_viewers":false
    }
   }
  },
  {
   "cell_type":"code",
   "source":[
    "#modify the elements\n",
    "mylist1[2] = \"Andorid\"\n",
    "print(mylist1)"
   ],
   "execution_count":7,
   "outputs":[
    {
     "name":"stdout",
     "text":[
      "['Data Scienc', 'Machine Learning', 'Andorid', 'CCNA', 'CCNA', 'Deep Learning', 'Networking', 'Networking', 'Networking', 'C++', 'PHP', 'LAMP', 'Networking', 'C++', 'PHP', 'LAMP']\n"
     ],
     "output_type":"stream"
    }
   ],
   "metadata":{
    "datalore":{
     "node_id":"t17FoiQkpfVarobTz8gR05",
     "type":"CODE",
     "hide_input_from_viewers":false,
     "hide_output_from_viewers":false
    }
   }
  },
  {
   "cell_type":"code",
   "source":[
    "mylist1[7:10] = \"Chennai\",\"Bangalore\",\"Kochin\",\"Trichy\"\n",
    "print(mylist1)"
   ],
   "execution_count":8,
   "outputs":[
    {
     "name":"stdout",
     "text":[
      "['Data Scienc', 'Machine Learning', 'Andorid', 'CCNA', 'CCNA', 'Deep Learning', 'Networking', 'Chennai', 'Bangalore', 'Kochin', 'Trichy', 'PHP', 'LAMP', 'Networking', 'C++', 'PHP', 'LAMP']\n"
     ],
     "output_type":"stream"
    }
   ],
   "metadata":{
    "datalore":{
     "node_id":"mVrTl0IYLUOirFQuuBF2X1",
     "type":"CODE",
     "hide_input_from_viewers":false,
     "hide_output_from_viewers":false
    }
   }
  },
  {
   "cell_type":"code",
   "source":[
    "#removing list elements\n",
    "mylist1.remove(\"CCNA\")\n",
    "print(mylist1)"
   ],
   "execution_count":9,
   "outputs":[
    {
     "name":"stdout",
     "text":[
      "['Data Scienc', 'Machine Learning', 'Andorid', 'CCNA', 'Deep Learning', 'Networking', 'Chennai', 'Bangalore', 'Kochin', 'Trichy', 'PHP', 'LAMP', 'Networking', 'C++', 'PHP', 'LAMP']\n"
     ],
     "output_type":"stream"
    }
   ],
   "metadata":{
    "datalore":{
     "node_id":"KmwbriQtK8JU2x4ph6pxnk",
     "type":"CODE",
     "hide_input_from_viewers":false,
     "hide_output_from_viewers":false
    }
   }
  },
  {
   "cell_type":"code",
   "source":[
    "mylist1.pop(3)\n",
    "print(mylist1)"
   ],
   "execution_count":11,
   "outputs":[
    {
     "name":"stdout",
     "text":[
      "['Data Scienc', 'Machine Learning', 'Andorid', 'Deep Learning', 'Networking', 'Chennai', 'Bangalore', 'Kochin', 'Trichy', 'PHP', 'LAMP', 'Networking', 'C++', 'PHP']\n"
     ],
     "output_type":"stream"
    }
   ],
   "metadata":{
    "datalore":{
     "node_id":"fvQm4o5vPbShwhQXEXRyF3",
     "type":"CODE",
     "hide_input_from_viewers":false,
     "hide_output_from_viewers":false
    }
   }
  },
  {
   "cell_type":"code",
   "source":[
    "mylist1.clear()\n",
    "print(mylist1)\n",
    "del mylist1"
   ],
   "execution_count":15,
   "outputs":[
    {
     "ename":"NameError",
     "evalue":"NameError: name 'mylist1' is not defined",
     "traceback":[
      "\u001b[0;31m---------------------------------------------------------------------------",
      "Traceback (most recent call last)",
      "    at line 1 in <module>",
      "NameError: name 'mylist1' is not defined"
     ],
     "output_type":"error"
    }
   ],
   "metadata":{
    "datalore":{
     "node_id":"RpEvOb0ZJWM7G3Mu2l85Mg",
     "type":"CODE",
     "hide_input_from_viewers":false,
     "hide_output_from_viewers":false
    }
   }
  },
  {
   "cell_type":"code",
   "source":[
    "monlist = ['Data Scienc', 'Machine Learning', 'Andorid', 'Deep Learning', 'Networking', 'Chennai', 'Bangalore', 'Kochin', 'Trichy']\n",
    "print(monlist)"
   ],
   "execution_count":16,
   "outputs":[
    {
     "name":"stdout",
     "text":[
      "['Data Scienc', 'Machine Learning', 'Andorid', 'Deep Learning', 'Networking', 'Chennai', 'Bangalore', 'Kochin', 'Trichy']\n"
     ],
     "output_type":"stream"
    }
   ],
   "metadata":{
    "datalore":{
     "node_id":"xYGxsS8saJHO7ODRQrVhJy",
     "type":"CODE",
     "hide_input_from_viewers":false,
     "hide_output_from_viewers":false
    }
   }
  },
  {
   "cell_type":"code",
   "source":[
    "blist = monlist.copy()\n",
    "print(blist)"
   ],
   "execution_count":17,
   "outputs":[
    {
     "name":"stdout",
     "text":[
      "['Data Scienc', 'Machine Learning', 'Andorid', 'Deep Learning', 'Networking', 'Chennai', 'Bangalore', 'Kochin', 'Trichy']\n"
     ],
     "output_type":"stream"
    }
   ],
   "metadata":{
    "datalore":{
     "node_id":"RBhU0p7VapLki1cZm7ZmVQ",
     "type":"CODE",
     "hide_input_from_viewers":false,
     "hide_output_from_viewers":false
    }
   }
  },
  {
   "cell_type":"code",
   "source":[
    "blist.sort()\n",
    "print(blist)"
   ],
   "execution_count":18,
   "outputs":[
    {
     "name":"stdout",
     "text":[
      "['Andorid', 'Bangalore', 'Chennai', 'Data Scienc', 'Deep Learning', 'Kochin', 'Machine Learning', 'Networking', 'Trichy']\n"
     ],
     "output_type":"stream"
    }
   ],
   "metadata":{
    "datalore":{
     "node_id":"kPrZO3DkmUjo4v3MneckqV",
     "type":"CODE",
     "hide_input_from_viewers":false,
     "hide_output_from_viewers":false
    }
   }
  },
  {
   "cell_type":"code",
   "source":[
    "blist.reverse()\n",
    "print(blist)"
   ],
   "execution_count":19,
   "outputs":[
    {
     "name":"stdout",
     "text":[
      "['Trichy', 'Networking', 'Machine Learning', 'Kochin', 'Deep Learning', 'Data Scienc', 'Chennai', 'Bangalore', 'Andorid']\n"
     ],
     "output_type":"stream"
    }
   ],
   "metadata":{
    "datalore":{
     "node_id":"q858msBTFGLumsobaf8n6K",
     "type":"CODE",
     "hide_input_from_viewers":false,
     "hide_output_from_viewers":false
    }
   }
  },
  {
   "cell_type":"code",
   "source":[
    "#Tuples - Ordered, Unchangealbe, Heterogneous, Can have duplicates\n",
    "tup1 = (3,5,6,2)\n",
    "print(type(tup1))\n",
    "tup2 = (\"Vivo\",\"Apple\",\"Nokia\")\n",
    "print(type(tup2))\n",
    "tup3 = tuple((\"Chennai\",\"Trichy\",\"Madurai\"))\n",
    "print(type(tup3))"
   ],
   "execution_count":22,
   "outputs":[
    {
     "name":"stdout",
     "text":[
      "<class 'tuple'>\n",
      "<class 'tuple'>\n",
      "<class 'tuple'>\n"
     ],
     "output_type":"stream"
    }
   ],
   "metadata":{
    "datalore":{
     "node_id":"hrUzrSNqOiDE65tOZikSTX",
     "type":"CODE",
     "hide_input_from_viewers":false,
     "hide_output_from_viewers":false
    }
   }
  },
  {
   "cell_type":"code",
   "source":[
    "print(tup1[1])\n",
    "print(tup2[0])\n",
    "print(tup3[2])"
   ],
   "execution_count":25,
   "outputs":[
    {
     "name":"stdout",
     "text":[
      "5\n",
      "Vivo\n",
      "Madurai\n"
     ],
     "output_type":"stream"
    }
   ],
   "metadata":{
    "datalore":{
     "node_id":"dAmXP0RGJSN5E2YlBvywhk",
     "type":"CODE",
     "hide_input_from_viewers":false,
     "hide_output_from_viewers":false
    }
   }
  },
  {
   "cell_type":"code",
   "source":[
    "print(tup1[0:3])\n",
    "print(tup2[::-1])"
   ],
   "execution_count":26,
   "outputs":[
    {
     "name":"stdout",
     "text":[
      "(3, 5, 6)\n",
      "('Nokia', 'Apple', 'Vivo')\n"
     ],
     "output_type":"stream"
    }
   ],
   "metadata":{
    "datalore":{
     "node_id":"GT46xeGCv9c5hLey7pTSin",
     "type":"CODE",
     "hide_input_from_viewers":false,
     "hide_output_from_viewers":false
    }
   }
  },
  {
   "cell_type":"code",
   "source":[
    "tuplist = list(tup1)\n",
    "tuplist.append(10)\n",
    "print(type(tuplist))\n",
    "tup1 = tuple(tuplist)\n",
    "print(tup1)\n",
    "print(type(tup1))"
   ],
   "execution_count":29,
   "outputs":[
    {
     "name":"stdout",
     "text":[
      "<class 'list'>\n",
      "(3, 5, 6, 2, 10, 10)\n",
      "<class 'tuple'>\n"
     ],
     "output_type":"stream"
    }
   ],
   "metadata":{
    "datalore":{
     "node_id":"QES5qnRR3gZxh7RGD8EgSD",
     "type":"CODE",
     "hide_input_from_viewers":false,
     "hide_output_from_viewers":false
    }
   }
  },
  {
   "cell_type":"code",
   "source":[
    "tup4 = (12,45,12,23,[6,2,8,14])\n",
    "print(tup4)"
   ],
   "execution_count":30,
   "outputs":[
    {
     "name":"stdout",
     "text":[
      "(12, 45, 12, 23, [6, 2, 8, 14])\n"
     ],
     "output_type":"stream"
    }
   ],
   "metadata":{
    "datalore":{
     "node_id":"q4tKuvmcMgetw1FUvYp26a",
     "type":"CODE",
     "hide_input_from_viewers":false,
     "hide_output_from_viewers":false
    }
   }
  },
  {
   "cell_type":"code",
   "source":[
    "tuplist1 = list(tup4)\n",
    "tuplist1.remove(12)\n",
    "tup4 = tuple(tuplist1)\n",
    "print(tup4)"
   ],
   "execution_count":32,
   "outputs":[
    {
     "name":"stdout",
     "text":[
      "(45, 12, 23, [6, 2, 8, 14])\n"
     ],
     "output_type":"stream"
    }
   ],
   "metadata":{
    "datalore":{
     "node_id":"MLaxpJpsYjqSca7PLtEJ6X",
     "type":"CODE",
     "hide_input_from_viewers":false,
     "hide_output_from_viewers":false
    }
   }
  },
  {
   "cell_type":"code",
   "source":[
    "#25 Jan\n",
    "#Set\n",
    "myset1 = {\"dinesh\",\"chennai\",43,12}\n",
    "print(myset1)\n",
    "print(type(myset1))"
   ],
   "execution_count":1,
   "outputs":[
    {
     "name":"stdout",
     "text":[
      "{'chennai', 43, 12, 'dinesh'}\n",
      "<class 'set'>\n"
     ],
     "output_type":"stream"
    }
   ],
   "metadata":{
    "datalore":{
     "node_id":"0V26lB3SQzsqKBUYljJB8g",
     "type":"CODE",
     "hide_input_from_viewers":false,
     "hide_output_from_viewers":false
    }
   }
  },
  {
   "cell_type":"code",
   "source":[
    "myset2 = set((\"Tnagar\",\"Nandanam\",\"Adyar\"))\n",
    "print(myset2)\n",
    "print(type(myset2))"
   ],
   "execution_count":2,
   "outputs":[
    {
     "name":"stdout",
     "text":[
      "{'Adyar', 'Tnagar', 'Nandanam'}\n",
      "<class 'set'>\n"
     ],
     "output_type":"stream"
    }
   ],
   "metadata":{
    "datalore":{
     "node_id":"NV6KSqd2o0s2NYU5m7WXRO",
     "type":"CODE",
     "hide_input_from_viewers":false,
     "hide_output_from_viewers":false
    }
   }
  },
  {
   "cell_type":"code",
   "source":[
    "myset3 = {}\n",
    "print(type(myset3))\n",
    "myset3 = set()\n",
    "print(type(myset3))"
   ],
   "execution_count":7,
   "outputs":[
    {
     "name":"stdout",
     "text":[
      "<class 'dict'>\n",
      "<class 'set'>\n"
     ],
     "output_type":"stream"
    }
   ],
   "metadata":{
    "datalore":{
     "node_id":"hnkH3XBhdpdZb1TCCDA9cc",
     "type":"CODE",
     "hide_input_from_viewers":false,
     "hide_output_from_viewers":false
    }
   }
  },
  {
   "cell_type":"code",
   "source":[
    "for x in myset2: #access\n",
    "    print(x)"
   ],
   "execution_count":5,
   "outputs":[
    {
     "name":"stdout",
     "text":[
      "Adyar\n",
      "Tnagar\n",
      "Nandanam\n"
     ],
     "output_type":"stream"
    }
   ],
   "metadata":{
    "datalore":{
     "node_id":"e8el6P9ba8m1QOfPiFl6YC",
     "type":"CODE",
     "hide_input_from_viewers":false,
     "hide_output_from_viewers":false
    }
   }
  },
  {
   "cell_type":"code",
   "source":[
    "print(len(myset1))\n",
    "print(len(myset2))\n",
    "print(len(myset3))"
   ],
   "execution_count":9,
   "outputs":[
    {
     "name":"stdout",
     "text":[
      "4\n",
      "3\n",
      "0\n"
     ],
     "output_type":"stream"
    }
   ],
   "metadata":{
    "datalore":{
     "node_id":"BUGcxJ2wNTtusooFgDkXQH",
     "type":"CODE",
     "hide_input_from_viewers":false,
     "hide_output_from_viewers":false
    }
   }
  },
  {
   "cell_type":"code",
   "source":[
    "#add #update\n",
    "myset1.add(\"B.E\")\n",
    "print(myset1)\n",
    "myset1.update([\"MBA\",\"PGDM\",\"SEPO\"])\n",
    "print(myset1)"
   ],
   "execution_count":10,
   "outputs":[
    {
     "name":"stdout",
     "text":[
      "{'B.E', 'chennai', 43, 12, 'dinesh'}\n",
      "{'B.E', 'SEPO', 'chennai', 43, 12, 'MBA', 'PGDM', 'dinesh'}\n"
     ],
     "output_type":"stream"
    }
   ],
   "metadata":{
    "datalore":{
     "node_id":"J2HKW6WqgYV7xkPZqNZ3Fa",
     "type":"CODE",
     "hide_input_from_viewers":false,
     "hide_output_from_viewers":false
    }
   }
  },
  {
   "cell_type":"code",
   "source":[
    "myset1.remove(43)\n",
    "myset1.discard(100)\n",
    "myset1.pop()"
   ],
   "execution_count":11,
   "outputs":[
    {
     "data":{
      "text\/plain":[
       "'B.E'"
      ]
     },
     "metadata":{
      
     },
     "output_type":"display_data"
    }
   ],
   "metadata":{
    "datalore":{
     "node_id":"ob7sh77cqmMfbDirdh1j05",
     "type":"CODE",
     "hide_input_from_viewers":false,
     "hide_output_from_viewers":false
    }
   }
  },
  {
   "cell_type":"code",
   "source":[
    "print(myset1)"
   ],
   "execution_count":12,
   "outputs":[
    {
     "name":"stdout",
     "text":[
      "{'SEPO', 'chennai', 12, 'MBA', 'PGDM', 'dinesh'}\n"
     ],
     "output_type":"stream"
    }
   ],
   "metadata":{
    "datalore":{
     "node_id":"QQfWfCHcyv7GqVjPYXfmtp",
     "type":"CODE",
     "hide_input_from_viewers":false,
     "hide_output_from_viewers":false
    }
   }
  },
  {
   "cell_type":"code",
   "source":[
    "myset2.clear()\n",
    "del myset2"
   ],
   "execution_count":13,
   "outputs":[
    
   ],
   "metadata":{
    "datalore":{
     "node_id":"dKEOKQPHrxCVvbYMhkwBEq",
     "type":"CODE",
     "hide_input_from_viewers":false,
     "hide_output_from_viewers":false
    }
   }
  },
  {
   "cell_type":"code",
   "source":[
    "print(myset2)"
   ],
   "execution_count":14,
   "outputs":[
    {
     "ename":"NameError",
     "evalue":"NameError: name 'myset2' is not defined",
     "traceback":[
      "\u001b[0;31m---------------------------------------------------------------------------",
      "Traceback (most recent call last)",
      "    at line 1 in <module>",
      "NameError: name 'myset2' is not defined"
     ],
     "output_type":"error"
    }
   ],
   "metadata":{
    "datalore":{
     "node_id":"iBebx7isp2oOyyL3Pof8bX",
     "type":"CODE",
     "hide_input_from_viewers":false,
     "hide_output_from_viewers":false
    }
   }
  },
  {
   "cell_type":"code",
   "source":[
    "set1 = {\"Python\",\"Java\",\"c++\",\"VB\"}\n",
    "set2 = {\"Cobol\",\"C#\",\"Adobe\",\"Python\"}\n",
    "unionset = set1 | set2 #union\n",
    "print(unionset)\n",
    "unionset1 = set1.union(set2)\n",
    "print(unionset1)"
   ],
   "execution_count":16,
   "outputs":[
    {
     "name":"stdout",
     "text":[
      "{'Java', 'Adobe', 'c++', 'VB', 'C#', 'Cobol', 'Python'}\n",
      "{'Java', 'Adobe', 'c++', 'VB', 'C#', 'Cobol', 'Python'}\n"
     ],
     "output_type":"stream"
    }
   ],
   "metadata":{
    "datalore":{
     "node_id":"Ut44imDsxj5kGF2tVrpAUe",
     "type":"CODE",
     "hide_input_from_viewers":false,
     "hide_output_from_viewers":false
    }
   }
  },
  {
   "cell_type":"code",
   "source":[
    "interesect1 = set1 & set2 #intersection\n",
    "print(interesect1)\n",
    "interesect2 = set1.intersection(set2)\n",
    "print(interesect2)"
   ],
   "execution_count":18,
   "outputs":[
    {
     "name":"stdout",
     "text":[
      "{'Python'}\n",
      "{'Python'}\n"
     ],
     "output_type":"stream"
    }
   ],
   "metadata":{
    "datalore":{
     "node_id":"xPPgaVbWW9Zf7fKQmgzuHI",
     "type":"CODE",
     "hide_input_from_viewers":false,
     "hide_output_from_viewers":false
    }
   }
  },
  {
   "cell_type":"code",
   "source":[
    "print(set1 - set2) #difference\n",
    "print(set2 - set1)"
   ],
   "execution_count":20,
   "outputs":[
    {
     "name":"stdout",
     "text":[
      "{'Java', 'VB', 'c++'}\n",
      "{'Adobe', 'C#', 'Cobol'}\n"
     ],
     "output_type":"stream"
    }
   ],
   "metadata":{
    "datalore":{
     "node_id":"FPevRcjnAVHFHC9PVMD2pS",
     "type":"CODE",
     "hide_input_from_viewers":false,
     "hide_output_from_viewers":false
    }
   }
  },
  {
   "cell_type":"code",
   "source":[
    "#Dictionaries\n",
    "dict1 = {\"1\":\"Chennai\",\"2\":\"Kochin\",\"3\":\"Bangalore\"}\n",
    "print(type(dict1))"
   ],
   "execution_count":21,
   "outputs":[
    {
     "name":"stdout",
     "text":[
      "<class 'dict'>\n"
     ],
     "output_type":"stream"
    }
   ],
   "metadata":{
    "datalore":{
     "node_id":"5QAcMp6pPXrVvuCOztjBgO",
     "type":"CODE",
     "hide_input_from_viewers":false,
     "hide_output_from_viewers":false
    }
   }
  },
  {
   "cell_type":"code",
   "source":[
    "dict2 = dict({\"one\":\"Kolkata\",\"two\":\"Mumbai\",\"three\":\"Delhi\"})\n",
    "print(type(dict2))"
   ],
   "execution_count":23,
   "outputs":[
    {
     "name":"stdout",
     "text":[
      "<class 'dict'>\n"
     ],
     "output_type":"stream"
    }
   ],
   "metadata":{
    "datalore":{
     "node_id":"W71XXtQPfqberCDpA6hNoT",
     "type":"CODE",
     "hide_input_from_viewers":false,
     "hide_output_from_viewers":false
    }
   }
  },
  {
   "cell_type":"code",
   "source":[
    "dict3 = {\"name\":\"Dinesh\",\"address\":[10,40,'chennai']}\n",
    "print(type(dict3))"
   ],
   "execution_count":24,
   "outputs":[
    {
     "name":"stdout",
     "text":[
      "<class 'dict'>\n"
     ],
     "output_type":"stream"
    }
   ],
   "metadata":{
    "datalore":{
     "node_id":"M4NBbTuRGNnfmcmflLMfEX",
     "type":"CODE",
     "hide_input_from_viewers":false,
     "hide_output_from_viewers":false
    }
   }
  },
  {
   "cell_type":"code",
   "source":[
    "print(dict1[\"1\"])\n",
    "print(dict2[\"two\"])\n",
    "print(dict3[\"address\"])"
   ],
   "execution_count":25,
   "outputs":[
    {
     "name":"stdout",
     "text":[
      "Chennai\n",
      "Mumbai\n",
      "[10, 40, 'chennai']\n"
     ],
     "output_type":"stream"
    }
   ],
   "metadata":{
    "datalore":{
     "node_id":"j3dH7ipXyXyBbHdeZYTgsI",
     "type":"CODE",
     "hide_input_from_viewers":false,
     "hide_output_from_viewers":false
    }
   }
  },
  {
   "cell_type":"code",
   "source":[
    "dict1[\"3\"] = \"Punjab\"\n",
    "dict2.update({\"three\":\"Agra\"})\n",
    "print(dict1)\n",
    "print(dict2)"
   ],
   "execution_count":27,
   "outputs":[
    {
     "name":"stdout",
     "text":[
      "{'1': 'Chennai', '2': 'Kochin', '3': 'Punjab'}\n",
      "{'one': 'Kolkata', 'two': 'Mumbai', 'three': 'Agra'}\n"
     ],
     "output_type":"stream"
    }
   ],
   "metadata":{
    "datalore":{
     "node_id":"Kz15pLZefDK4BpEnHkBnMD",
     "type":"CODE",
     "hide_input_from_viewers":false,
     "hide_output_from_viewers":false
    }
   }
  },
  {
   "cell_type":"code",
   "source":[
    "dict1.popitem()\n",
    "print(dict1)"
   ],
   "execution_count":28,
   "outputs":[
    {
     "name":"stdout",
     "text":[
      "{'1': 'Chennai', '2': 'Kochin'}\n"
     ],
     "output_type":"stream"
    }
   ],
   "metadata":{
    "datalore":{
     "node_id":"1UgPxdol7H13pZGxuTPgqV",
     "type":"CODE",
     "hide_input_from_viewers":false,
     "hide_output_from_viewers":false
    }
   }
  },
  {
   "cell_type":"code",
   "source":[
    "dict2.pop(\"two\")\n",
    "print(dict2)"
   ],
   "execution_count":29,
   "outputs":[
    {
     "name":"stdout",
     "text":[
      "{'one': 'Kolkata', 'three': 'Agra'}\n"
     ],
     "output_type":"stream"
    }
   ],
   "metadata":{
    "datalore":{
     "node_id":"p3GfC6Wd35SGT9US5zU7Zi",
     "type":"CODE",
     "hide_input_from_viewers":false,
     "hide_output_from_viewers":false
    }
   }
  },
  {
   "cell_type":"code",
   "source":[
    "dict3.clear()\n",
    "print(dict3)"
   ],
   "execution_count":30,
   "outputs":[
    {
     "name":"stdout",
     "text":[
      "{}\n"
     ],
     "output_type":"stream"
    }
   ],
   "metadata":{
    "datalore":{
     "node_id":"lM6TSKLes48AaH7q8qQ77t",
     "type":"CODE",
     "hide_input_from_viewers":false,
     "hide_output_from_viewers":false
    }
   }
  },
  {
   "cell_type":"code",
   "source":[
    "del dict3\n",
    "print(dict3)"
   ],
   "execution_count":31,
   "outputs":[
    {
     "ename":"NameError",
     "evalue":"NameError: name 'dict3' is not defined",
     "traceback":[
      "\u001b[0;31m---------------------------------------------------------------------------",
      "Traceback (most recent call last)",
      "    at line 2 in <module>",
      "NameError: name 'dict3' is not defined"
     ],
     "output_type":"error"
    }
   ],
   "metadata":{
    "datalore":{
     "node_id":"xTBsAiYQ4bfSNEdkYVBAyO",
     "type":"CODE",
     "hide_input_from_viewers":false,
     "hide_output_from_viewers":false
    }
   }
  },
  {
   "cell_type":"code",
   "source":[
    "#26 Jan\n",
    "#control structures - condition and loop\n",
    "x = 1\n",
    "if x>2:\n",
    "    print(\"x is greater\")\n",
    "else:\n",
    "    print(\"It is lesser\")"
   ],
   "execution_count":3,
   "outputs":[
    {
     "name":"stdout",
     "text":[
      "It is lesser\n"
     ],
     "output_type":"stream"
    }
   ],
   "metadata":{
    "datalore":{
     "node_id":"yQbJAllZlob5YY91rI0u0B",
     "type":"CODE",
     "hide_input_from_viewers":false,
     "hide_output_from_viewers":false
    }
   }
  },
  {
   "cell_type":"code",
   "source":[
    "#chain if\n",
    "def fita(course):\n",
    "    if course == \"Python\":\n",
    "        print(\"Enrolled\")\n",
    "    elif course == \"Java\":\n",
    "        print(\"Delayed\")\n",
    "    elif course == \"C++\":\n",
    "        print(\"Valued\")\n",
    "    else:\n",
    "        print(\"wrong choice\")\n",
    "\n",
    "fita(\"nkjn\")"
   ],
   "execution_count":9,
   "outputs":[
    {
     "name":"stdout",
     "text":[
      "wrong choice\n"
     ],
     "output_type":"stream"
    }
   ],
   "metadata":{
    "datalore":{
     "node_id":"exxYAR6oEjxUPrCM0TbJTW",
     "type":"CODE",
     "hide_input_from_viewers":false,
     "hide_output_from_viewers":false
    }
   }
  },
  {
   "cell_type":"code",
   "source":[
    "#nested if\n",
    "n1 = 5\n",
    "n2 = 10\n",
    "if n2>=n1:\n",
    "    if n1 == n2:\n",
    "        print(\"Both are equal\")\n",
    "    else:\n",
    "        print(\"not equal\")\n",
    "else:\n",
    "    print(n1,\"is greater\")"
   ],
   "execution_count":10,
   "outputs":[
    {
     "name":"stdout",
     "text":[
      "not equal\n"
     ],
     "output_type":"stream"
    }
   ],
   "metadata":{
    "datalore":{
     "node_id":"7KmEAyeyYUa6YwpweqyNm0",
     "type":"CODE",
     "hide_input_from_viewers":false,
     "hide_output_from_viewers":false
    }
   }
  },
  {
   "cell_type":"code",
   "source":[
    "#for, while\n",
    "for x in range(1,11):\n",
    "    print(x)"
   ],
   "execution_count":11,
   "outputs":[
    {
     "name":"stdout",
     "text":[
      "1\n",
      "2\n",
      "3\n",
      "4\n",
      "5\n",
      "6\n",
      "7\n",
      "8\n",
      "9\n",
      "10\n"
     ],
     "output_type":"stream"
    }
   ],
   "metadata":{
    "datalore":{
     "node_id":"zOnRVx7mY6L266DSfRXqnA",
     "type":"CODE",
     "hide_input_from_viewers":false,
     "hide_output_from_viewers":false
    }
   }
  },
  {
   "cell_type":"code",
   "source":[
    "for x in range(10):\n",
    "    if x>5:\n",
    "        print(\"finished\")\n",
    "        continue\n",
    "    print(x)"
   ],
   "execution_count":19,
   "outputs":[
    {
     "name":"stdout",
     "text":[
      "0\n",
      "1\n",
      "2\n",
      "3\n",
      "4\n",
      "5\n",
      "finished\n",
      "finished\n",
      "finished\n",
      "finished\n"
     ],
     "output_type":"stream"
    }
   ],
   "metadata":{
    "datalore":{
     "node_id":"GLkD1QIha40ftL09XQOtKr",
     "type":"CODE",
     "hide_input_from_viewers":false,
     "hide_output_from_viewers":false
    }
   }
  },
  {
   "cell_type":"code",
   "source":[
    "n = 5\n",
    "for i in range(1,n+1,1):\n",
    "    for j in range(1,i+1):\n",
    "        print(j, end=\" \")\n",
    "    print(\" \")"
   ],
   "execution_count":22,
   "outputs":[
    {
     "name":"stdout",
     "text":[
      "1  \n",
      "1 2  \n",
      "1 2 3  \n",
      "1 2 3 4  \n",
      "1 2 3 4 5  \n"
     ],
     "output_type":"stream"
    }
   ],
   "metadata":{
    "datalore":{
     "node_id":"5udY4Ych6GwoKYPnvvJjwT",
     "type":"CODE",
     "hide_input_from_viewers":false,
     "hide_output_from_viewers":false
    }
   }
  },
  {
   "cell_type":"code",
   "source":[
    "for i in range(1,n+1,1):\n",
    "    for j in range(1,i+1):\n",
    "        print(\"*\", end=\" \")\n",
    "    print(\" \")"
   ],
   "execution_count":23,
   "outputs":[
    {
     "name":"stdout",
     "text":[
      "*  \n",
      "* *  \n",
      "* * *  \n",
      "* * * *  \n",
      "* * * * *  \n"
     ],
     "output_type":"stream"
    }
   ],
   "metadata":{
    "datalore":{
     "node_id":"nAkn7YO1JEsc4dxCHOdW52",
     "type":"CODE",
     "hide_input_from_viewers":false,
     "hide_output_from_viewers":false
    }
   }
  },
  {
   "cell_type":"code",
   "source":[
    "n = 5\n",
    "m = 5\n",
    "for i in range(0,n+1):\n",
    "    for j in range(m-i,0,-1):\n",
    "        print(j,end =\" \")\n",
    "    print()"
   ],
   "execution_count":25,
   "outputs":[
    {
     "name":"stdout",
     "text":[
      "5 4 3 2 1 \n",
      "4 3 2 1 \n",
      "3 2 1 \n",
      "2 1 \n",
      "1 \n",
      "\n"
     ],
     "output_type":"stream"
    }
   ],
   "metadata":{
    "datalore":{
     "node_id":"gqBnakRQjIcARHzyTgqYQR",
     "type":"CODE",
     "hide_input_from_viewers":false,
     "hide_output_from_viewers":false
    }
   }
  },
  {
   "cell_type":"code",
   "source":[
    "#27 Jan\n",
    "#functions\n",
    "def Fita():\n",
    "    print(\"Welcome to FITA Acadey\")\n",
    "\n",
    "Fita()"
   ],
   "execution_count":3,
   "outputs":[
    {
     "name":"stdout",
     "text":[
      "Welcome to FITA Acadey\n"
     ],
     "output_type":"stream"
    }
   ],
   "metadata":{
    "datalore":{
     "node_id":"vm8j2LywHv1wDnuE0gPtoL",
     "type":"CODE",
     "hide_input_from_viewers":false,
     "hide_output_from_viewers":false
    }
   }
  },
  {
   "cell_type":"code",
   "source":[
    "def Courses(name,duration):\n",
    "    print(\"Course is\",name)\n",
    "    print(\"Duration is\",duration)\n",
    "Courses('Python','2 Months')"
   ],
   "execution_count":4,
   "outputs":[
    {
     "name":"stdout",
     "text":[
      "Course is Python\n",
      "Duration is 2 Months\n"
     ],
     "output_type":"stream"
    }
   ],
   "metadata":{
    "datalore":{
     "node_id":"2eFiM3yNFR92YwqcHogDiP",
     "type":"CODE",
     "hide_input_from_viewers":false,
     "hide_output_from_viewers":false
    }
   }
  },
  {
   "cell_type":"code",
   "source":[
    "def addition(a,b):\n",
    "    add = a+b\n",
    "    return add\n",
    "addition(4,8)"
   ],
   "execution_count":5,
   "outputs":[
    {
     "data":{
      "text\/plain":[
       "12"
      ]
     },
     "metadata":{
      
     },
     "output_type":"display_data"
    }
   ],
   "metadata":{
    "datalore":{
     "node_id":"pn3XPhaW1LTnOGD3iec96J",
     "type":"CODE",
     "hide_input_from_viewers":false,
     "hide_output_from_viewers":false
    }
   }
  },
  {
   "cell_type":"code",
   "source":[
    "from random import randint\n",
    "print(randint(6,10))"
   ],
   "execution_count":6,
   "outputs":[
    {
     "name":"stdout",
     "text":[
      "8\n"
     ],
     "output_type":"stream"
    }
   ],
   "metadata":{
    "datalore":{
     "node_id":"HKRoxzahVo88hgWQOK8Urf",
     "type":"CODE",
     "hide_input_from_viewers":false,
     "hide_output_from_viewers":false
    }
   }
  },
  {
   "cell_type":"code",
   "source":[
    "def calcluator(a,b):\n",
    "    add = a+b\n",
    "    sub=a-b\n",
    "    mul=a*b\n",
    "    div=a\/b\n",
    "    return add,sub,mul,div\n",
    "q,w,e,r = calcluator(3,4)\n",
    "print(q)\n",
    "print(w)\n",
    "print(e)\n",
    "print(r)"
   ],
   "execution_count":9,
   "outputs":[
    {
     "name":"stdout",
     "text":[
      "7\n",
      "-1\n",
      "12\n",
      "0.75\n"
     ],
     "output_type":"stream"
    }
   ],
   "metadata":{
    "datalore":{
     "node_id":"o5cBzqgM05o82JR52kilA1",
     "type":"CODE",
     "hide_input_from_viewers":false,
     "hide_output_from_viewers":false
    }
   }
  },
  {
   "cell_type":"code",
   "source":[
    "def employee(name,salary=\"25000\"):\n",
    "    print(name,salary)\n",
    "employee(\"Jeeva\")\n",
    "employee(\"babu\",30000)"
   ],
   "execution_count":14,
   "outputs":[
    {
     "name":"stdout",
     "text":[
      "Jeeva 25000\n",
      "babu 30000\n"
     ],
     "output_type":"stream"
    }
   ],
   "metadata":{
    "datalore":{
     "node_id":"NnVWiBrNHprLWlBOHrt5Zl",
     "type":"CODE",
     "hide_input_from_viewers":false,
     "hide_output_from_viewers":false
    }
   }
  },
  {
   "cell_type":"code",
   "source":[
    "def add(num):\n",
    "    if num:\n",
    "        return num + add(num -1)\n",
    "    else:\n",
    "        return 0\n",
    "add(4)"
   ],
   "execution_count":22,
   "outputs":[
    {
     "data":{
      "text\/plain":[
       "10"
      ]
     },
     "metadata":{
      
     },
     "output_type":"display_data"
    }
   ],
   "metadata":{
    "datalore":{
     "node_id":"4LmqPWiH6j9Wx9BIfbmRoM",
     "type":"CODE",
     "hide_input_from_viewers":false,
     "hide_output_from_viewers":false
    }
   }
  },
  {
   "cell_type":"code",
   "source":[
    "print(list(range(1,26,2)))"
   ],
   "execution_count":23,
   "outputs":[
    {
     "name":"stdout",
     "text":[
      "[1, 3, 5, 7, 9, 11, 13, 15, 17, 19, 21, 23, 25]\n"
     ],
     "output_type":"stream"
    }
   ],
   "metadata":{
    "datalore":{
     "node_id":"ByoW8574wlXVawwkjLRsnt",
     "type":"CODE",
     "hide_input_from_viewers":false,
     "hide_output_from_viewers":false
    }
   }
  },
  {
   "cell_type":"code",
   "source":[
    "x = [1, 3, 5, 7, 9, 11, 13, 15, 17, 19, 21, 23, 25]\n",
    "print(max(x))"
   ],
   "execution_count":24,
   "outputs":[
    {
     "name":"stdout",
     "text":[
      "25\n"
     ],
     "output_type":"stream"
    }
   ],
   "metadata":{
    "datalore":{
     "node_id":"xctwOy9dD5AZNJ68QTj7Mi",
     "type":"CODE",
     "hide_input_from_viewers":false,
     "hide_output_from_viewers":false
    }
   }
  }
 ],
 "metadata":{
  "kernelspec":{
   "display_name":"Python",
   "language":"python",
   "name":"python"
  },
  "datalore":{
   "version":1,
   "computation_mode":"JUPYTER",
   "package_manager":"pip",
   "base_environment":"default",
   "packages":[
    
   ]
  }
 },
 "nbformat":4,
 "nbformat_minor":4
}