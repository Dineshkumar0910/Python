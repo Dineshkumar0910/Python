{
 "cells":[
  {
   "cell_type":"code",
   "source":[
    "#Encapsulation - protection of data members using Acess Specifiers\n",
    "#private\n",
    "\n",
    "class Student:\n",
    "    def __init__(self,name,age):\n",
    "        self.name = name\n",
    "        self.__age = age #private\n",
    "\n",
    "Stu = Student('Jeeva',24)\n",
    "print(Stu.name)\n",
    "print(Stu.__age)"
   ],
   "execution_count":3,
   "outputs":[
    {
     "name":"stdout",
     "text":[
      "Jeeva\n"
     ],
     "output_type":"stream"
    },
    {
     "ename":"AttributeError",
     "evalue":"AttributeError: 'Student' object has no attribute '__age'",
     "traceback":[
      "\u001b[0;31m---------------------------------------------------------------------------",
      "Traceback (most recent call last)",
      "    at line 11 in <module>",
      "AttributeError: 'Student' object has no attribute '__age'"
     ],
     "output_type":"error"
    }
   ],
   "metadata":{
    "datalore":{
     "node_id":"cn0NdnixYqCYWWYpbKOZa8",
     "type":"CODE",
     "hide_input_from_viewers":false,
     "hide_output_from_viewers":false
    }
   }
  },
  {
   "cell_type":"code",
   "source":[
    "class Student:\n",
    "    def __init__(self,name,age):\n",
    "        self.name = name\n",
    "        self.__age = age\n",
    "    def fun(self):\n",
    "        print(\"Student name is\",self.name,\"and age is\",self.__age)\n",
    "\n",
    "S = Student(\"Jeeva\",24)\n",
    "S.fun()"
   ],
   "execution_count":6,
   "outputs":[
    {
     "name":"stdout",
     "text":[
      "Student name is Jeeva and age is 24\n"
     ],
     "output_type":"stream"
    }
   ],
   "metadata":{
    "datalore":{
     "node_id":"vGFx4ONO04f4T97hKiZbnM",
     "type":"CODE",
     "hide_input_from_viewers":false,
     "hide_output_from_viewers":false
    }
   }
  },
  {
   "cell_type":"code",
   "source":[
    "#Protected\n",
    "class Fita:\n",
    "    def __init__(self):\n",
    "        self._Course = \"Python\"\n",
    "\n",
    "class Stud(Fita):\n",
    "    def __init__(self,name):\n",
    "        self.name = name\n",
    "        Fita.__init__(self)\n",
    "    def show(self):\n",
    "        print(\"Student name\",self.name)\n",
    "        print(\"Course is\",self._Course)\n",
    "\n",
    "St = Stud(\"Babu\")\n",
    "St.show()"
   ],
   "execution_count":10,
   "outputs":[
    {
     "name":"stdout",
     "text":[
      "Student name Babu\n",
      "Course is Python\n"
     ],
     "output_type":"stream"
    }
   ],
   "metadata":{
    "datalore":{
     "node_id":"RBg8ACQaGGVJHDPAHobbb2",
     "type":"CODE",
     "hide_input_from_viewers":false,
     "hide_output_from_viewers":false
    }
   }
  },
  {
   "cell_type":"code",
   "source":[
    "#Regular Expressions\n",
    "import re\n",
    "str1 = \"This is Python Class at 7AM and the location is TNagar, phone is 123456\"\n",
    "res = re.match(r\"\\w\",str1)\n",
    "print(res)\n",
    "res1 = re.search(r\"\\w+\",str1)\n",
    "print(res1)\n",
    "res2 = re.findall(r\"\\d+\",str1)\n",
    "print(res2)"
   ],
   "execution_count":30,
   "outputs":[
    {
     "name":"stdout",
     "text":[
      "<re.Match object; span=(0, 1), match='T'>\n",
      "<re.Match object; span=(0, 4), match='This'>\n",
      "['7', '123456']\n"
     ],
     "output_type":"stream"
    }
   ],
   "metadata":{
    "datalore":{
     "node_id":"3cclrsL3aq36UkuJcN3kkN",
     "type":"CODE",
     "hide_input_from_viewers":false,
     "hide_output_from_viewers":false
    }
   }
  },
  {
   "cell_type":"code",
   "source":[
    "'''\\A\tMatches if the string begins with the given character\t\\Afor \tfor geeks\n",
    "for the world\n",
    "\\b\tMatches if the word begins or ends with the given character. \\b(string) will check for the beginning of the word and (string)\\b will check for the ending of the word.\t\\bge\tgeeks\n",
    "get\n",
    "\\B\tIt is the opposite of the \\b i.e. the string should not start or end with the given regex.\t\\Bge\ttogether\n",
    "forge\n",
    "\\d\tMatches any decimal digit, this is equivalent to the set class [0-9]\t\\d\t123\n",
    "gee1\n",
    "\\D\tMatches any non-digit character, this is equivalent to the set class [^0-9]\t\\D\tgeeks\n",
    "geek1\n",
    "\\s\tMatches any whitespace character.\t\\s\tgee ks\n",
    "a bc a\n",
    "\\S\tMatches any non-whitespace character\t\\S\ta bd\n",
    "abcd\n",
    "\\w\tMatches any alphanumeric character, this is equivalent to the class [a-zA-Z0-9_].\t\\w\t123\n",
    "geeKs4\n",
    "\\W\tMatches any non-alphanumeric character.\t\\W\t>$\n",
    "gee<>\n",
    "\\Z\tMatches if the string ends with the given regex\tab\\Z\tabcdab\n",
    "abababab'''\n",
    "#https:\/\/www.geeksforgeeks.org\/regular-expression-python-examples-set-1\/?ref=lbp"
   ],
   "execution_count":31,
   "outputs":[
    {
     "data":{
      "text\/plain":[
       "'\\\\A\\tMatches if the string begins with the given character\\t\\\\Afor \\tfor geeks\\nfor the world\\n\\x08\\tMatches if the word begins or ends with the given character. \\x08(string) will check for the beginning of the word and (string)\\x08 will check for the ending of the word.\\t\\x08ge\\tgeeks\\nget\\n\\\\B\\tIt is the opposite of the \\x08 i.e. the string should not start or end with the given regex.\\t\\\\Bge\\ttogether\\nforge\\n\\\\d\\tMatches any decimal digit, this is equivalent to the set class [0-9]\\t\\\\d\\t123\\ngee1\\n\\\\D\\tMatches any non-digit character, this is equivalent to the set class [^0-9]\\t\\\\D\\tgeeks\\ngeek1\\n\\\\s\\tMatches any whitespace character.\\t\\\\s\\tgee ks\\na bc a\\n\\\\S\\tMatches any non-whitespace character\\t\\\\S\\ta bd\\nabcd\\n\\\\w\\tMatches any alphanumeric character, this is equivalent to the class [a-zA-Z0-9_].\\t\\\\w\\t123\\ngeeKs4\\n\\\\W\\tMatches any non-alphanumeric character.\\t\\\\W\\t>$\\ngee<>\\n\\\\Z\\tMatches if the string ends with the given regex\\tab\\\\Z\\tabcdab\\nabababab'"
      ]
     },
     "metadata":{
      
     },
     "output_type":"display_data"
    }
   ],
   "metadata":{
    "datalore":{
     "node_id":"3gAFn1GboonJ1Ezu1lhkQi",
     "type":"CODE",
     "hide_input_from_viewers":false,
     "hide_output_from_viewers":false
    }
   }
  },
  {
   "cell_type":"code",
   "source":[
    "#13 Jan\n",
    "#Decorators\n",
    "def Fita(c1): #Functions as objects\n",
    "    return c1.upper()\n",
    "print(Fita(\"Python\"))\n",
    "\n",
    "F = Fita\n",
    "print(F(\"Python\"))"
   ],
   "execution_count":1,
   "outputs":[
    {
     "name":"stdout",
     "text":[
      "PYTHON\n",
      "PYTHON\n"
     ],
     "output_type":"stream"
    }
   ],
   "metadata":{
    "datalore":{
     "node_id":"D5mMBODKD5uqMtLIRZbvpq",
     "type":"CODE",
     "hide_input_from_viewers":false,
     "hide_output_from_viewers":false
    }
   }
  },
  {
   "cell_type":"code",
   "source":[
    "def Fita(c1): #passing the functions as parameters\n",
    "    return c1.upper()\n",
    "def Academy(c1):\n",
    "    return c1.lower()\n",
    "def Course(fun):\n",
    "    cou = fun(\"Python\")\n",
    "    print(cou)\n",
    "\n",
    "Course(Fita)\n",
    "Course(Academy)"
   ],
   "execution_count":3,
   "outputs":[
    {
     "name":"stdout",
     "text":[
      "PYTHON\n",
      "python\n"
     ],
     "output_type":"stream"
    }
   ],
   "metadata":{
    "datalore":{
     "node_id":"IrER4mJhSaNcUzmpH57MAl",
     "type":"CODE",
     "hide_input_from_viewers":false,
     "hide_output_from_viewers":false
    }
   }
  },
  {
   "cell_type":"code",
   "source":[
    "def fun_add(x): #returning functions from another functions\n",
    "    def add(y):\n",
    "        return x+y\n",
    "    return add\n",
    "ad = fun_add(10)\n",
    "print(ad(5))"
   ],
   "execution_count":5,
   "outputs":[
    {
     "name":"stdout",
     "text":[
      "15\n"
     ],
     "output_type":"stream"
    }
   ],
   "metadata":{
    "datalore":{
     "node_id":"NC1jbaeFGI1mO9wRuiVoaA",
     "type":"CODE",
     "hide_input_from_viewers":false,
     "hide_output_from_viewers":false
    }
   }
  },
  {
   "cell_type":"code",
   "source":[
    "def Bank(f):\n",
    "    def Cash():\n",
    "        print(\"This is Cash section\")\n",
    "        f()\n",
    "    return Cash\n",
    "@Bank\n",
    "def State():\n",
    "    print(\"This is State bank\")\n",
    "\n",
    "State()"
   ],
   "execution_count":6,
   "outputs":[
    {
     "name":"stdout",
     "text":[
      "This is Cash section\n",
      "This is State bank\n"
     ],
     "output_type":"stream"
    }
   ],
   "metadata":{
    "datalore":{
     "node_id":"1js0fLXwiC59UqbulkC2Zx",
     "type":"CODE",
     "hide_input_from_viewers":false,
     "hide_output_from_viewers":false
    }
   }
  },
  {
   "cell_type":"code",
   "source":[
    "def Cal(fun):\n",
    "    def inner(a,b):\n",
    "        print(a, \"and\", b)\n",
    "        if b==0:\n",
    "            print(\"This can't be divide\")\n",
    "            return\n",
    "        return fun(a,b)\n",
    "    return inner\n",
    "@Cal\n",
    "def divide(a,b):\n",
    "    print(a\/b)\n",
    "\n",
    "divide(5,4)\n",
    "divide(6,0)"
   ],
   "execution_count":9,
   "outputs":[
    {
     "name":"stdout",
     "text":[
      "5 and 4\n",
      "1.25\n",
      "6 and 0\n",
      "This can't be divide\n"
     ],
     "output_type":"stream"
    }
   ],
   "metadata":{
    "datalore":{
     "node_id":"60dwuYVyh310IGsDBxPHz4",
     "type":"CODE",
     "hide_input_from_viewers":false,
     "hide_output_from_viewers":false
    }
   }
  },
  {
   "cell_type":"code",
   "source":[
    "#chaining decorators\n",
    "def star(fun):\n",
    "    def inner(*args,**kwargs):\n",
    "        print(\"*\"*20)\n",
    "        fun(*args,**kwargs)\n",
    "        print(\"*\"*20)\n",
    "    return inner\n",
    "\n",
    "def sar(fun):\n",
    "    def inner(*args,**kwargs):\n",
    "        print(\"&\"*20)\n",
    "        fun(*args,**kwargs)\n",
    "        print(\"&\"*20)\n",
    "    return inner\n",
    "\n",
    "@star\n",
    "@sar\n",
    "def shape(m):\n",
    "    print(m)\n",
    "\n",
    "shape(\"Ptyhon class\")"
   ],
   "execution_count":10,
   "outputs":[
    {
     "name":"stdout",
     "text":[
      "********************\n",
      "&&&&&&&&&&&&&&&&&&&&\n",
      "Ptyhon class\n",
      "&&&&&&&&&&&&&&&&&&&&\n",
      "********************\n"
     ],
     "output_type":"stream"
    }
   ],
   "metadata":{
    "datalore":{
     "node_id":"6memDznVzGVgj2hkGBNNEL",
     "type":"CODE",
     "hide_input_from_viewers":false,
     "hide_output_from_viewers":false
    }
   }
  },
  {
   "cell_type":"code",
   "source":[
    "#File Handling\n",
    "\n",
    "f1 = open('fita.txt','x') #creating the file\n",
    "f1.close()"
   ],
   "execution_count":2,
   "outputs":[
    
   ],
   "metadata":{
    "datalore":{
     "node_id":"4BrV6bSdsoHcPF8ki0pqKY",
     "type":"CODE",
     "hide_input_from_viewers":false,
     "hide_output_from_viewers":false
    }
   }
  },
  {
   "cell_type":"code",
   "source":[
    "f2 = open('fitadoc.txt','w')\n",
    "f2.write(\"This is python class\")\n",
    "f2.close()"
   ],
   "execution_count":5,
   "outputs":[
    
   ],
   "metadata":{
    "datalore":{
     "node_id":"0tLfDFLInHXSMJR5TG0nbF",
     "type":"CODE",
     "hide_input_from_viewers":false,
     "hide_output_from_viewers":false
    }
   }
  },
  {
   "cell_type":"code",
   "source":[
    "f3 = open('fitadoc.txt','r')\n",
    "print(f3.read())\n",
    "f3.close()"
   ],
   "execution_count":6,
   "outputs":[
    {
     "name":"stdout",
     "text":[
      "This is python class\n"
     ],
     "output_type":"stream"
    }
   ],
   "metadata":{
    "datalore":{
     "node_id":"u5QngfSiCRew8MySYZ9cQq",
     "type":"CODE",
     "hide_input_from_viewers":false,
     "hide_output_from_viewers":false
    }
   }
  },
  {
   "cell_type":"code",
   "source":[
    "f4 = open('fitadoc.txt','a')\n",
    "f4.write(\"This is new class for python and django\")\n",
    "f4 = open('fitadoc.txt','r')\n",
    "print(f4.read())\n",
    "f4.close()"
   ],
   "execution_count":9,
   "outputs":[
    {
     "name":"stdout",
     "text":[
      "This is new class for python and djangoThis is new class for python and django\n"
     ],
     "output_type":"stream"
    }
   ],
   "metadata":{
    "datalore":{
     "node_id":"RyEIdOHUpnVqtx77vprPbj",
     "type":"CODE",
     "hide_input_from_viewers":false,
     "hide_output_from_viewers":false
    }
   }
  },
  {
   "cell_type":"code",
   "source":[
    "my_list1 = [\"Mr.A\",\"Mr.B\",\"Mr.C\"]\n",
    "f5 = open('fitadoc.txt','w')\n",
    "f5.writelines(my_list1)\n",
    "f5.writelines(\"this is python class and this is for file handling. Also, this is useful for writelines and multiple line show\")\n",
    "f5.close()\n",
    "f5 = open('fitadoc.txt','r')\n",
    "print(f5.read())\n",
    "f5.close()"
   ],
   "execution_count":14,
   "outputs":[
    {
     "name":"stdout",
     "text":[
      "Mr.AMr.BMr.Cthis is python class and this is for file handling. Also, this is useful for writelines and multiple line show\n"
     ],
     "output_type":"stream"
    }
   ],
   "metadata":{
    "datalore":{
     "node_id":"WU9wv4kGrwyB7veVh5miLN",
     "type":"CODE",
     "hide_input_from_viewers":false,
     "hide_output_from_viewers":false
    }
   }
  },
  {
   "cell_type":"code",
   "source":[
    "name = \"Dineshkumar\"\n",
    "with open('fitadoc.txt','w') as f6:\n",
    "    f6.write(name)\n",
    "with open('fitadoc.txt','r') as f6:\n",
    "    print(f6.read())"
   ],
   "execution_count":15,
   "outputs":[
    {
     "name":"stdout",
     "text":[
      "Dineshkumar\n"
     ],
     "output_type":"stream"
    }
   ],
   "metadata":{
    "datalore":{
     "node_id":"pVgSS2fW0l4wY6ygkeSbRK",
     "type":"CODE",
     "hide_input_from_viewers":false,
     "hide_output_from_viewers":false
    }
   }
  },
  {
   "cell_type":"code",
   "source":[
    "import os\n",
    "\n",
    "oldname = r\"fitadoc.txt\"\n",
    "newname = r\"pythondoc.txt\"\n",
    "\n",
    "os.rename(oldname,newname)"
   ],
   "execution_count":16,
   "outputs":[
    
   ],
   "metadata":{
    "datalore":{
     "node_id":"KIID2gXpFq5T7vj6duD9oM",
     "type":"CODE",
     "hide_input_from_viewers":false,
     "hide_output_from_viewers":false
    }
   }
  },
  {
   "cell_type":"code",
   "source":[
    "import shutil\n",
    "\n",
    "v1 = r'pythondoc.txt'\n",
    "v2 = r'sciencedoc.txt'\n",
    "shutil.copy(v1,v2)"
   ],
   "execution_count":17,
   "outputs":[
    {
     "data":{
      "text\/plain":[
       "'sciencedoc.txt'"
      ]
     },
     "metadata":{
      
     },
     "output_type":"display_data"
    }
   ],
   "metadata":{
    "datalore":{
     "node_id":"443ZcKTlXxIsIVUNJRzx3p",
     "type":"CODE",
     "hide_input_from_viewers":false,
     "hide_output_from_viewers":false
    }
   }
  },
  {
   "cell_type":"code",
   "source":[
    "import os\n",
    "os.remove(r'sciencedoc.txt')"
   ],
   "execution_count":18,
   "outputs":[
    
   ],
   "metadata":{
    "datalore":{
     "node_id":"qJqdjy7vteOXuAB9AOuL5I",
     "type":"CODE",
     "hide_input_from_viewers":false,
     "hide_output_from_viewers":false
    }
   }
  }
 ],
 "metadata":{
  "kernelspec":{
   "display_name":"Python",
   "language":"python",
   "name":"python"
  },
  "datalore":{
   "version":1,
   "computation_mode":"JUPYTER",
   "package_manager":"pip",
   "base_environment":"default",
   "packages":[
    
   ]
  }
 },
 "nbformat":4,
 "nbformat_minor":4
}