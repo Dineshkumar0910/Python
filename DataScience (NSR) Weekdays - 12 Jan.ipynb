{
 "cells":[
  {
   "cell_type":"code",
   "source":[
    "#variables\n",
    "x = 10\n",
    "print(x)\n",
    "print(type(x))\n",
    "y = 43.7\n",
    "print(y)\n",
    "print(type(y))\n",
    "z = \"Fita\"\n",
    "print(z)\n",
    "print(type(z))"
   ],
   "execution_count":3,
   "outputs":[
    {
     "name":"stdout",
     "text":[
      "10\n",
      "<class 'int'>\n",
      "43.7\n",
      "<class 'float'>\n",
      "Fita\n",
      "<class 'str'>\n"
     ],
     "output_type":"stream"
    }
   ],
   "metadata":{
    "datalore":{
     "node_id":"3O4xQ7Y0DYuPQonJEKka8g",
     "type":"CODE",
     "hide_input_from_viewers":false,
     "hide_output_from_viewers":false
    }
   }
  },
  {
   "cell_type":"code",
   "source":[
    "#Python - integer, float, string Adv - List, Tuple, Set, Dicionary\n",
    "#Numpy, Pandas, matplotlib, poltly"
   ],
   "execution_count":null,
   "outputs":[
    
   ],
   "metadata":{
    "datalore":{
     "node_id":"T9adqb5wdbI7XN4SwC4wbV",
     "type":"CODE",
     "hide_input_from_viewers":false,
     "hide_output_from_viewers":false
    }
   }
  },
  {
   "cell_type":"code",
   "source":[
    "a = int(input())\n",
    "print(a)\n",
    "print(type(a))"
   ],
   "execution_count":6,
   "outputs":[
    {
     "name":"stdout",
     "text":[
      " 9\n",
      "9\n",
      "<class 'int'>\n"
     ],
     "output_type":"stream"
    }
   ],
   "metadata":{
    "datalore":{
     "node_id":"Pwywtwuv5sbwhP4gTtrnN3",
     "type":"CODE",
     "hide_input_from_viewers":false,
     "hide_output_from_viewers":false
    }
   }
  },
  {
   "cell_type":"code",
   "source":[
    "#Arithmetic operators (+,-,*,\/,%)\n",
    "a = 10\n",
    "b = 5.2\n",
    "print(a-b)\n",
    "print(a+b)\n",
    "print(a*b)\n",
    "print(a\/b)\n",
    "print(a%b)"
   ],
   "execution_count":7,
   "outputs":[
    {
     "name":"stdout",
     "text":[
      "4.8\n",
      "15.2\n",
      "52.0\n",
      "1.923076923076923\n",
      "4.8\n"
     ],
     "output_type":"stream"
    }
   ],
   "metadata":{
    "datalore":{
     "node_id":"FT8AGfTyzXq291EFbIJCOC",
     "type":"CODE",
     "hide_input_from_viewers":false,
     "hide_output_from_viewers":false
    }
   }
  },
  {
   "cell_type":"code",
   "source":[
    "#Comparison operators(<,<=,>,>=,==,!=)\n",
    "a = 10\n",
    "b = 5.2\n",
    "c = 10\n",
    "print(a<b)\n",
    "print(a<=c)\n",
    "print(a>b)\n",
    "print(a>=b)\n",
    "print(a==c)\n",
    "print(a!=c)"
   ],
   "execution_count":9,
   "outputs":[
    {
     "name":"stdout",
     "text":[
      "False\n",
      "True\n",
      "True\n",
      "True\n",
      "True\n",
      "False\n"
     ],
     "output_type":"stream"
    }
   ],
   "metadata":{
    "datalore":{
     "node_id":"uQZLICtsbm5n2Bp8HPqHeX",
     "type":"CODE",
     "hide_input_from_viewers":false,
     "hide_output_from_viewers":false
    }
   }
  },
  {
   "cell_type":"code",
   "source":[
    "# =, +=, -=, \/=, %=\n",
    "a = 10\n",
    "a+=10#(a= a+10)\n",
    "print(a)"
   ],
   "execution_count":11,
   "outputs":[
    {
     "name":"stdout",
     "text":[
      "20\n"
     ],
     "output_type":"stream"
    }
   ],
   "metadata":{
    "datalore":{
     "node_id":"4Z0Qx5zKtMdAJmKSyPNhRe",
     "type":"CODE",
     "hide_input_from_viewers":false,
     "hide_output_from_viewers":false
    }
   }
  },
  {
   "cell_type":"code",
   "source":[
    "#membership operator\n",
    "fita = [\"python\",\"java\",\"html\",\"c++\"]\n",
    "if \"python\" in fita:\n",
    "    print(\"yes, it is available\")"
   ],
   "execution_count":15,
   "outputs":[
    {
     "name":"stdout",
     "text":[
      "yes, it is available\n"
     ],
     "output_type":"stream"
    }
   ],
   "metadata":{
    "datalore":{
     "node_id":"HkGHxuZuI6kRyOe2jXFa7Y",
     "type":"CODE",
     "hide_input_from_viewers":false,
     "hide_output_from_viewers":false
    }
   }
  },
  {
   "cell_type":"code",
   "source":[
    "#identity operator\n",
    "a = 10\n",
    "b = 5\n",
    "c = 10\n",
    "print(a is not b)\n",
    "print(a is c)"
   ],
   "execution_count":17,
   "outputs":[
    {
     "name":"stdout",
     "text":[
      "True\n",
      "True\n"
     ],
     "output_type":"stream"
    }
   ],
   "metadata":{
    "datalore":{
     "node_id":"5FDPqpDEeh6sH49CiB8bEl",
     "type":"CODE",
     "hide_input_from_viewers":false,
     "hide_output_from_viewers":false
    }
   }
  },
  {
   "cell_type":"code",
   "source":[
    "sum = (a + \n",
    "      b + \n",
    "      c)\n",
    "print(sum)"
   ],
   "execution_count":19,
   "outputs":[
    {
     "name":"stdout",
     "text":[
      "25\n"
     ],
     "output_type":"stream"
    }
   ],
   "metadata":{
    "datalore":{
     "node_id":"wXVXYWlGZk0lW28PA2t55k",
     "type":"CODE",
     "hide_input_from_viewers":false,
     "hide_output_from_viewers":false
    }
   }
  },
  {
   "cell_type":"code",
   "source":[
    "(2+5)-4*(6\/20)#operator precedence"
   ],
   "execution_count":24,
   "outputs":[
    {
     "data":{
      "text\/plain":[
       "5.8"
      ]
     },
     "metadata":{
      
     },
     "output_type":"display_data"
    }
   ],
   "metadata":{
    "datalore":{
     "node_id":"em0xNqfojvahg4aS0tVeSa",
     "type":"CODE",
     "hide_input_from_viewers":false,
     "hide_output_from_viewers":false
    }
   }
  }
 ],
 "metadata":{
  "kernelspec":{
   "display_name":"Python",
   "language":"python",
   "name":"python"
  },
  "datalore":{
   "version":1,
   "computation_mode":"JUPYTER",
   "package_manager":"pip",
   "base_environment":"default",
   "packages":[
    
   ]
  }
 },
 "nbformat":4,
 "nbformat_minor":4
}