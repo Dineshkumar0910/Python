{
 "cells":[
  {
   "cell_type":"code",
   "source":[
    "#Encapsulation - protection of data members using Acess Specifiers\n",
    "#private\n",
    "\n",
    "class Student:\n",
    "    def __init__(self,name,age):\n",
    "        self.name = name\n",
    "        self.__age = age #private\n",
    "\n",
    "Stu = Student('Jeeva',24)\n",
    "print(Stu.name)\n",
    "print(Stu.__age)"
   ],
   "execution_count":3,
   "outputs":[
    {
     "name":"stdout",
     "text":[
      "Jeeva\n"
     ],
     "output_type":"stream"
    },
    {
     "ename":"AttributeError",
     "evalue":"AttributeError: 'Student' object has no attribute '__age'",
     "traceback":[
      "\u001b[0;31m---------------------------------------------------------------------------",
      "Traceback (most recent call last)",
      "    at line 11 in <module>",
      "AttributeError: 'Student' object has no attribute '__age'"
     ],
     "output_type":"error"
    }
   ],
   "metadata":{
    "datalore":{
     "node_id":"cn0NdnixYqCYWWYpbKOZa8",
     "type":"CODE",
     "hide_input_from_viewers":false,
     "hide_output_from_viewers":false
    }
   }
  },
  {
   "cell_type":"code",
   "source":[
    "class Student:\n",
    "    def __init__(self,name,age):\n",
    "        self.name = name\n",
    "        self.__age = age\n",
    "    def fun(self):\n",
    "        print(\"Student name is\",self.name,\"and age is\",self.__age)\n",
    "\n",
    "S = Student(\"Jeeva\",24)\n",
    "S.fun()"
   ],
   "execution_count":6,
   "outputs":[
    {
     "name":"stdout",
     "text":[
      "Student name is Jeeva and age is 24\n"
     ],
     "output_type":"stream"
    }
   ],
   "metadata":{
    "datalore":{
     "node_id":"vGFx4ONO04f4T97hKiZbnM",
     "type":"CODE",
     "hide_input_from_viewers":false,
     "hide_output_from_viewers":false
    }
   }
  },
  {
   "cell_type":"code",
   "source":[
    "#Protected\n",
    "class Fita:\n",
    "    def __init__(self):\n",
    "        self._Course = \"Python\"\n",
    "\n",
    "class Stud(Fita):\n",
    "    def __init__(self,name):\n",
    "        self.name = name\n",
    "        Fita.__init__(self)\n",
    "    def show(self):\n",
    "        print(\"Student name\",self.name)\n",
    "        print(\"Course is\",self._Course)\n",
    "\n",
    "St = Stud(\"Babu\")\n",
    "St.show()"
   ],
   "execution_count":10,
   "outputs":[
    {
     "name":"stdout",
     "text":[
      "Student name Babu\n",
      "Course is Python\n"
     ],
     "output_type":"stream"
    }
   ],
   "metadata":{
    "datalore":{
     "node_id":"RBg8ACQaGGVJHDPAHobbb2",
     "type":"CODE",
     "hide_input_from_viewers":false,
     "hide_output_from_viewers":false
    }
   }
  },
  {
   "cell_type":"code",
   "source":[
    "#Regular Expressions\n",
    "import re\n",
    "str1 = \"This is Python Class at 7AM and the location is TNagar, phone is 123456\"\n",
    "res = re.match(r\"\\w\",str1)\n",
    "print(res)\n",
    "res1 = re.search(r\"\\w+\",str1)\n",
    "print(res1)\n",
    "res2 = re.findall(r\"\\d+\",str1)\n",
    "print(res2)"
   ],
   "execution_count":30,
   "outputs":[
    {
     "name":"stdout",
     "text":[
      "<re.Match object; span=(0, 1), match='T'>\n",
      "<re.Match object; span=(0, 4), match='This'>\n",
      "['7', '123456']\n"
     ],
     "output_type":"stream"
    }
   ],
   "metadata":{
    "datalore":{
     "node_id":"3cclrsL3aq36UkuJcN3kkN",
     "type":"CODE",
     "hide_input_from_viewers":false,
     "hide_output_from_viewers":false
    }
   }
  },
  {
   "cell_type":"code",
   "source":[
    "'''\\A\tMatches if the string begins with the given character\t\\Afor \tfor geeks\n",
    "for the world\n",
    "\\b\tMatches if the word begins or ends with the given character. \\b(string) will check for the beginning of the word and (string)\\b will check for the ending of the word.\t\\bge\tgeeks\n",
    "get\n",
    "\\B\tIt is the opposite of the \\b i.e. the string should not start or end with the given regex.\t\\Bge\ttogether\n",
    "forge\n",
    "\\d\tMatches any decimal digit, this is equivalent to the set class [0-9]\t\\d\t123\n",
    "gee1\n",
    "\\D\tMatches any non-digit character, this is equivalent to the set class [^0-9]\t\\D\tgeeks\n",
    "geek1\n",
    "\\s\tMatches any whitespace character.\t\\s\tgee ks\n",
    "a bc a\n",
    "\\S\tMatches any non-whitespace character\t\\S\ta bd\n",
    "abcd\n",
    "\\w\tMatches any alphanumeric character, this is equivalent to the class [a-zA-Z0-9_].\t\\w\t123\n",
    "geeKs4\n",
    "\\W\tMatches any non-alphanumeric character.\t\\W\t>$\n",
    "gee<>\n",
    "\\Z\tMatches if the string ends with the given regex\tab\\Z\tabcdab\n",
    "abababab'''\n",
    "#https:\/\/www.geeksforgeeks.org\/regular-expression-python-examples-set-1\/?ref=lbp"
   ],
   "execution_count":31,
   "outputs":[
    {
     "data":{
      "text\/plain":[
       "'\\\\A\\tMatches if the string begins with the given character\\t\\\\Afor \\tfor geeks\\nfor the world\\n\\x08\\tMatches if the word begins or ends with the given character. \\x08(string) will check for the beginning of the word and (string)\\x08 will check for the ending of the word.\\t\\x08ge\\tgeeks\\nget\\n\\\\B\\tIt is the opposite of the \\x08 i.e. the string should not start or end with the given regex.\\t\\\\Bge\\ttogether\\nforge\\n\\\\d\\tMatches any decimal digit, this is equivalent to the set class [0-9]\\t\\\\d\\t123\\ngee1\\n\\\\D\\tMatches any non-digit character, this is equivalent to the set class [^0-9]\\t\\\\D\\tgeeks\\ngeek1\\n\\\\s\\tMatches any whitespace character.\\t\\\\s\\tgee ks\\na bc a\\n\\\\S\\tMatches any non-whitespace character\\t\\\\S\\ta bd\\nabcd\\n\\\\w\\tMatches any alphanumeric character, this is equivalent to the class [a-zA-Z0-9_].\\t\\\\w\\t123\\ngeeKs4\\n\\\\W\\tMatches any non-alphanumeric character.\\t\\\\W\\t>$\\ngee<>\\n\\\\Z\\tMatches if the string ends with the given regex\\tab\\\\Z\\tabcdab\\nabababab'"
      ]
     },
     "metadata":{
      
     },
     "output_type":"display_data"
    }
   ],
   "metadata":{
    "datalore":{
     "node_id":"3gAFn1GboonJ1Ezu1lhkQi",
     "type":"CODE",
     "hide_input_from_viewers":false,
     "hide_output_from_viewers":false
    }
   }
  },
  {
   "cell_type":"code",
   "source":[
    "#13 Jan\n",
    "#Decorators\n",
    "def Fita(c1): #Functions as objects\n",
    "    return c1.upper()\n",
    "print(Fita(\"Python\"))\n",
    "\n",
    "F = Fita\n",
    "print(F(\"Python\"))"
   ],
   "execution_count":1,
   "outputs":[
    {
     "name":"stdout",
     "text":[
      "PYTHON\n",
      "PYTHON\n"
     ],
     "output_type":"stream"
    }
   ],
   "metadata":{
    "datalore":{
     "node_id":"D5mMBODKD5uqMtLIRZbvpq",
     "type":"CODE",
     "hide_input_from_viewers":false,
     "hide_output_from_viewers":false
    }
   }
  },
  {
   "cell_type":"code",
   "source":[
    "def Fita(c1): #passing the functions as parameters\n",
    "    return c1.upper()\n",
    "def Academy(c1):\n",
    "    return c1.lower()\n",
    "def Course(fun):\n",
    "    cou = fun(\"Python\")\n",
    "    print(cou)\n",
    "\n",
    "Course(Fita)\n",
    "Course(Academy)"
   ],
   "execution_count":3,
   "outputs":[
    {
     "name":"stdout",
     "text":[
      "PYTHON\n",
      "python\n"
     ],
     "output_type":"stream"
    }
   ],
   "metadata":{
    "datalore":{
     "node_id":"IrER4mJhSaNcUzmpH57MAl",
     "type":"CODE",
     "hide_input_from_viewers":false,
     "hide_output_from_viewers":false
    }
   }
  },
  {
   "cell_type":"code",
   "source":[
    "def fun_add(x): #returning functions from another functions\n",
    "    def add(y):\n",
    "        return x+y\n",
    "    return add\n",
    "ad = fun_add(10)\n",
    "print(ad(5))"
   ],
   "execution_count":5,
   "outputs":[
    {
     "name":"stdout",
     "text":[
      "15\n"
     ],
     "output_type":"stream"
    }
   ],
   "metadata":{
    "datalore":{
     "node_id":"NC1jbaeFGI1mO9wRuiVoaA",
     "type":"CODE",
     "hide_input_from_viewers":false,
     "hide_output_from_viewers":false
    }
   }
  },
  {
   "cell_type":"code",
   "source":[
    "def Bank(f):\n",
    "    def Cash():\n",
    "        print(\"This is Cash section\")\n",
    "        f()\n",
    "    return Cash\n",
    "@Bank\n",
    "def State():\n",
    "    print(\"This is State bank\")\n",
    "\n",
    "State()"
   ],
   "execution_count":6,
   "outputs":[
    {
     "name":"stdout",
     "text":[
      "This is Cash section\n",
      "This is State bank\n"
     ],
     "output_type":"stream"
    }
   ],
   "metadata":{
    "datalore":{
     "node_id":"1js0fLXwiC59UqbulkC2Zx",
     "type":"CODE",
     "hide_input_from_viewers":false,
     "hide_output_from_viewers":false
    }
   }
  },
  {
   "cell_type":"code",
   "source":[
    "def Cal(fun):\n",
    "    def inner(a,b):\n",
    "        print(a, \"and\", b)\n",
    "        if b==0:\n",
    "            print(\"This can't be divide\")\n",
    "            return\n",
    "        return fun(a,b)\n",
    "    return inner\n",
    "@Cal\n",
    "def divide(a,b):\n",
    "    print(a\/b)\n",
    "\n",
    "divide(5,4)\n",
    "divide(6,0)"
   ],
   "execution_count":9,
   "outputs":[
    {
     "name":"stdout",
     "text":[
      "5 and 4\n",
      "1.25\n",
      "6 and 0\n",
      "This can't be divide\n"
     ],
     "output_type":"stream"
    }
   ],
   "metadata":{
    "datalore":{
     "node_id":"60dwuYVyh310IGsDBxPHz4",
     "type":"CODE",
     "hide_input_from_viewers":false,
     "hide_output_from_viewers":false
    }
   }
  },
  {
   "cell_type":"code",
   "source":[
    "#chaining decorators\n",
    "def star(fun):\n",
    "    def inner(*args,**kwargs):\n",
    "        print(\"*\"*20)\n",
    "        fun(*args,**kwargs)\n",
    "        print(\"*\"*20)\n",
    "    return inner\n",
    "\n",
    "def sar(fun):\n",
    "    def inner(*args,**kwargs):\n",
    "        print(\"&\"*20)\n",
    "        fun(*args,**kwargs)\n",
    "        print(\"&\"*20)\n",
    "    return inner\n",
    "\n",
    "@star\n",
    "@sar\n",
    "def shape(m):\n",
    "    print(m)\n",
    "\n",
    "shape(\"Ptyhon class\")"
   ],
   "execution_count":10,
   "outputs":[
    {
     "name":"stdout",
     "text":[
      "********************\n",
      "&&&&&&&&&&&&&&&&&&&&\n",
      "Ptyhon class\n",
      "&&&&&&&&&&&&&&&&&&&&\n",
      "********************\n"
     ],
     "output_type":"stream"
    }
   ],
   "metadata":{
    "datalore":{
     "node_id":"6memDznVzGVgj2hkGBNNEL",
     "type":"CODE",
     "hide_input_from_viewers":false,
     "hide_output_from_viewers":false
    }
   }
  },
  {
   "cell_type":"code",
   "source":[
    "#File Handling\n",
    "\n",
    "f1 = open('fita.txt','x') #creating the file\n",
    "f1.close()"
   ],
   "execution_count":2,
   "outputs":[
    
   ],
   "metadata":{
    "datalore":{
     "node_id":"4BrV6bSdsoHcPF8ki0pqKY",
     "type":"CODE",
     "hide_input_from_viewers":false,
     "hide_output_from_viewers":false
    }
   }
  },
  {
   "cell_type":"code",
   "source":[
    "f2 = open('fitadoc.txt','w')\n",
    "f2.write(\"This is python class\")\n",
    "f2.close()"
   ],
   "execution_count":5,
   "outputs":[
    
   ],
   "metadata":{
    "datalore":{
     "node_id":"0tLfDFLInHXSMJR5TG0nbF",
     "type":"CODE",
     "hide_input_from_viewers":false,
     "hide_output_from_viewers":false
    }
   }
  },
  {
   "cell_type":"code",
   "source":[
    "f3 = open('fitadoc.txt','r')\n",
    "print(f3.read())\n",
    "f3.close()"
   ],
   "execution_count":6,
   "outputs":[
    {
     "name":"stdout",
     "text":[
      "This is python class\n"
     ],
     "output_type":"stream"
    }
   ],
   "metadata":{
    "datalore":{
     "node_id":"u5QngfSiCRew8MySYZ9cQq",
     "type":"CODE",
     "hide_input_from_viewers":false,
     "hide_output_from_viewers":false
    }
   }
  },
  {
   "cell_type":"code",
   "source":[
    "f4 = open('fitadoc.txt','a')\n",
    "f4.write(\"This is new class for python and django\")\n",
    "f4 = open('fitadoc.txt','r')\n",
    "print(f4.read())\n",
    "f4.close()"
   ],
   "execution_count":9,
   "outputs":[
    {
     "name":"stdout",
     "text":[
      "This is new class for python and djangoThis is new class for python and django\n"
     ],
     "output_type":"stream"
    }
   ],
   "metadata":{
    "datalore":{
     "node_id":"RyEIdOHUpnVqtx77vprPbj",
     "type":"CODE",
     "hide_input_from_viewers":false,
     "hide_output_from_viewers":false
    }
   }
  },
  {
   "cell_type":"code",
   "source":[
    "my_list1 = [\"Mr.A\",\"Mr.B\",\"Mr.C\"]\n",
    "f5 = open('fitadoc.txt','w')\n",
    "f5.writelines(my_list1)\n",
    "f5.writelines(\"this is python class and this is for file handling. Also, this is useful for writelines and multiple line show\")\n",
    "f5.close()\n",
    "f5 = open('fitadoc.txt','r')\n",
    "print(f5.read())\n",
    "f5.close()"
   ],
   "execution_count":14,
   "outputs":[
    {
     "name":"stdout",
     "text":[
      "Mr.AMr.BMr.Cthis is python class and this is for file handling. Also, this is useful for writelines and multiple line show\n"
     ],
     "output_type":"stream"
    }
   ],
   "metadata":{
    "datalore":{
     "node_id":"WU9wv4kGrwyB7veVh5miLN",
     "type":"CODE",
     "hide_input_from_viewers":false,
     "hide_output_from_viewers":false
    }
   }
  },
  {
   "cell_type":"code",
   "source":[
    "name = \"Dineshkumar\"\n",
    "with open('fitadoc.txt','w') as f6:\n",
    "    f6.write(name)\n",
    "with open('fitadoc.txt','r') as f6:\n",
    "    print(f6.read())"
   ],
   "execution_count":15,
   "outputs":[
    {
     "name":"stdout",
     "text":[
      "Dineshkumar\n"
     ],
     "output_type":"stream"
    }
   ],
   "metadata":{
    "datalore":{
     "node_id":"pVgSS2fW0l4wY6ygkeSbRK",
     "type":"CODE",
     "hide_input_from_viewers":false,
     "hide_output_from_viewers":false
    }
   }
  },
  {
   "cell_type":"code",
   "source":[
    "import os\n",
    "\n",
    "oldname = r\"fitadoc.txt\"\n",
    "newname = r\"pythondoc.txt\"\n",
    "\n",
    "os.rename(oldname,newname)"
   ],
   "execution_count":16,
   "outputs":[
    
   ],
   "metadata":{
    "datalore":{
     "node_id":"KIID2gXpFq5T7vj6duD9oM",
     "type":"CODE",
     "hide_input_from_viewers":false,
     "hide_output_from_viewers":false
    }
   }
  },
  {
   "cell_type":"code",
   "source":[
    "import shutil\n",
    "\n",
    "v1 = r'pythondoc.txt'\n",
    "v2 = r'sciencedoc.txt'\n",
    "shutil.copy(v1,v2)"
   ],
   "execution_count":17,
   "outputs":[
    {
     "data":{
      "text\/plain":[
       "'sciencedoc.txt'"
      ]
     },
     "metadata":{
      
     },
     "output_type":"display_data"
    }
   ],
   "metadata":{
    "datalore":{
     "node_id":"443ZcKTlXxIsIVUNJRzx3p",
     "type":"CODE",
     "hide_input_from_viewers":false,
     "hide_output_from_viewers":false
    }
   }
  },
  {
   "cell_type":"code",
   "source":[
    "import os\n",
    "os.remove(r'sciencedoc.txt')"
   ],
   "execution_count":18,
   "outputs":[
    
   ],
   "metadata":{
    "datalore":{
     "node_id":"qJqdjy7vteOXuAB9AOuL5I",
     "type":"CODE",
     "hide_input_from_viewers":false,
     "hide_output_from_viewers":false
    }
   }
  },
  {
   "cell_type":"code",
   "source":[
    "''' 3. Write a Python program to print expected output using break statement from the data given below.    \n",
    "    Data:\n",
    "        country = [\"India\", \"Canada\", \"Sweden\"]      \n",
    "    Expected Output: \n",
    "    India\n",
    "    Canada '''\n",
    "country = [\"India\", \"Canada\", \"Sweden\"]\n",
    "for x in country:\n",
    "    print(x)\n",
    "    if x == \"Canada\":\n",
    "        break"
   ],
   "execution_count":5,
   "outputs":[
    {
     "name":"stdout",
     "text":[
      "India\n",
      "Canada\n"
     ],
     "output_type":"stream"
    }
   ],
   "metadata":{
    "datalore":{
     "node_id":"9zw9LaN7nzDb6eU2ZkLXL3",
     "type":"CODE",
     "hide_input_from_viewers":false,
     "hide_output_from_viewers":false
    }
   }
  },
  {
   "cell_type":"code",
   "source":[
    "string = \"banana\"\n",
    "for i in range(len(string)):\n",
    "    print(string[i])"
   ],
   "execution_count":6,
   "outputs":[
    {
     "name":"stdout",
     "text":[
      "b\n",
      "a\n",
      "n\n",
      "a\n",
      "n\n",
      "a\n"
     ],
     "output_type":"stream"
    }
   ],
   "metadata":{
    "datalore":{
     "node_id":"xpPTRnOI3WdEB09oTRvAqE",
     "type":"CODE",
     "hide_input_from_viewers":false,
     "hide_output_from_viewers":false
    }
   }
  },
  {
   "cell_type":"code",
   "source":[
    "''' 6. Write a Python program to print expected output using range in for loop.\n",
    "    Expected Output:\n",
    "    0\n",
    "    1\n",
    "    2\n",
    "    3\n",
    "    4\n",
    "    5 '''\n",
    "for i in range(0,6):\n",
    "    print(i)"
   ],
   "execution_count":9,
   "outputs":[
    {
     "name":"stdout",
     "text":[
      "0\n",
      "1\n",
      "2\n",
      "3\n",
      "4\n",
      "5\n"
     ],
     "output_type":"stream"
    }
   ],
   "metadata":{
    "datalore":{
     "node_id":"EMBUsyuiZPFUuCq13M8j5z",
     "type":"CODE",
     "hide_input_from_viewers":false,
     "hide_output_from_viewers":false
    }
   }
  },
  {
   "cell_type":"code",
   "source":[
    "''' 1. Write a Python function to count the no. of occurances of 4 from the data given below.\n",
    "    Data:\n",
    "        [1, 4, 6, 7, 4]\n",
    "        [1, 4, 6, 4, 7, 4]\n",
    "    Expected Output:\n",
    "        2\n",
    "        3 '''\n",
    "def fita(x):\n",
    "    a = 0\n",
    "    for i in range(len(x)):\n",
    "        if x[i] == 4:\n",
    "            a = a+1\n",
    "    return a\n",
    "\n",
    "print(fita([1, 4, 6, 7, 4]))\n",
    "x = [1, 4, 6, 4, 7, 4]\n",
    "print(fita(x))"
   ],
   "execution_count":12,
   "outputs":[
    {
     "name":"stdout",
     "text":[
      "2\n",
      "3\n"
     ],
     "output_type":"stream"
    }
   ],
   "metadata":{
    "datalore":{
     "node_id":"KgL9tsiQNJ7VBeRQsTBtdL",
     "type":"CODE",
     "hide_input_from_viewers":false,
     "hide_output_from_viewers":false
    }
   }
  },
  {
   "cell_type":"code",
   "source":[
    "a = 0\n",
    "x = [1, 4, 6, 4, 7, 4]\n",
    "for i in range(len(x)):\n",
    "    if x[i] == 4:\n",
    "        a = a + 1\n",
    "print(a)"
   ],
   "execution_count":16,
   "outputs":[
    {
     "name":"stdout",
     "text":[
      "3\n"
     ],
     "output_type":"stream"
    }
   ],
   "metadata":{
    "datalore":{
     "node_id":"QVF5ldzncUK1keq7iraCE3",
     "type":"CODE",
     "hide_input_from_viewers":false,
     "hide_output_from_viewers":false
    }
   }
  },
  {
   "cell_type":"code",
   "source":[
    "''' 10. Write a Python function to find the maximum and minimum numbers from the given list.\n",
    "        Data:\n",
    "            seq = [0, 10, 15, 40, -5, 42, 17, 28, 75]\n",
    "        Expected Output:\n",
    "            (75, -5) '''\n",
    "def cal(x):\n",
    "    a = x[0]\n",
    "    b = x[0]\n",
    "    for n in x:\n",
    "        if n > a:\n",
    "            a = n\n",
    "        elif n < b:\n",
    "            b = n\n",
    "    print(a,b)\n",
    "    return a,b\n",
    "\n",
    "print(cal([0, 10, 15, 40, -5, 42, 17, 28, 75]))"
   ],
   "execution_count":18,
   "outputs":[
    {
     "name":"stdout",
     "text":[
      "75 -5\n",
      "(75, -5)\n"
     ],
     "output_type":"stream"
    }
   ],
   "metadata":{
    "datalore":{
     "node_id":"c6sS825JgU41fiPhTugz4n",
     "type":"CODE",
     "hide_input_from_viewers":false,
     "hide_output_from_viewers":false
    }
   }
  },
  {
   "cell_type":"code",
   "source":[
    "''' 2. Write a Python program to get the least common multiple (LCM) of two positive integers.\n",
    "    Data:\n",
    "        lcm(4, 6)\n",
    "        lcm(15, 27)\n",
    "    Expected Output:\n",
    "        12\n",
    "        135 '''\n",
    "\n",
    "def lcm(x,y):\n",
    "    for n in range(max(x,y),(x*y)+1):\n",
    "        if((n % x == 0) and (n % y ==0)):\n",
    "            return n\n",
    "\n",
    "print(lcm(4,6))\n",
    "print(lcm(15,27))"
   ],
   "execution_count":3,
   "outputs":[
    {
     "name":"stdout",
     "text":[
      "12\n",
      "135\n"
     ],
     "output_type":"stream"
    }
   ],
   "metadata":{
    "datalore":{
     "node_id":"REAEovTN86jQbWnJA5Z7K7",
     "type":"CODE",
     "hide_input_from_viewers":false,
     "hide_output_from_viewers":false
    }
   }
  },
  {
   "cell_type":"code",
   "source":[
    "''' 6. Write a Python program to print all the prime numbers upto a specified number using Sieve of Eratosthenes method.\n",
    "    Data:\n",
    "        x = 10\n",
    "    Expected Output:\n",
    "        2\n",
    "        3\n",
    "        5\n",
    "        7\n",
    "        None '''"
   ],
   "execution_count":null,
   "outputs":[
    
   ],
   "metadata":{
    "datalore":{
     "node_id":"1ubLtbgcEBbdxUtCDPa81O",
     "type":"CODE",
     "hide_input_from_viewers":false,
     "hide_output_from_viewers":false
    }
   }
  },
  {
   "cell_type":"code",
   "source":[
    "# 23 Jan\n",
    "n=5\n",
    "for i in range(n):\n",
    "    for j in range(i):\n",
    "        print(i,end=' ')\n",
    "    print(' ')"
   ],
   "execution_count":1,
   "outputs":[
    {
     "name":"stdout",
     "text":[
      " \n",
      "1  \n",
      "2 2  \n",
      "3 3 3  \n",
      "4 4 4 4  \n"
     ],
     "output_type":"stream"
    }
   ],
   "metadata":{
    "datalore":{
     "node_id":"WSpwVfpfLBcCOtNx6a58Mb",
     "type":"CODE",
     "hide_input_from_viewers":false,
     "hide_output_from_viewers":false
    }
   }
  },
  {
   "cell_type":"code",
   "source":[
    "n=6\n",
    "for i in range(0,n):\n",
    "    for j in range(1, i+1):\n",
    "        print(j,end=' ')\n",
    "    print(' ')"
   ],
   "execution_count":6,
   "outputs":[
    {
     "name":"stdout",
     "text":[
      " \n",
      "1  \n",
      "1 2  \n",
      "1 2 3  \n",
      "1 2 3 4  \n",
      "1 2 3 4 5  \n"
     ],
     "output_type":"stream"
    }
   ],
   "metadata":{
    "datalore":{
     "node_id":"PoVuwlpC8ASWVYvJfW1djG",
     "type":"CODE",
     "hide_input_from_viewers":false,
     "hide_output_from_viewers":false
    }
   }
  },
  {
   "cell_type":"code",
   "source":[
    "n=5\n",
    "x=0\n",
    "for i in range(n,0,-1):\n",
    "    x+=1\n",
    "    for j in range(1,i+1):\n",
    "        print(x,end=' ')\n",
    "    print(' ')"
   ],
   "execution_count":7,
   "outputs":[
    {
     "name":"stdout",
     "text":[
      "1 1 1 1 1  \n",
      "2 2 2 2  \n",
      "3 3 3  \n",
      "4 4  \n",
      "5  \n"
     ],
     "output_type":"stream"
    }
   ],
   "metadata":{
    "datalore":{
     "node_id":"TEnE08Fd0UFX1YIkBxGs1V",
     "type":"CODE",
     "hide_input_from_viewers":false,
     "hide_output_from_viewers":false
    }
   }
  },
  {
   "cell_type":"code",
   "source":[
    "n=6\n",
    "for i in range(n):\n",
    "    for j in range(i):\n",
    "        print(\"*\",end=' ')\n",
    "    print(' ')"
   ],
   "execution_count":9,
   "outputs":[
    {
     "name":"stdout",
     "text":[
      " \n",
      "*  \n",
      "* *  \n",
      "* * *  \n",
      "* * * *  \n",
      "* * * * *  \n"
     ],
     "output_type":"stream"
    }
   ],
   "metadata":{
    "datalore":{
     "node_id":"b4QDUOz74BCLijrFsYhUej",
     "type":"CODE",
     "hide_input_from_viewers":false,
     "hide_output_from_viewers":false
    }
   }
  },
  {
   "cell_type":"code",
   "source":[
    "# 23 Jan\n",
    "n=5\n",
    "for i in range(n,0,-1):\n",
    "    for j in range(i):\n",
    "        print(i%2,end=' ')\n",
    "    print(' ')"
   ],
   "execution_count":13,
   "outputs":[
    {
     "name":"stdout",
     "text":[
      "1 1 1 1 1  \n",
      "0 0 0 0  \n",
      "1 1 1  \n",
      "0 0  \n",
      "1  \n"
     ],
     "output_type":"stream"
    }
   ],
   "metadata":{
    "datalore":{
     "node_id":"wpjNUOtQNBb2loIH698o5x",
     "type":"CODE",
     "hide_input_from_viewers":false,
     "hide_output_from_viewers":false
    }
   }
  },
  {
   "cell_type":"code",
   "source":[
    "# 23 Jan\n",
    "n=5\n",
    "for i in range(n):\n",
    "    for j in range(i):\n",
    "        print(i,end=' ')\n",
    "    print(' ')"
   ],
   "execution_count":15,
   "outputs":[
    {
     "name":"stdout",
     "text":[
      " \n",
      "1 0  \n",
      "2 0 2 1  \n",
      "3 0 3 1 3 2  \n",
      "4 0 4 1 4 2 4 3  \n"
     ],
     "output_type":"stream"
    }
   ],
   "metadata":{
    "datalore":{
     "node_id":"CDJogHqxPkIfV5O1zPS7zE",
     "type":"CODE",
     "hide_input_from_viewers":false,
     "hide_output_from_viewers":false
    }
   }
  },
  {
   "cell_type":"code",
   "source":[
    "n=6\n",
    "for i in range(n,0,-1):\n",
    "    for j in range(i):\n",
    "        print(j+1,end=' ')\n",
    "    print(' ')"
   ],
   "execution_count":21,
   "outputs":[
    {
     "name":"stdout",
     "text":[
      "1 2 3 4 5 6  \n",
      "1 2 3 4 5  \n",
      "1 2 3 4  \n",
      "1 2 3  \n",
      "1 2  \n",
      "1  \n"
     ],
     "output_type":"stream"
    }
   ],
   "metadata":{
    "datalore":{
     "node_id":"FbtzvGxEy6BfqHH6aGPLmL",
     "type":"CODE",
     "hide_input_from_viewers":false,
     "hide_output_from_viewers":false
    }
   }
  },
  {
   "cell_type":"code",
   "source":[
    "n=5\n",
    "for i in range(n):\n",
    "    for j in range(i):\n",
    "        print(\"**\",i,\"**\",end=' ')\n",
    "    print(' ')"
   ],
   "execution_count":23,
   "outputs":[
    {
     "name":"stdout",
     "text":[
      " \n",
      "** 1 **  \n",
      "** 2 ** ** 2 **  \n",
      "** 3 ** ** 3 ** ** 3 **  \n",
      "** 4 ** ** 4 ** ** 4 ** ** 4 **  \n"
     ],
     "output_type":"stream"
    }
   ],
   "metadata":{
    "datalore":{
     "node_id":"zFSPVmz1in4pr4gP3omDCh",
     "type":"CODE",
     "hide_input_from_viewers":false,
     "hide_output_from_viewers":false
    }
   }
  }
 ],
 "metadata":{
  "kernelspec":{
   "display_name":"Python",
   "language":"python",
   "name":"python"
  },
  "datalore":{
   "version":1,
   "computation_mode":"JUPYTER",
   "package_manager":"pip",
   "base_environment":"default",
   "packages":[
    
   ]
  }
 },
 "nbformat":4,
 "nbformat_minor":4
}