{
 "cells":[
  {
   "cell_type":"code",
   "source":[
    "#OOPS\n",
    "class Professor:\n",
    "    def __init__(self, name, gender, subject):  #instance variables\n",
    "        self.name = name\n",
    "        self.gender = gender\n",
    "        self.subject = subject\n",
    "\n",
    "    def display(self):\n",
    "        print(\"Name:\", self.name, \"Gender:\", self.gender, \"Subject:\", self.subject)\n",
    "\n",
    "    def sub(self):\n",
    "        print(self.name, \"belongs to\", self.subject)\n",
    "\n",
    "\n",
    "prof = Professor(\"Dineshkumar\", \"Male\", \"Computer Science\")\n",
    "prof.display()\n",
    "prof.sub()"
   ],
   "execution_count":1,
   "outputs":[
    {
     "name":"stdout",
     "text":[
      "Name: Dineshkumar Gender: Male Subject: Computer Science\n",
      "Dineshkumar belongs to Computer Science\n"
     ],
     "output_type":"stream"
    }
   ],
   "metadata":{
    "datalore":{
     "node_id":"roCXkgrKmEBI5qzEG9VAvj",
     "type":"CODE",
     "hide_input_from_viewers":false,
     "hide_output_from_viewers":false
    }
   }
  },
  {
   "cell_type":"code",
   "source":[
    "class Student:\n",
    "    col_name = \"Anna University\"  #class variables\n",
    "\n",
    "    def __init__(self, name, age):\n",
    "        self.name = name\n",
    "        self.age = age\n",
    "\n",
    "\n",
    "stu1 = Student(\"Lokesh\", 21)\n",
    "print(\"Student:\", stu1.name, stu1.age)  #inst var\n",
    "print(\"CollegeName:\", stu1.col_name)  #class var\n",
    "\n",
    "stu1.name = \"Prakash\"\n",
    "stu1.age = 20\n",
    "stu1.col_name = \"SRM\"\n",
    "print(stu1.name, stu1.age, stu1.col_name)"
   ],
   "execution_count":2,
   "outputs":[
    {
     "name":"stdout",
     "text":[
      "Student: Lokesh 21\n",
      "CollegeName: Anna University\n",
      "Prakash 20 SRM\n"
     ],
     "output_type":"stream"
    }
   ],
   "metadata":{
    "datalore":{
     "node_id":"dOt3GF12LIeAHp082AEiwH",
     "type":"CODE",
     "hide_input_from_viewers":false,
     "hide_output_from_viewers":false
    }
   }
  },
  {
   "cell_type":"code",
   "source":[
    "class Student:\n",
    "    school_name = \"SBOA\"\n",
    "\n",
    "    def __init__(self, name, age):\n",
    "        self.name = name\n",
    "        self.age = age\n",
    "\n",
    "    def show(self):  #instance method\n",
    "        print(\"Student\", self.name, self.age, self.school_name)\n",
    "\n",
    "    def change_age(self, new_age):\n",
    "        self.age = new_age\n",
    "\n",
    "    @classmethod\n",
    "    def change_school_name(cls, new_name):\n",
    "        cls.school_name = new_name\n",
    "\n",
    "\n",
    "stu = Student(\"Priya\", 15)\n",
    "stu.show()\n",
    "stu.change_age(17)  #object property change\n",
    "Student.change_school_name(\"Vellamal\")\n",
    "stu.show()\n",
    "#del stu.age --- deleting object property\n",
    "#print(stu.age)\n",
    "#del stu -- object deletion"
   ],
   "execution_count":3,
   "outputs":[
    {
     "name":"stdout",
     "text":[
      "Student Priya 15 SBOA\n",
      "Student Priya 17 Vellamal\n"
     ],
     "output_type":"stream"
    }
   ],
   "metadata":{
    "datalore":{
     "node_id":"RzGxlyTtp8JBfRG8BPL68D",
     "type":"CODE",
     "hide_input_from_viewers":false,
     "hide_output_from_viewers":false
    }
   }
  },
  {
   "cell_type":"code",
   "source":[
    "#Constructors\n",
    "class Fita:\n",
    "    def __init__(self, name):  #parameterized contructor\n",
    "        print(\"This is constructor\")\n",
    "        self.name = name\n",
    "\n",
    "    def show(self):\n",
    "        print(\"My namme is:\", self.name)\n",
    "\n",
    "\n",
    "s1 = Fita(\"Dinesh\")\n",
    "s1.show()"
   ],
   "execution_count":4,
   "outputs":[
    {
     "name":"stdout",
     "text":[
      "This is constructor\n",
      "My namme is: Dinesh\n"
     ],
     "output_type":"stream"
    }
   ],
   "metadata":{
    "datalore":{
     "node_id":"DkiJDj2hiTZn8IK0E6nPBl",
     "type":"CODE",
     "hide_input_from_viewers":false,
     "hide_output_from_viewers":false
    }
   }
  },
  {
   "cell_type":"code",
   "source":[
    "class Fita:\n",
    "    def fun(self):  #default constructor\n",
    "        print(\"Inside constructor\")\n",
    "\n",
    "\n",
    "F1 = Fita()\n",
    "F1.fun()"
   ],
   "execution_count":5,
   "outputs":[
    {
     "name":"stdout",
     "text":[
      "Inside constructor\n"
     ],
     "output_type":"stream"
    }
   ],
   "metadata":{
    "datalore":{
     "node_id":"8c2zJ9ImzFy7WXQ12g7tGB",
     "type":"CODE",
     "hide_input_from_viewers":false,
     "hide_output_from_viewers":false
    }
   }
  },
  {
   "cell_type":"code",
   "source":[
    "class Fita:\n",
    "    def __init__(self):  #Non-parameterizxed constructor\n",
    "        self.name = \"Python\"\n",
    "        self.day = \"Saturday\"\n",
    "\n",
    "    def show(self):\n",
    "        print(\"Course Name\", self.name, \"Batch:\", self.day)\n",
    "\n",
    "\n",
    "F2 = Fita()\n",
    "F2.show()"
   ],
   "execution_count":6,
   "outputs":[
    {
     "name":"stdout",
     "text":[
      "Course Name Python Batch: Saturday\n"
     ],
     "output_type":"stream"
    }
   ],
   "metadata":{
    "datalore":{
     "node_id":"VNFTmirD5mf5CiDTzqedmG",
     "type":"CODE",
     "hide_input_from_viewers":false,
     "hide_output_from_viewers":false
    }
   }
  },
  {
   "cell_type":"code",
   "source":[
    "class Fita:\n",
    "    def __init__(self, cour_name=\"Python\", day=\"Saturday\"):  #Contructor witj default values\n",
    "        self.cour_name = cour_name\n",
    "        self.day = day\n",
    "\n",
    "    def show(self):\n",
    "        print(\"Course Name\", self.cour_name, \"Batch:\", self.day)\n",
    "\n",
    "    def __del__(self):  #destructor\n",
    "        print(\"object deleted\")\n",
    "\n",
    "\n",
    "F2 = Fita()\n",
    "F2.show()\n",
    "#del F2\n",
    "#F2.show()"
   ],
   "execution_count":7,
   "outputs":[
    {
     "name":"stdout",
     "text":[
      "Course Name Python Batch: Saturday\n"
     ],
     "output_type":"stream"
    }
   ],
   "metadata":{
    "datalore":{
     "node_id":"HfvXugPJEPmaBwkTm7jtLL",
     "type":"CODE",
     "hide_input_from_viewers":false,
     "hide_output_from_viewers":false
    }
   }
  },
  {
   "cell_type":"code",
   "source":[
    "#18 Dec - Pratice\n",
    "#1. Write a Python program to check whether the list is empty or not.\n",
    "x = []\n",
    "if not x:\n",
    "    print(\"this is empty\")"
   ],
   "execution_count":8,
   "outputs":[
    {
     "name":"stdout",
     "text":[
      "this is empty\n"
     ],
     "output_type":"stream"
    }
   ],
   "metadata":{
    "datalore":{
     "node_id":"YQLSytpHxSxsp84JA8ATbG",
     "type":"CODE",
     "hide_input_from_viewers":false,
     "hide_output_from_viewers":false
    }
   }
  },
  {
   "cell_type":"code",
   "source":[
    "#'''2. Write a Python program to access the index of all the elements in a list.\n",
    "#        Data:\n",
    "#            x = [5, 15, 35, 8, 98]\n",
    "#        Expected Output:\n",
    "#            0 5\n",
    "#            1 15\n",
    "#            2 35\n",
    "#            3 8\n",
    "#           4 98 '''\n",
    "x = [5, 15, 35, 8, 98]\n",
    "for i in range(len(x)):\n",
    "    print(i, x[i])"
   ],
   "execution_count":9,
   "outputs":[
    {
     "name":"stdout",
     "text":[
      "0 5\n",
      "1 15\n",
      "2 35\n",
      "3 8\n",
      "4 98\n"
     ],
     "output_type":"stream"
    }
   ],
   "metadata":{
    "datalore":{
     "node_id":"x5vdDW06XHwLW4zdbuJKp3",
     "type":"CODE",
     "hide_input_from_viewers":false,
     "hide_output_from_viewers":false
    }
   }
  },
  {
   "cell_type":"code",
   "source":[
    "''' 1. Write a Python program to count the number of strings where the string length is 2 or more and\n",
    "            the first and last characters of a string are same from the given data.\n",
    "        Data:\n",
    "            ['abc', 'xyz', 'aba', '1221']\n",
    "        Expected Output:\n",
    "            2 '''\n",
    "\n",
    "\n",
    "def count(x):\n",
    "    c = 0\n",
    "    for i in x:\n",
    "        if len(i) > 1 and i[0] == i[-1]:\n",
    "            c += 1\n",
    "    return c\n",
    "\n",
    "\n",
    "print(count(['abc', 'xyz', 'aba', '1221']))"
   ],
   "execution_count":10,
   "outputs":[
    {
     "name":"stdout",
     "text":[
      "2\n"
     ],
     "output_type":"stream"
    }
   ],
   "metadata":{
    "datalore":{
     "node_id":"fxyn44kfpPS0YxJyRVMLlm",
     "type":"CODE",
     "hide_input_from_viewers":false,
     "hide_output_from_viewers":false
    }
   }
  },
  {
   "cell_type":"code",
   "source":[
    "''' 15. Write a Python program to print reverse strings of strings that are present in the given list. \n",
    "    Data:\n",
    "        ['suresk', 'kumar', 'siva', 'boss', 'bala']\n",
    "    Expected Output:\n",
    "        Reverse strings of the said given list:\n",
    "        ['kserus', 'ramuk', 'avis', 'ssob', 'alab'] '''\n",
    "\n",
    "x = ['suresk', 'kumar', 'siva', 'boss', 'bala']\n",
    "ref = [i[::-1] for i in x]\n",
    "print(str(ref))\n",
    "\n",
    "ref[0] = 'alab'\n",
    "ref[-1] = 'kserus'\n",
    "print(ref)"
   ],
   "execution_count":11,
   "outputs":[
    {
     "name":"stdout",
     "text":[
      "['kserus', 'ramuk', 'avis', 'ssob', 'alab']\n",
      "['alab', 'ramuk', 'avis', 'ssob', 'kserus']\n"
     ],
     "output_type":"stream"
    }
   ],
   "metadata":{
    "datalore":{
     "node_id":"C9qE5ftdCctSvl7cOqkdKo",
     "type":"CODE",
     "hide_input_from_viewers":false,
     "hide_output_from_viewers":false
    }
   }
  },
  {
   "cell_type":"markdown",
   "source":[
    "24 Dec"
   ],
   "attachments":{
    
   },
   "metadata":{
    "datalore":{
     "node_id":"nMcmiCa2j6iHjqZCzme2ul",
     "type":"MD",
     "hide_input_from_viewers":false,
     "hide_output_from_viewers":false
    }
   }
  },
  {
   "cell_type":"code",
   "source":[
    
   ],
   "execution_count":null,
   "outputs":[
    
   ],
   "metadata":{
    "datalore":{
     "node_id":"RnG28qBWHY5aKzTMHeNYSi",
     "type":"CODE",
     "hide_input_from_viewers":false,
     "hide_output_from_viewers":false
    }
   }
  },
  {
   "cell_type":"code",
   "source":[
    "'''Single, Multiple, Multilevel,Hierarchical,Hybrid'''"
   ],
   "execution_count":12,
   "outputs":[
    {
     "data":{
      "text\/plain":[
       "'Single, Multiple, Multilevel,Hierarchical,Hybrid'"
      ]
     },
     "metadata":{
      
     },
     "output_type":"display_data"
    }
   ],
   "metadata":{
    "datalore":{
     "node_id":"pW37qoZkmtQVn3IHtJzOsh",
     "type":"CODE",
     "hide_input_from_viewers":false,
     "hide_output_from_viewers":false
    }
   }
  },
  {
   "cell_type":"code",
   "source":[
    "#Single Inheritance\n",
    "class Cricket: #parent class\n",
    "    def Batting(self):\n",
    "        print(\"This is Crickket Batting\")\n",
    "\n",
    "class Kohli(Cricket):\n",
    "    def Bat(self):\n",
    "        print(\"This is Kohli Batting\")\n",
    "\n",
    "Ko = Kohli()\n",
    "Ko.Bat()\n",
    "Ko.Batting()"
   ],
   "execution_count":13,
   "outputs":[
    {
     "name":"stdout",
     "text":[
      "This is Kohli Batting\n",
      "This is Crickket Batting\n"
     ],
     "output_type":"stream"
    }
   ],
   "metadata":{
    "datalore":{
     "node_id":"7hQMVzPBmMVMg1lOpbLs4h",
     "type":"CODE",
     "hide_input_from_viewers":false,
     "hide_output_from_viewers":false
    }
   }
  },
  {
   "cell_type":"code",
   "source":[
    "#Multiple inheritance\n",
    "class Cricket: #parent class\n",
    "    def Batting(self,name, age):\n",
    "        print(\"This is Crickket Batting\")\n",
    "        print('Name:',name,\"Age:\",age)\n",
    "\n",
    "class Ipl:\n",
    "    def Auction(self,team_name,price):\n",
    "        print(\"Auction for 2023\")\n",
    "        print(\"Team:\",team_name,\"Price:\",price)\n",
    "\n",
    "class Teams(Cricket, Ipl):\n",
    "    def Playoff(self,bat,bowl):\n",
    "        print(\"This is Playoffs\")\n",
    "        print(\"Batter:\",bat,\"Bowler:\",bowl)\n",
    "\n",
    "T = Teams()\n",
    "T.Playoff('Yes','No')\n",
    "T.Auction('RCB','20cr')\n",
    "T.Batting('Kohli','33')"
   ],
   "execution_count":14,
   "outputs":[
    {
     "name":"stdout",
     "text":[
      "This is Playoffs\n",
      "Batter: Yes Bowler: No\n",
      "Auction for 2023\n",
      "Team: RCB Price: 20cr\n",
      "This is Crickket Batting\n",
      "Name: Kohli Age: 33\n"
     ],
     "output_type":"stream"
    }
   ],
   "metadata":{
    "datalore":{
     "node_id":"PvgnYnkNyTNxlWPQNKtjoP",
     "type":"CODE",
     "hide_input_from_viewers":false,
     "hide_output_from_viewers":false
    }
   }
  },
  {
   "cell_type":"code",
   "source":[
    "#Multilevel A -- B -- C\n",
    "class Cricket: #parent class\n",
    "    def Batting(self,name, age):\n",
    "        print(\"This is Crickket Batting\")\n",
    "        print('Name:',name,\"Age:\",age)\n",
    "\n",
    "class Ipl(Cricket):\n",
    "    def Auction(self,team_name,price):\n",
    "        print(\"Auction for 2023\")\n",
    "        print(\"Team:\",team_name,\"Price:\",price)\n",
    "\n",
    "class Teams(Ipl):\n",
    "    def Playoff(self,bat,bowl):\n",
    "        print(\"This is Playoffs\")\n",
    "        print(\"Batter:\",bat,\"Bowler:\",bowl)\n",
    "\n",
    "T = Teams()\n",
    "T.Playoff('Yes','No')\n",
    "T.Auction('RCB','20cr')\n",
    "T.Batting('Kohli','33')\n",
    "\n",
    "I = Ipl()\n",
    "I.Batting('SamCurren','24')\n",
    "I.Auction('Punjab','18.5Cr')"
   ],
   "execution_count":15,
   "outputs":[
    {
     "name":"stdout",
     "text":[
      "This is Playoffs\n",
      "Batter: Yes Bowler: No\n",
      "Auction for 2023\n",
      "Team: RCB Price: 20cr\n",
      "This is Crickket Batting\n",
      "Name: Kohli Age: 33\n",
      "This is Crickket Batting\n",
      "Name: SamCurren Age: 24\n",
      "Auction for 2023\n",
      "Team: Punjab Price: 18.5Cr\n"
     ],
     "output_type":"stream"
    }
   ],
   "metadata":{
    "datalore":{
     "node_id":"RLpWVZV49BFVo636QWXYpN",
     "type":"CODE",
     "hide_input_from_viewers":false,
     "hide_output_from_viewers":false
    }
   }
  },
  {
   "cell_type":"code",
   "source":[
    "#Hierarchical \n",
    "class Cricket: #parent class\n",
    "    def Batting(self,name, age):\n",
    "        print(\"This is Crickket Batting\")\n",
    "        print('Name:',name,\"Age:\",age)\n",
    "\n",
    "class Ipl(Cricket):\n",
    "    def Auction(self,team_name,price):\n",
    "        print(\"Auction for 2023\")\n",
    "        print(\"Team:\",team_name,\"Price:\",price)\n",
    "\n",
    "class Bbl(Cricket):\n",
    "    def Aust(self,t_name,role):\n",
    "        print(\"Australian league\")\n",
    "        print(\"Team Name:\",t_name,\"Role:\",role)\n",
    "\n",
    "class Psl(Cricket):\n",
    "    def Pak(self,t_name,role):\n",
    "        print(\"Pakistan league\")\n",
    "        print(\"Team Name:\",t_name,\"Role:\",role)\n",
    "\n",
    "India = Ipl()\n",
    "India.Auction('Mumbai Indians','15Cr')\n",
    "India.Batting('Green',22)\n",
    "\n",
    "Australia = Bbl()\n",
    "Australia.Aust(\"Sydney thunders\",\"Bowler\")\n",
    "Australia.Batting(\"Pollard\",36)\n",
    "\n",
    "Pakistan = Psl()\n",
    "Pakistan.Pak(\"Karachi king\",\"Batsman\")\n",
    "Pakistan.Batting(\"Babar Azam\",28)"
   ],
   "execution_count":16,
   "outputs":[
    {
     "name":"stdout",
     "text":[
      "Auction for 2023\n",
      "Team: Mumbai Indians Price: 15Cr\n",
      "This is Crickket Batting\n",
      "Name: Green Age: 22\n",
      "Australian league\n",
      "Team Name: Sydney thunders Role: Bowler\n",
      "This is Crickket Batting\n",
      "Name: Pollard Age: 36\n",
      "Pakistan league\n",
      "Team Name: Karachi king Role: Batsman\n",
      "This is Crickket Batting\n",
      "Name: Babar Azam Age: 28\n"
     ],
     "output_type":"stream"
    }
   ],
   "metadata":{
    "datalore":{
     "node_id":"GR5E3B4x2YYgZexoBPSG6R",
     "type":"CODE",
     "hide_input_from_viewers":false,
     "hide_output_from_viewers":false
    }
   }
  },
  {
   "cell_type":"markdown",
   "source":[
    "Dec 25"
   ],
   "attachments":{
    
   },
   "metadata":{
    "datalore":{
     "node_id":"hARknd5ti59of6nWBO8Lju",
     "type":"MD",
     "hide_input_from_viewers":false,
     "hide_output_from_viewers":false
    }
   }
  },
  {
   "cell_type":"code",
   "source":[
    "#polymorphism - multiple form\n",
    "a = [4,56,4,124,5.6]\n",
    "print(len(a))\n",
    "b = \"Python class\"\n",
    "print(len(b))"
   ],
   "execution_count":17,
   "outputs":[
    {
     "name":"stdout",
     "text":[
      "5\n",
      "12\n"
     ],
     "output_type":"stream"
    }
   ],
   "metadata":{
    "datalore":{
     "node_id":"bTOhYIQmXv8xV70GQVabW0",
     "type":"CODE",
     "hide_input_from_viewers":false,
     "hide_output_from_viewers":false
    }
   }
  },
  {
   "cell_type":"code",
   "source":[
    "class Bike:\n",
    "    def color(self):\n",
    "        print(\"Bike color is Black\")\n",
    "    def speed(self):\n",
    "        print(\"Maximum speed is 180km\")\n",
    "\n",
    "class Car(Bike):\n",
    "    def color(self):\n",
    "        print(\"Car color is Red\")\n",
    "    def speed(self):\n",
    "        print(\"Maximum speed is 200km\")\n",
    "\n",
    "C = Car()\n",
    "C.color()\n",
    "C.speed()\n",
    "B = Bike()\n",
    "B.color()\n",
    "B.speed()"
   ],
   "execution_count":18,
   "outputs":[
    {
     "name":"stdout",
     "text":[
      "Car color is Red\n",
      "Maximum speed is 200km\n",
      "Bike color is Black\n",
      "Maximum speed is 180km\n"
     ],
     "output_type":"stream"
    }
   ],
   "metadata":{
    "datalore":{
     "node_id":"m209zrTtUl4aggB2w7Xw78",
     "type":"CODE",
     "hide_input_from_viewers":false,
     "hide_output_from_viewers":false
    }
   }
  },
  {
   "cell_type":"code",
   "source":[
    "#Encapsulation - public, private, protected\n",
    "\n",
    "class Student:\n",
    "    def __init__(self,name,marks): #public data members\n",
    "        self.name = name\n",
    "        self.marks=marks\n",
    "    def rep(self):\n",
    "        print(\"Name:\",self.name,\"Marks is:\",self.marks)\n",
    "\n",
    "stu = Student(\"Lokesj\", 439)\n",
    "print(\"Name:\",stu.name,\"Marks is:\",stu.marks)\n",
    "stu.rep()"
   ],
   "execution_count":19,
   "outputs":[
    {
     "name":"stdout",
     "text":[
      "Name: Lokesj Marks is: 439\n",
      "Name: Lokesj Marks is: 439\n"
     ],
     "output_type":"stream"
    }
   ],
   "metadata":{
    "datalore":{
     "node_id":"ryK7jaQFLeGtwLu8e9feUL",
     "type":"CODE",
     "hide_input_from_viewers":false,
     "hide_output_from_viewers":false
    }
   }
  },
  {
   "cell_type":"code",
   "source":[
    "class Employee:\n",
    "    def __init__(self,name,salary):\n",
    "        self.name=name\n",
    "        self.__salary=salary #private data member\n",
    "emp = Employee(\"Dinesh\",90000)\n",
    "print(\"Name is:\",emp.name)\n",
    "#print(\"salary is\",emp.salary)"
   ],
   "execution_count":20,
   "outputs":[
    {
     "name":"stdout",
     "text":[
      "Name is: Dinesh\n"
     ],
     "output_type":"stream"
    }
   ],
   "metadata":{
    "datalore":{
     "node_id":"7AgOb2Cm51UfnkSgsNZ6se",
     "type":"CODE",
     "hide_input_from_viewers":false,
     "hide_output_from_viewers":false
    }
   }
  },
  {
   "cell_type":"code",
   "source":[
    "class Employee:\n",
    "    def __init__(self):\n",
    "        self._salary = \"12233\" #protected\n",
    "\n",
    "class Company(Employee):\n",
    "    def __init__(self,name):\n",
    "        self.name=name\n",
    "        Employee.__init__(self)\n",
    "    def fun(self):\n",
    "        print(\"Emp Name:\",self.name)\n",
    "        print(\"Salary is\",self._salary)\n",
    "\n",
    "C = Company(\"Ganesh\")\n",
    "C.fun()\n",
    "\n",
    "print(\"Salary\",C._salary)"
   ],
   "execution_count":21,
   "outputs":[
    {
     "name":"stdout",
     "text":[
      "Emp Name: Ganesh\n",
      "Salary is 12233\n",
      "Salary 12233\n"
     ],
     "output_type":"stream"
    }
   ],
   "metadata":{
    "datalore":{
     "node_id":"wrrpgVlvwypAdQRqIF7X6b",
     "type":"CODE",
     "hide_input_from_viewers":false,
     "hide_output_from_viewers":false
    }
   }
  },
  {
   "cell_type":"code",
   "source":[
    "#Regular Expressions(RE) - re\n",
    "import re\n",
    "fita = \"This is TNagar and phone is 334241341\"\n",
    "res = re.findall(r\"\\D\",fita)\n",
    "print(res)"
   ],
   "execution_count":22,
   "outputs":[
    {
     "name":"stdout",
     "text":[
      "['T', 'h', 'i', 's', ' ', 'i', 's', ' ', 'T', 'N', 'a', 'g', 'a', 'r', ' ', 'a', 'n', 'd', ' ', 'p', 'h', 'o', 'n', 'e', ' ', 'i', 's', ' ']\n"
     ],
     "output_type":"stream"
    }
   ],
   "metadata":{
    "datalore":{
     "node_id":"FwAyXbEjo23JbfoGO4SfeG",
     "type":"CODE",
     "hide_input_from_viewers":false,
     "hide_output_from_viewers":false
    }
   }
  },
  {
   "cell_type":"code",
   "source":[
    "import re\n",
    "fita = \"This is TNagar and phone is 334241341\"\n",
    "com = r\"\\w\"\n",
    "pattern = re.compile(com)\n",
    "res = pattern.match(fita)\n",
    "print(res.group())\n",
    "res = re.search(r\"\\d\",fita)\n",
    "print(res)\n",
    "res = re.findall(r\"\\d\",fita)\n",
    "print(res)\n",
    "res = re.split(r\"\\s\",fita)\n",
    "print(res)\n",
    "res = re.sub(r\"\\s\",\"*\",fita)\n",
    "print(res)"
   ],
   "execution_count":23,
   "outputs":[
    {
     "name":"stdout",
     "text":[
      "T\n",
      "<re.Match object; span=(28, 29), match='3'>\n",
      "['3', '3', '4', '2', '4', '1', '3', '4', '1']\n",
      "['This', 'is', 'TNagar', 'and', 'phone', 'is', '334241341']\n",
      "This*is*TNagar*and*phone*is*334241341\n"
     ],
     "output_type":"stream"
    }
   ],
   "metadata":{
    "datalore":{
     "node_id":"NHcBlkxtPO8LmZ3hXcOpib",
     "type":"CODE",
     "hide_input_from_viewers":false,
     "hide_output_from_viewers":false
    }
   }
  },
  {
   "cell_type":"code",
   "source":[
    "import re\n",
    "str1 = \"Dinesh is Data Science Owner \\n also he is the trainer\"\n",
    "print(str1)\n",
    "ans = re.search(r\".+\",str1,re.S)\n",
    "print(ans.group())"
   ],
   "execution_count":24,
   "outputs":[
    {
     "name":"stdout",
     "text":[
      "Dinesh is Data Science Owner \n",
      " also he is the trainer\n",
      "Dinesh is Data Science Owner \n",
      " also he is the trainer\n"
     ],
     "output_type":"stream"
    }
   ],
   "metadata":{
    "datalore":{
     "node_id":"mMDlFZNiTH5yZN0EHfToYQ",
     "type":"CODE",
     "hide_input_from_viewers":false,
     "hide_output_from_viewers":false
    }
   }
  },
  {
   "cell_type":"code",
   "source":[
    "import re\n",
    "s1 = \"Data Science is the course and duration is 120 days\"\n",
    "ans = re.findall(r\"\\A[A-Z].*?\\s\",s1)\n",
    "print(\"Matching values are\",ans)\n",
    "ans = re.findall(r\"\\d.*?\\Z\",s1)\n",
    "print(\"Matching values are\",ans)"
   ],
   "execution_count":25,
   "outputs":[
    {
     "name":"stdout",
     "text":[
      "Matching values are ['Data ']\n",
      "Matching values are ['120 days']\n"
     ],
     "output_type":"stream"
    }
   ],
   "metadata":{
    "datalore":{
     "node_id":"u7DoxZ9lTBi0klcokP4Bp7",
     "type":"CODE",
     "hide_input_from_viewers":false,
     "hide_output_from_viewers":false
    }
   }
  },
  {
   "cell_type":"code",
   "source":[
    "import re\n",
    "rate = \"10000 dollars\"\n",
    "res = re.findall(r\"\\d\",rate)\n",
    "print(res)\n",
    "res = re.findall(r\"\\d+\",rate)\n",
    "print(res)\n",
    "res = re.findall(r\"\\D\",rate)\n",
    "print(res)"
   ],
   "execution_count":26,
   "outputs":[
    {
     "name":"stdout",
     "text":[
      "['1', '0', '0', '0', '0']\n",
      "['10000']\n",
      "[' ', 'd', 'o', 'l', 'l', 'a', 'r', 's']\n"
     ],
     "output_type":"stream"
    }
   ],
   "metadata":{
    "datalore":{
     "node_id":"WaBwx10K9WKIJcdaqvxOlW",
     "type":"CODE",
     "hide_input_from_viewers":false,
     "hide_output_from_viewers":false
    }
   }
  },
  {
   "cell_type":"code",
   "source":[
    "import re\n",
    "string  = \"Alas! This is **Python class**\"\n",
    "ans = re.findall(r\"\\w\",string)\n",
    "print(ans)\n",
    "ans = re.findall(r\"\\w{5}\",string)\n",
    "print(ans)\n",
    "ans = re.findall(r\"\\W\",string)\n",
    "print(ans)"
   ],
   "execution_count":27,
   "outputs":[
    {
     "name":"stdout",
     "text":[
      "['A', 'l', 'a', 's', 'T', 'h', 'i', 's', 'i', 's', 'P', 'y', 't', 'h', 'o', 'n', 'c', 'l', 'a', 's', 's']\n",
      "['Pytho', 'class']\n",
      "['!', ' ', ' ', ' ', '*', '*', ' ', '*', '*']\n"
     ],
     "output_type":"stream"
    }
   ],
   "metadata":{
    "datalore":{
     "node_id":"dRIBrlEcqEv57Isqa3VhnV",
     "type":"CODE",
     "hide_input_from_viewers":false,
     "hide_output_from_viewers":false
    }
   }
  },
  {
   "cell_type":"code",
   "source":[
    "import re\n",
    "string = \"Dinesh \\t \\n Kumar\"\n",
    "print(string)\n",
    "ans = re.findall(r\"\\s\",string)\n",
    "print(ans)\n",
    "ans = re.findall(r\"\\S\",string)\n",
    "print(ans)\n",
    "ans = re.findall(r\"\\s+\",string)\n",
    "print(ans)\n",
    "ans = re.sub(r\"\\s+\",\" \",\"Dinesh  and \\t Kumar \")\n",
    "print(ans)"
   ],
   "execution_count":28,
   "outputs":[
    {
     "name":"stdout",
     "text":[
      "Dinesh \t \n",
      " Kumar\n",
      "[' ', '\\t', ' ', '\\n', ' ']\n",
      "['D', 'i', 'n', 'e', 's', 'h', 'K', 'u', 'm', 'a', 'r']\n",
      "[' \\t \\n ']\n",
      "Dinesh and Kumar \n"
     ],
     "output_type":"stream"
    }
   ],
   "metadata":{
    "datalore":{
     "node_id":"CRsat79H5ocIH0S8Y92xkt",
     "type":"CODE",
     "hide_input_from_viewers":false,
     "hide_output_from_viewers":false
    }
   }
  },
  {
   "cell_type":"code",
   "source":[
    "import re\n",
    "text = '<p>Contents :<\/p><a href=\"https:\/\/w3resource.com\">Python Examples<\/a><a href=\"http:\/\/github.com\">Even More Examples<\/a>'\n",
    "urls = re.findall('http[s]?:\/\/(?:[a-zA-Z]|[0-9]|[$-_@.&+]|[!*\\(\\),]|(?:%[0-9a-fA-F][0-9a-fA-F]))+', text)\n",
    "print(\"Original string: \",text)\n",
    "print(\"Urls: \",urls)"
   ],
   "execution_count":29,
   "outputs":[
    {
     "name":"stdout",
     "text":[
      "Original string:  <p>Contents :<\/p><a href=\"https:\/\/w3resource.com\">Python Examples<\/a><a href=\"http:\/\/github.com\">Even More Examples<\/a>\n",
      "Urls:  ['https:\/\/w3resource.com', 'http:\/\/github.com']\n"
     ],
     "output_type":"stream"
    }
   ],
   "metadata":{
    "datalore":{
     "node_id":"RCywJsLfcRSnjykXpEZqS0",
     "type":"CODE",
     "hide_input_from_viewers":false,
     "hide_output_from_viewers":false
    }
   }
  },
  {
   "cell_type":"code",
   "source":[
    "import re\n",
    "text = \"PHP Exercises\"\n",
    "print(\"Original Text: \",text)\n",
    "redata = re.compile(re.escape('php'), re.IGNORECASE)\n",
    "new_text = redata.sub('php', 'PHP Exercises')\n",
    "print(\"Using 'php' replace PHP\") \n",
    "print(\"New Text: \",new_text)"
   ],
   "execution_count":30,
   "outputs":[
    {
     "name":"stdout",
     "text":[
      "Original Text:  PHP Exercises\n",
      "Using 'php' replace PHP\n",
      "New Text:  php Exercises\n"
     ],
     "output_type":"stream"
    }
   ],
   "metadata":{
    "datalore":{
     "node_id":"M2Enfg6fWvI846L8o19u22",
     "type":"CODE",
     "hide_input_from_viewers":false,
     "hide_output_from_viewers":false
    }
   }
  },
  {
   "cell_type":"code",
   "source":[
    "#File Handling\n",
    "f = open(\"skill.txt\",\"x\")\n",
    "f.close()"
   ],
   "execution_count":32,
   "outputs":[
    
   ],
   "metadata":{
    "datalore":{
     "node_id":"jpuGFAn0Ul4E1UZ7Xgfb2q",
     "type":"CODE",
     "hide_input_from_viewers":false,
     "hide_output_from_viewers":false
    }
   }
  },
  {
   "cell_type":"code",
   "source":[
    "f = open(\"skill.txt\",\"r\")\n",
    "print(f.read(10))\n",
    "f.close()"
   ],
   "execution_count":33,
   "outputs":[
    {
     "name":"stdout",
     "text":[
      "This is fi\n"
     ],
     "output_type":"stream"
    }
   ],
   "metadata":{
    "datalore":{
     "node_id":"t4ANK5mPqR6U9L8k3iSMyS",
     "type":"CODE",
     "hide_input_from_viewers":false,
     "hide_output_from_viewers":false
    }
   }
  },
  {
   "cell_type":"code",
   "source":[
    "f = open(\"data.txt\",\"a\")\n",
    "f.write(\"\\nThis is for append function\")\n",
    "f.close()"
   ],
   "execution_count":34,
   "outputs":[
    
   ],
   "metadata":{
    "datalore":{
     "node_id":"Mx0MFNfIn6yWr7HIcdcXRx",
     "type":"CODE",
     "hide_input_from_viewers":false,
     "hide_output_from_viewers":false
    }
   }
  },
  {
   "cell_type":"code",
   "source":[
    "f = open(\"skill.txt\",\"r\")\n",
    "f.seek(0)\n",
    "print(f.readline())\n",
    "f.close()"
   ],
   "execution_count":35,
   "outputs":[
    {
     "name":"stdout",
     "text":[
      "This is file for testing the file handling program.\n",
      "\n"
     ],
     "output_type":"stream"
    }
   ],
   "metadata":{
    "datalore":{
     "node_id":"gnHfgH8jyUI1whtPMqY0R5",
     "type":"CODE",
     "hide_input_from_viewers":false,
     "hide_output_from_viewers":false
    }
   }
  },
  {
   "cell_type":"code",
   "source":[
    "f = open(\"skill.txt\",\"r\")\n",
    "f.seek(0)\n",
    "print(f.readlines())\n",
    "f.close()"
   ],
   "execution_count":36,
   "outputs":[
    {
     "name":"stdout",
     "text":[
      "['This is file for testing the file handling program.\\n', 'This is for append function\\n', 'This is for append function\\n', 'This is for append function']\n"
     ],
     "output_type":"stream"
    }
   ],
   "metadata":{
    "datalore":{
     "node_id":"cj6fC6rUeZCc9P9eWnVPIU",
     "type":"CODE",
     "hide_input_from_viewers":false,
     "hide_output_from_viewers":false
    }
   }
  },
  {
   "cell_type":"code",
   "source":[
    "f = open(\"data.txt\",\"w\")\n",
    "string = \"FITA Academy in TNagar\"\n",
    "loc=[\"Chennai\\n\",\"Kochin\\n\",\"delhi\"]\n",
    "f.write(string)\n",
    "f.writelines(loc)\n",
    "f.close()"
   ],
   "execution_count":37,
   "outputs":[
    
   ],
   "metadata":{
    "datalore":{
     "node_id":"GmZzdhsE5U58kbTNfitSce",
     "type":"CODE",
     "hide_input_from_viewers":false,
     "hide_output_from_viewers":false
    }
   }
  },
  {
   "cell_type":"code",
   "source":[
    "f = open(\"data.txt\",\"w+\")\n",
    "print(f.read())\n",
    "f.close()"
   ],
   "execution_count":38,
   "outputs":[
    {
     "name":"stdout",
     "text":[
      "\n"
     ],
     "output_type":"stream"
    }
   ],
   "metadata":{
    "datalore":{
     "node_id":"rw5TA8TMYPUZPhTd3YmtgH",
     "type":"CODE",
     "hide_input_from_viewers":false,
     "hide_output_from_viewers":false
    }
   }
  }
 ],
 "metadata":{
  "kernelspec":{
   "display_name":"Python",
   "language":"python",
   "name":"python"
  },
  "datalore":{
   "version":1,
   "computation_mode":"REACTIVE",
   "package_manager":"pip",
   "base_environment":"default",
   "packages":[
    {
     "name":"tkinterx",
     "version":"0.0.9",
     "source":"PIP"
    },
    {
     "name":"tk",
     "version":"0.1.0",
     "source":"PIP"
    }
   ]
  }
 },
 "nbformat":4,
 "nbformat_minor":4
}