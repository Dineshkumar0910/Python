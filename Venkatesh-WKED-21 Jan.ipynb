{
 "cells":[
  {
   "cell_type":"markdown",
   "source":[
    "# Venkatesh-WKED"
   ],
   "attachments":{
    
   },
   "metadata":{
    "datalore":{
     "node_id":"Venkatesh-WKED",
     "type":"MD",
     "hide_input_from_viewers":false,
     "hide_output_from_viewers":false,
     "sheet_delimiter":true
    }
   }
  },
  {
   "cell_type":"code",
   "source":[
    "a = 5\n",
    "b = 9\n",
    "#Arithmetic operators\n",
    "add = a + b\n",
    "sub = a - b\n",
    "mul = a * b\n",
    "div = b \/ a\n",
    "mod = b % a\n",
    "p = a ** b\n",
    "print(add)\n",
    "print(sub)\n",
    "print(mul)\n",
    "print(div)\n",
    "print(mod)\n",
    "print(p)"
   ],
   "execution_count":1,
   "outputs":[
    {
     "name":"stdout",
     "text":[
      "14\n",
      "-4\n",
      "45\n",
      "1.8\n",
      "4\n",
      "1953125\n"
     ],
     "output_type":"stream"
    }
   ],
   "metadata":{
    "datalore":{
     "node_id":"iPj4bOWqCimYq0PDH0pWv3",
     "type":"CODE",
     "hide_input_from_viewers":false,
     "hide_output_from_viewers":false,
     "report_properties":{
      "y":0
     }
    }
   }
  },
  {
   "cell_type":"code",
   "source":[
    "#Comparison operators\n",
    "print(a<b)\n",
    "print(a<=b)\n",
    "print(a>b)\n",
    "print(a>=b)\n",
    "print(a!=b)\n",
    "print(a==b)"
   ],
   "execution_count":2,
   "outputs":[
    {
     "name":"stdout",
     "text":[
      "True\n",
      "True\n",
      "False\n",
      "False\n",
      "True\n",
      "False\n"
     ],
     "output_type":"stream"
    }
   ],
   "metadata":{
    "datalore":{
     "node_id":"BlAmJrZaw2ei3JwUJkgQ2H",
     "type":"CODE",
     "hide_input_from_viewers":true,
     "hide_output_from_viewers":true,
     "report_properties":{
      
     }
    }
   }
  },
  {
   "cell_type":"code",
   "source":[
    "#Logical operators\n",
    "print(a and b)\n",
    "print(a or b)\n",
    "print(not a)"
   ],
   "execution_count":3,
   "outputs":[
    {
     "name":"stdout",
     "text":[
      "9\n",
      "5\n",
      "False\n"
     ],
     "output_type":"stream"
    }
   ],
   "metadata":{
    "datalore":{
     "node_id":"xwTQawap3V1Q4wPMMGrtLO",
     "type":"CODE",
     "hide_input_from_viewers":true,
     "hide_output_from_viewers":true
    }
   }
  },
  {
   "cell_type":"code",
   "source":[
    "#bitwise operators\n",
    "a = 10\n",
    "b = 4\n",
    "print(a & b)\n",
    "print(a | b)\n",
    "print(~a)\n",
    "print(a ^ b)\n",
    "print(a >> 1)\n",
    "print(a << 4)"
   ],
   "execution_count":4,
   "outputs":[
    {
     "name":"stdout",
     "text":[
      "0\n",
      "14\n",
      "-11\n",
      "14\n",
      "5\n",
      "160\n"
     ],
     "output_type":"stream"
    }
   ],
   "metadata":{
    "datalore":{
     "node_id":"aoUOk8INBmQk6zrD2JWu9M",
     "type":"CODE",
     "hide_input_from_viewers":true,
     "hide_output_from_viewers":true
    }
   }
  },
  {
   "cell_type":"code",
   "source":[
    "a = 10\n",
    "b = a\n",
    "a+=a\n",
    "print(a)# a = a+a\n",
    "b-=a\n",
    "print(b)#b = b -a \n",
    "b*=a\n",
    "print(b)\n",
    "b<<=a\n",
    "print(b)"
   ],
   "execution_count":5,
   "outputs":[
    {
     "name":"stdout",
     "text":[
      "20\n",
      "-10\n",
      "-200\n",
      "-209715200\n"
     ],
     "output_type":"stream"
    }
   ],
   "metadata":{
    "datalore":{
     "node_id":"ElDMIu6vak5k4cPy6VgdZN",
     "type":"CODE",
     "hide_input_from_viewers":true,
     "hide_output_from_viewers":true
    }
   }
  },
  {
   "cell_type":"code",
   "source":[
    "#identity operators\n",
    "a = 5\n",
    "b = 2\n",
    "c = a\n",
    "print(a is not b)\n",
    "print(a is c)"
   ],
   "execution_count":6,
   "outputs":[
    {
     "name":"stdout",
     "text":[
      "True\n",
      "True\n"
     ],
     "output_type":"stream"
    }
   ],
   "metadata":{
    "datalore":{
     "node_id":"vxQzK5rXBon0nlW1pi02lU",
     "type":"CODE",
     "hide_input_from_viewers":true,
     "hide_output_from_viewers":true
    }
   }
  },
  {
   "cell_type":"code",
   "source":[
    "#Membership operators\n",
    "x = 3\n",
    "y = 5\n",
    "li = [1,3,6,8,2]\n",
    "if(x in li):\n",
    "    print(x)\n",
    "if(y in li):\n",
    "    print(\"y is not present\")"
   ],
   "execution_count":7,
   "outputs":[
    {
     "name":"stdout",
     "text":[
      "3\n"
     ],
     "output_type":"stream"
    }
   ],
   "metadata":{
    "datalore":{
     "node_id":"HMTyye24ofhu4RBR6qyMbs",
     "type":"CODE",
     "hide_input_from_viewers":true,
     "hide_output_from_viewers":true
    }
   }
  },
  {
   "cell_type":"code",
   "source":[
    "#operator precedence\n",
    "a = 10 + 20 * 30\n",
    "print(a)\n",
    "\n",
    "name = \"Dinesh\"\n",
    "age = 29\n",
    "\n",
    "if name == \"Dinesh\" or name == \"Kumar\" and age >= 20:\n",
    "    print(\"Hello Dinesh\")\n",
    "else:\n",
    "    print(\"Bye\")"
   ],
   "execution_count":8,
   "outputs":[
    {
     "name":"stdout",
     "text":[
      "610\n",
      "Hello Dinesh\n"
     ],
     "output_type":"stream"
    }
   ],
   "metadata":{
    "datalore":{
     "node_id":"BZB7CR4SKRIDciCTSD8Q4i",
     "type":"CODE",
     "hide_input_from_viewers":true,
     "hide_output_from_viewers":true
    }
   }
  },
  {
   "cell_type":"code",
   "source":[
    "#operator overloading\n",
    "print(1+2)\n",
    "print(\"Dinesh\"+\"Kumar\")\n",
    "print(\"python\"*3)"
   ],
   "execution_count":9,
   "outputs":[
    {
     "name":"stdout",
     "text":[
      "3\n",
      "DineshKumar\n",
      "pythonpythonpython\n"
     ],
     "output_type":"stream"
    }
   ],
   "metadata":{
    "datalore":{
     "node_id":"9k84sDEzzB5TJrrB9xAcm7",
     "type":"CODE",
     "hide_input_from_viewers":true,
     "hide_output_from_viewers":true
    }
   }
  },
  {
   "cell_type":"markdown",
   "source":[
    "DATA TYPES"
   ],
   "attachments":{
    
   },
   "metadata":{
    "datalore":{
     "node_id":"6Y0LI9Jbd1PzS2eDIQEteC",
     "type":"MD",
     "hide_input_from_viewers":true,
     "hide_output_from_viewers":true
    }
   }
  },
  {
   "cell_type":"code",
   "source":[
    "#Strings\n",
    "\n",
    "x = \"My class is Python\"\n",
    "y = 'Python Class'\n",
    "z = '''My class in weekend'''\n",
    "print(x, y,)"
   ],
   "execution_count":10,
   "outputs":[
    {
     "name":"stdout",
     "text":[
      "My class is Python Python Class\n"
     ],
     "output_type":"stream"
    }
   ],
   "metadata":{
    "datalore":{
     "node_id":"4O0bjTVMoCzXOJ48Z7c1oB",
     "type":"CODE",
     "hide_input_from_viewers":true,
     "hide_output_from_viewers":true
    }
   }
  },
  {
   "cell_type":"code",
   "source":[
    "#access the string\n",
    "print(x[5])\n",
    "print(y[0])\n",
    "print(z[-3])"
   ],
   "execution_count":11,
   "outputs":[
    {
     "name":"stdout",
     "text":[
      "a\n",
      "P\n",
      "e\n"
     ],
     "output_type":"stream"
    }
   ],
   "metadata":{
    "datalore":{
     "node_id":"sZIdpFJ3jXne3pF0hD9OvA",
     "type":"CODE",
     "hide_input_from_viewers":true,
     "hide_output_from_viewers":true
    }
   }
  },
  {
   "cell_type":"code",
   "source":[
    "#reversing the string\n",
    "print(x[::-1])\n",
    "q = \"\".join(reversed(x))\n",
    "print(q)"
   ],
   "execution_count":12,
   "outputs":[
    {
     "name":"stdout",
     "text":[
      "nohtyP si ssalc yM\n",
      "nohtyP si ssalc yM\n"
     ],
     "output_type":"stream"
    }
   ],
   "metadata":{
    "datalore":{
     "node_id":"E0ugdfkxYdiigTUG3MnQal",
     "type":"CODE",
     "hide_input_from_viewers":true,
     "hide_output_from_viewers":true
    }
   }
  },
  {
   "cell_type":"code",
   "source":[
    "#Slicing\n",
    "print(x[0:8])\n",
    "print(y[3:-2])"
   ],
   "execution_count":13,
   "outputs":[
    {
     "name":"stdout",
     "text":[
      "My class\n",
      "hon Cla\n"
     ],
     "output_type":"stream"
    }
   ],
   "metadata":{
    "datalore":{
     "node_id":"buFSWbKMQiztUqpc9wRJaT",
     "type":"CODE",
     "hide_input_from_viewers":true,
     "hide_output_from_viewers":true
    }
   }
  },
  {
   "cell_type":"code",
   "source":[
    "x = \"Dinesh is Python lead\"\n",
    "print(x)\n",
    "\n",
    "li1 = list(x)\n",
    "li1[6:10] = \"Kumar\"\n",
    "a = ''.join(li1)\n",
    "print(a)"
   ],
   "execution_count":14,
   "outputs":[
    {
     "name":"stdout",
     "text":[
      "Dinesh is Python lead\n",
      "DineshKumarPython lead\n"
     ],
     "output_type":"stream"
    }
   ],
   "metadata":{
    "datalore":{
     "node_id":"VbaKAMKNk9Vfoke565DohH",
     "type":"CODE",
     "hide_input_from_viewers":true,
     "hide_output_from_viewers":true
    }
   }
  },
  {
   "cell_type":"code",
   "source":[
    "x = a[0:4]+a[8:]\n",
    "print(x)\n",
    "del x"
   ],
   "execution_count":15,
   "outputs":[
    {
     "name":"stdout",
     "text":[
      "DinemarPython lead\n"
     ],
     "output_type":"stream"
    }
   ],
   "metadata":{
    "datalore":{
     "node_id":"Vkiqwaj7cA3S3p6S8bsVPL",
     "type":"CODE",
     "hide_input_from_viewers":true,
     "hide_output_from_viewers":true
    }
   }
  },
  {
   "cell_type":"code",
   "source":[
    "#List\n",
    "list1 = [1,4,5]\n",
    "list2 = list((4.5,8.9,2.4))\n",
    "list3 = [6,\"Avatar\",190.5] #Heterogeneous\n",
    "print(list1)\n",
    "print(list2)\n",
    "print(list3)\n",
    "print(type(list1))\n",
    "print(len(list3))"
   ],
   "execution_count":16,
   "outputs":[
    {
     "name":"stdout",
     "text":[
      "[1, 4, 5]\n",
      "[4.5, 8.9, 2.4]\n",
      "[6, 'Avatar', 190.5]\n",
      "<class 'list'>\n",
      "3\n"
     ],
     "output_type":"stream"
    }
   ],
   "metadata":{
    "datalore":{
     "node_id":"WUwSYjJBiM2AvuEG0Irds6",
     "type":"CODE",
     "hide_input_from_viewers":true,
     "hide_output_from_viewers":true
    }
   }
  },
  {
   "cell_type":"code",
   "source":[
    "my_list = [\"python\",\"sunday\",9,\"TNagar\",12.3]\n",
    "print(my_list[0],my_list[2]) #index access\n",
    "print(my_list[3])\n",
    "print(my_list[-2])"
   ],
   "execution_count":17,
   "outputs":[
    {
     "name":"stdout",
     "text":[
      "python 9\n",
      "TNagar\n",
      "TNagar\n"
     ],
     "output_type":"stream"
    }
   ],
   "metadata":{
    "datalore":{
     "node_id":"GOdR9DGAcJ73159JW2kLSk",
     "type":"CODE",
     "hide_input_from_viewers":true,
     "hide_output_from_viewers":true
    }
   }
  },
  {
   "cell_type":"code",
   "source":[
    "print(my_list[0::])\n",
    "print(my_list[2:])\n",
    "print(my_list[1:3])\n",
    "print(my_list[::2]) #skip\n",
    "print(my_list[-1:])\n",
    "print(my_list[::-2]) #reverse slicing"
   ],
   "execution_count":18,
   "outputs":[
    {
     "name":"stdout",
     "text":[
      "['python', 'sunday', 9, 'TNagar', 12.3]\n",
      "[9, 'TNagar', 12.3]\n",
      "['sunday', 9]\n",
      "['python', 9, 12.3]\n",
      "[12.3]\n",
      "[12.3, 9, 'python']\n"
     ],
     "output_type":"stream"
    }
   ],
   "metadata":{
    "datalore":{
     "node_id":"q4LmRRXLxWpMGe3MBk1zhC",
     "type":"CODE",
     "hide_input_from_viewers":true,
     "hide_output_from_viewers":true
    }
   }
  },
  {
   "cell_type":"code",
   "source":[
    "#List - Iteration\n",
    "for x in my_list:\n",
    "    print(x)\n",
    "\n",
    "for i in range(0, len(my_list)):\n",
    "    print(my_list[i])"
   ],
   "execution_count":19,
   "outputs":[
    {
     "name":"stdout",
     "text":[
      "python\n",
      "sunday\n",
      "9\n",
      "TNagar\n",
      "12.3\n",
      "python\n",
      "sunday\n",
      "9\n",
      "TNagar\n",
      "12.3\n"
     ],
     "output_type":"stream"
    }
   ],
   "metadata":{
    "datalore":{
     "node_id":"GUUNJX0aBAIV3DYRd3myyy",
     "type":"CODE",
     "hide_input_from_viewers":true,
     "hide_output_from_viewers":true
    }
   }
  },
  {
   "cell_type":"code",
   "source":[
    "#List - Adding, Update, Delete\n",
    "\n",
    "#append\n",
    "my_list.append(\"Level 1\") #last location\n",
    "print(my_list)\n",
    "#insert\n",
    "my_list.insert(2,40) #prefered index location\n",
    "print(my_list)\n",
    "my_list.insert(3,[\"Venkat\",25,7.5]) #creating nested list\n",
    "print(my_list)\n",
    "#extend\n",
    "my_list.extend([\"Course\",\"Fita\",1]) #exteend used to add multiple items at the last of the list\n",
    "print(my_list)"
   ],
   "execution_count":20,
   "outputs":[
    {
     "name":"stdout",
     "text":[
      "['python', 'sunday', 9, 'TNagar', 12.3, 'Level 1']\n",
      "['python', 'sunday', 40, 9, 'TNagar', 12.3, 'Level 1']\n",
      "['python', 'sunday', 40, ['Venkat', 25, 7.5], 9, 'TNagar', 12.3, 'Level 1']\n",
      "['python', 'sunday', 40, ['Venkat', 25, 7.5], 9, 'TNagar', 12.3, 'Level 1', 'Course', 'Fita', 1]\n"
     ],
     "output_type":"stream"
    }
   ],
   "metadata":{
    "datalore":{
     "node_id":"FmD4mYcFUF82xXcsXwkj4T",
     "type":"CODE",
     "hide_input_from_viewers":true,
     "hide_output_from_viewers":true
    }
   }
  },
  {
   "cell_type":"code",
   "source":[
    "#Modifying the list\n",
    "my_list[10] = \"Weekend\"\n",
    "print(my_list)\n",
    "my_list[4:6] = [\"9AM\",\"PondyBazzar\",15]\n",
    "print(my_list)\n",
    "my_list[3][2] = 100\n",
    "print(my_list)"
   ],
   "execution_count":21,
   "outputs":[
    {
     "name":"stdout",
     "text":[
      "['python', 'sunday', 40, ['Venkat', 25, 7.5], 9, 'TNagar', 12.3, 'Level 1', 'Course', 'Fita', 'Weekend']\n",
      "['python', 'sunday', 40, ['Venkat', 25, 7.5], '9AM', 'PondyBazzar', 15, 12.3, 'Level 1', 'Course', 'Fita', 'Weekend']\n",
      "['python', 'sunday', 40, ['Venkat', 25, 100], '9AM', 'PondyBazzar', 15, 12.3, 'Level 1', 'Course', 'Fita', 'Weekend']\n"
     ],
     "output_type":"stream"
    }
   ],
   "metadata":{
    "datalore":{
     "node_id":"IQxCzRTPemuuUDw19G6W7c",
     "type":"CODE",
     "hide_input_from_viewers":true,
     "hide_output_from_viewers":true
    }
   }
  },
  {
   "cell_type":"code",
   "source":[
    "my_list = ['python', 'sunday', 40, ['Venkat', 25, 100], '9AM', 'PondyBazzar', 15, 12.3, 'Level 1', 'Course', 'Fita', 'Weekend']\n",
    "#Deleting in the list\n",
    "my_list.remove(12.3) #deleting with data element\n",
    "print(my_list)\n",
    "my_list.pop(6) #deleting with index\n",
    "print(my_list)\n",
    "del my_list[7:10] #deleting reange of items\n",
    "print(my_list)\n",
    "my_list.clear() #clearing all the items in the list\n",
    "print(my_list)\n",
    "#del my_list #deleting the list itself\n",
    "#print(my_list)"
   ],
   "execution_count":22,
   "outputs":[
    {
     "name":"stdout",
     "text":[
      "['python', 'sunday', 40, ['Venkat', 25, 100], '9AM', 'PondyBazzar', 15, 'Level 1', 'Course', 'Fita', 'Weekend']\n",
      "['python', 'sunday', 40, ['Venkat', 25, 100], '9AM', 'PondyBazzar', 'Level 1', 'Course', 'Fita', 'Weekend']\n",
      "['python', 'sunday', 40, ['Venkat', 25, 100], '9AM', 'PondyBazzar', 'Level 1']\n",
      "[]\n"
     ],
     "output_type":"stream"
    }
   ],
   "metadata":{
    "datalore":{
     "node_id":"5tu1Q1ELK5yKNcwl49VLzr",
     "type":"CODE",
     "hide_input_from_viewers":true,
     "hide_output_from_viewers":true
    }
   }
  },
  {
   "cell_type":"code",
   "source":[
    "my_list2 = list2 + list1 #concatenation\n",
    "print(my_list2)\n",
    "my_list3 = []\n",
    "my_list3.extend(list3)\n",
    "print(my_list3)"
   ],
   "execution_count":23,
   "outputs":[
    {
     "name":"stdout",
     "text":[
      "[4.5, 8.9, 2.4, 1, 4, 5]\n",
      "[6, 'Avatar', 190.5]\n"
     ],
     "output_type":"stream"
    }
   ],
   "metadata":{
    "datalore":{
     "node_id":"lSDeC16Mck4gq4o0Pq4yEk",
     "type":"CODE",
     "hide_input_from_viewers":true,
     "hide_output_from_viewers":true
    }
   }
  },
  {
   "cell_type":"code",
   "source":[
    "my_list4 = my_list2 #using assignment\n",
    "print(my_list4)\n",
    "my_list5 = my_list2 + my_list3\n",
    "my_list6 = my_list5.copy() #copy the list using function\n",
    "print(my_list6)"
   ],
   "execution_count":24,
   "outputs":[
    {
     "name":"stdout",
     "text":[
      "[4.5, 8.9, 2.4, 1, 4, 5]\n",
      "[4.5, 8.9, 2.4, 1, 4, 5, 6, 'Avatar', 190.5]\n"
     ],
     "output_type":"stream"
    }
   ],
   "metadata":{
    "datalore":{
     "node_id":"ubLunQsNdDFmdD6S0Ry1HR",
     "type":"CODE",
     "hide_input_from_viewers":true,
     "hide_output_from_viewers":true
    }
   }
  },
  {
   "cell_type":"code",
   "source":[
    "my_list4.sort() #sorting\n",
    "print(my_list4)\n",
    "my_list7 = [\"apple\",\"orange\",\"banana\",\"fig\"] #sorting with string items\n",
    "my_list7.sort()\n",
    "print(my_list7)\n",
    "my_list7.reverse() #reversing the list\n",
    "print(my_list7)\n",
    "print(max(my_list4)) #maximum of list items\n",
    "print(max(my_list7))\n",
    "print(sum(my_list4))"
   ],
   "execution_count":25,
   "outputs":[
    {
     "name":"stdout",
     "text":[
      "[1, 2.4, 4, 4.5, 5, 8.9]\n",
      "['apple', 'banana', 'fig', 'orange']\n",
      "['orange', 'fig', 'banana', 'apple']\n",
      "8.9\n",
      "orange\n",
      "25.799999999999997\n"
     ],
     "output_type":"stream"
    }
   ],
   "metadata":{
    "datalore":{
     "node_id":"VmA64xuEUDojBqfuX874Gp",
     "type":"CODE",
     "hide_input_from_viewers":true,
     "hide_output_from_viewers":true
    }
   }
  },
  {
   "cell_type":"code",
   "source":[
    "#24 Dec\n",
    "my_tup1 = (2,6,7)\n",
    "my_tup2 = tuple((\"Saturday\",76,34.5))\n",
    "print(my_tup1,my_tup2)\n",
    "print(type(my_tup1))\n",
    "print(type(my_tup2))"
   ],
   "execution_count":26,
   "outputs":[
    {
     "name":"stdout",
     "text":[
      "(2, 6, 7) ('Saturday', 76, 34.5)\n",
      "<class 'tuple'>\n",
      "<class 'tuple'>\n"
     ],
     "output_type":"stream"
    }
   ],
   "metadata":{
    "datalore":{
     "node_id":"0zsUThxoGrAr5HtrvXYHlT",
     "type":"CODE",
     "hide_input_from_viewers":true,
     "hide_output_from_viewers":true
    }
   }
  },
  {
   "cell_type":"code",
   "source":[
    "my_tup3 = ('Python')\n",
    "print(my_tup3)\n",
    "print(type(my_tup3))\n",
    "my_tup4 = ('Weekend',)\n",
    "print(my_tup4)\n",
    "print(type(my_tup4))"
   ],
   "execution_count":27,
   "outputs":[
    {
     "name":"stdout",
     "text":[
      "Python\n",
      "<class 'str'>\n",
      "('Weekend',)\n",
      "<class 'tuple'>\n"
     ],
     "output_type":"stream"
    }
   ],
   "metadata":{
    "datalore":{
     "node_id":"Za6gJ6AyYoSIC2KJn7B09j",
     "type":"CODE",
     "hide_input_from_viewers":true,
     "hide_output_from_viewers":true
    }
   }
  },
  {
   "cell_type":"code",
   "source":[
    "print(len(my_tup1))\n",
    "print(len(my_tup2))\n",
    "print(len(my_tup4))"
   ],
   "execution_count":28,
   "outputs":[
    {
     "name":"stdout",
     "text":[
      "3\n",
      "3\n",
      "1\n"
     ],
     "output_type":"stream"
    }
   ],
   "metadata":{
    "datalore":{
     "node_id":"IgTprcIa3MPhzyY4s2Ygep",
     "type":"CODE",
     "hide_input_from_viewers":true,
     "hide_output_from_viewers":true
    }
   }
  },
  {
   "cell_type":"code",
   "source":[
    "for x in my_tup1:\n",
    "    print(x)"
   ],
   "execution_count":29,
   "outputs":[
    {
     "name":"stdout",
     "text":[
      "2\n",
      "6\n",
      "7\n"
     ],
     "output_type":"stream"
    }
   ],
   "metadata":{
    "datalore":{
     "node_id":"P2VbTeBeNUbtQNFG0JQ41c",
     "type":"CODE",
     "hide_input_from_viewers":true,
     "hide_output_from_viewers":true
    }
   }
  },
  {
   "cell_type":"code",
   "source":[
    "print(my_tup1[1])\n",
    "print(my_tup2[-2])\n",
    "print(my_tup1[1:2])"
   ],
   "execution_count":30,
   "outputs":[
    {
     "name":"stdout",
     "text":[
      "6\n",
      "76\n",
      "(6,)\n"
     ],
     "output_type":"stream"
    }
   ],
   "metadata":{
    "datalore":{
     "node_id":"HR8mcVlJZ8qlIjF59H2X90",
     "type":"CODE",
     "hide_input_from_viewers":true,
     "hide_output_from_viewers":true
    }
   }
  },
  {
   "cell_type":"code",
   "source":[
    "sam_list = list(my_tup1)\n",
    "sam_list.append(17)\n",
    "sam_list.insert(4,\"ronaldo\")\n",
    "\n",
    "my_tup1 = tuple(sam_list)\n",
    "print(my_tup1)"
   ],
   "execution_count":31,
   "outputs":[
    {
     "name":"stdout",
     "text":[
      "(2, 6, 7, 17, 'ronaldo')\n"
     ],
     "output_type":"stream"
    }
   ],
   "metadata":{
    "datalore":{
     "node_id":"1Uzbq38TOSiSTLBfTaeXqR",
     "type":"CODE",
     "hide_input_from_viewers":true,
     "hide_output_from_viewers":true
    }
   }
  },
  {
   "cell_type":"code",
   "source":[
    "my_tup5 = (10,20,[35,63,73])\n",
    "print(type(my_tup5))\n",
    "my_tup5[2][0] = 34.5 #changing the list item in the tuple\n",
    "print(my_tup5)"
   ],
   "execution_count":32,
   "outputs":[
    {
     "name":"stdout",
     "text":[
      "<class 'tuple'>\n",
      "(10, 20, [34.5, 63, 73])\n"
     ],
     "output_type":"stream"
    }
   ],
   "metadata":{
    "datalore":{
     "node_id":"N6RQ5Yf1QpLclOSNLJpnR3",
     "type":"CODE",
     "hide_input_from_viewers":true,
     "hide_output_from_viewers":true
    }
   }
  },
  {
   "cell_type":"code",
   "source":[
    "del my_tup4"
   ],
   "execution_count":33,
   "outputs":[
    
   ],
   "metadata":{
    "datalore":{
     "node_id":"MSExatSyJse9kugsDbTx56",
     "type":"CODE",
     "hide_input_from_viewers":true,
     "hide_output_from_viewers":true
    }
   }
  },
  {
   "cell_type":"code",
   "source":[
    "my_set1 = {'Kohli',18,\"Ashwin\",99} #{} for set\n",
    "print(my_set1)\n",
    "print(type(my_set1))\n",
    "my_set2 = set((4,'Sachin',4,8))\n",
    "print(my_set2)"
   ],
   "execution_count":34,
   "outputs":[
    {
     "name":"stdout",
     "text":[
      "{'Ashwin', 18, 99, 'Kohli'}\n",
      "<class 'set'>\n",
      "{8, 4, 'Sachin'}\n"
     ],
     "output_type":"stream"
    }
   ],
   "metadata":{
    "datalore":{
     "node_id":"tcz0sI4uJngyRWLfcUwtK4",
     "type":"CODE",
     "hide_input_from_viewers":true,
     "hide_output_from_viewers":true
    }
   }
  },
  {
   "cell_type":"code",
   "source":[
    "my_set1.add('Pollard')\n",
    "print(my_set1)\n",
    "my_set2.update(['Bravo','Dravid','Shewag']) #only adding new data elements not able to modify the existing element\n",
    "print(my_set2)"
   ],
   "execution_count":35,
   "outputs":[
    {
     "name":"stdout",
     "text":[
      "{'Ashwin', 99, 'Kohli', 18, 'Pollard'}\n",
      "{'Shewag', 4, 'Sachin', 8, 'Dravid', 'Bravo'}\n"
     ],
     "output_type":"stream"
    }
   ],
   "metadata":{
    "datalore":{
     "node_id":"9NMcWI9kd9LS4nAEh92pB1",
     "type":"CODE",
     "hide_input_from_viewers":true,
     "hide_output_from_viewers":true
    }
   }
  },
  {
   "cell_type":"code",
   "source":[
    "my_set1.remove(99)\n",
    "my_set1.discard(23) #no error will come if data element is not in the set\n",
    "print(my_set1)"
   ],
   "execution_count":36,
   "outputs":[
    {
     "name":"stdout",
     "text":[
      "{'Ashwin', 'Kohli', 18, 'Pollard'}\n"
     ],
     "output_type":"stream"
    }
   ],
   "metadata":{
    "datalore":{
     "node_id":"O4xDETjeSFERxBJvdIHPOH",
     "type":"CODE",
     "hide_input_from_viewers":true,
     "hide_output_from_viewers":true
    }
   }
  },
  {
   "cell_type":"code",
   "source":[
    "my_set1.pop() #randomly delete the data elements in the set\n",
    "my_set2.clear()\n",
    "print(my_set1)\n",
    "print(my_set2)\n",
    "del my_set2"
   ],
   "execution_count":37,
   "outputs":[
    {
     "name":"stdout",
     "text":[
      "{'Kohli', 18, 'Pollard'}\n",
      "set()\n"
     ],
     "output_type":"stream"
    }
   ],
   "metadata":{
    "datalore":{
     "node_id":"IAEYnKkByfkLDpnGFnM689",
     "type":"CODE",
     "hide_input_from_viewers":true,
     "hide_output_from_viewers":true
    }
   }
  },
  {
   "cell_type":"code",
   "source":[
    "my_dict1 = {\"1\":10,\"2\":7,\"3\":6}\n",
    "print(my_dict1)\n",
    "print(type(my_dict1))\n",
    "my_dict2 = dict({\"name\":\"Dinesh\",\"company\":\"HCL\"})\n",
    "print(my_dict2)"
   ],
   "execution_count":38,
   "outputs":[
    {
     "name":"stdout",
     "text":[
      "{'1': 10, '2': 7, '3': 6}\n",
      "<class 'dict'>\n",
      "{'name': 'Dinesh', 'company': 'HCL'}\n"
     ],
     "output_type":"stream"
    }
   ],
   "metadata":{
    "datalore":{
     "node_id":"dmqfbwcEO4AvBVihB8NmxU",
     "type":"CODE",
     "hide_input_from_viewers":true,
     "hide_output_from_viewers":true
    }
   }
  },
  {
   "cell_type":"code",
   "source":[
    "my_dict1[\"class\"] = \"python\"\n",
    "print(my_dict1)\n",
    "my_dict2.update({\"5\":20})\n",
    "print(my_dict2)\n",
    "my_dict2.pop('5')\n",
    "print(my_dict2)"
   ],
   "execution_count":39,
   "outputs":[
    {
     "name":"stdout",
     "text":[
      "{'1': 10, '2': 7, '3': 6, 'class': 'python'}\n",
      "{'name': 'Dinesh', 'company': 'HCL', '5': 20}\n",
      "{'name': 'Dinesh', 'company': 'HCL'}\n"
     ],
     "output_type":"stream"
    }
   ],
   "metadata":{
    "datalore":{
     "node_id":"6zSX1XQ7CcCHHrOePOAQ7g",
     "type":"CODE",
     "hide_input_from_viewers":true,
     "hide_output_from_viewers":true
    }
   }
  },
  {
   "cell_type":"code",
   "source":[
    "#Control Flow\n",
    "#if , if else, if elif  - conditional statements\n",
    "#for, while - Iterative\n",
    "#break, continue, pass - Transfer"
   ],
   "execution_count":40,
   "outputs":[
    
   ],
   "metadata":{
    "datalore":{
     "node_id":"w9Yd07RAeKteYQhPA4iNNC",
     "type":"CODE",
     "hide_input_from_viewers":true,
     "hide_output_from_viewers":true
    }
   }
  },
  {
   "cell_type":"code",
   "source":[
    "num  = 12\n",
    "if num == 10:\n",
    "    print(\"it is 10\")\n",
    "else:\n",
    "    print(\"It is not 10\")"
   ],
   "execution_count":41,
   "outputs":[
    {
     "name":"stdout",
     "text":[
      "It is not 10\n"
     ],
     "output_type":"stream"
    }
   ],
   "metadata":{
    "datalore":{
     "node_id":"uSGJfULUxuTrhRGOMmgJZa",
     "type":"CODE",
     "hide_input_from_viewers":true,
     "hide_output_from_viewers":true
    }
   }
  },
  {
   "cell_type":"code",
   "source":[
    "def fita(course):\n",
    "    if course == 1:\n",
    "        print(\"python\")\n",
    "    elif course == 2:\n",
    "        print(\"Java\")\n",
    "    elif course == 3:\n",
    "        print(\"C++\")\n",
    "    elif course == 4:\n",
    "        print(\"C\")\n",
    "\n",
    "fita(2)"
   ],
   "execution_count":42,
   "outputs":[
    {
     "name":"stdout",
     "text":[
      "Java\n"
     ],
     "output_type":"stream"
    }
   ],
   "metadata":{
    "datalore":{
     "node_id":"gFl3lc3JEMH19Sg1XU50to",
     "type":"CODE",
     "hide_input_from_viewers":true,
     "hide_output_from_viewers":true
    }
   }
  },
  {
   "cell_type":"code",
   "source":[
    "#for\n",
    "for i in range(20,1,-1):\n",
    "    print(i)"
   ],
   "execution_count":43,
   "outputs":[
    {
     "name":"stdout",
     "text":[
      "20\n",
      "19\n",
      "18\n",
      "17\n",
      "16\n",
      "15\n",
      "14\n",
      "13\n",
      "12\n",
      "11\n",
      "10\n",
      "9\n",
      "8\n",
      "7\n",
      "6\n",
      "5\n",
      "4\n",
      "3\n",
      "2\n"
     ],
     "output_type":"stream"
    }
   ],
   "metadata":{
    "datalore":{
     "node_id":"EcehGPr7dUPjb8HyrD7ybx",
     "type":"CODE",
     "hide_input_from_viewers":true,
     "hide_output_from_viewers":true
    }
   }
  },
  {
   "cell_type":"code",
   "source":[
    "#while\n",
    "a = 1\n",
    "while(a < 5):\n",
    "    a = a+1\n",
    "    print(a)"
   ],
   "execution_count":44,
   "outputs":[
    {
     "name":"stdout",
     "text":[
      "2\n",
      "3\n",
      "4\n",
      "5\n"
     ],
     "output_type":"stream"
    }
   ],
   "metadata":{
    "datalore":{
     "node_id":"6S4LO7HIpEVeG2OVL7ygWs",
     "type":"CODE",
     "hide_input_from_viewers":true,
     "hide_output_from_viewers":true
    }
   }
  },
  {
   "cell_type":"code",
   "source":[
    "for n in range(15):\n",
    "    if n > 10:\n",
    "        print(\"This is greater 10\")\n",
    "        pass\n",
    "    print(n)"
   ],
   "execution_count":45,
   "outputs":[
    {
     "name":"stdout",
     "text":[
      "0\n",
      "1\n",
      "2\n",
      "3\n",
      "4\n",
      "5\n",
      "6\n",
      "7\n",
      "8\n",
      "9\n",
      "10\n",
      "This is greater 10\n",
      "11\n",
      "This is greater 10\n",
      "12\n",
      "This is greater 10\n",
      "13\n",
      "This is greater 10\n",
      "14\n"
     ],
     "output_type":"stream"
    }
   ],
   "metadata":{
    "datalore":{
     "node_id":"WT91YEoMzPnxaGAEg4N4Uj",
     "type":"CODE",
     "hide_input_from_viewers":true,
     "hide_output_from_viewers":true
    }
   }
  },
  {
   "cell_type":"code",
   "source":[
    "for a in range(10):\n",
    "    pass"
   ],
   "execution_count":46,
   "outputs":[
    
   ],
   "metadata":{
    "datalore":{
     "node_id":"f9HxoZyM8JqQojUUpoLFaI",
     "type":"CODE",
     "hide_input_from_viewers":true,
     "hide_output_from_viewers":true
    }
   }
  },
  {
   "cell_type":"code",
   "source":[
    "for i in range(1,11):\n",
    "    for j in range(1,11):\n",
    "        print(i*j,end=' ')\n",
    "    print()"
   ],
   "execution_count":47,
   "outputs":[
    {
     "name":"stdout",
     "text":[
      "1 2 3 4 5 6 7 8 9 10 \n",
      "2 4 6 8 10 12 14 16 18 20 \n",
      "3 6 9 12 15 18 21 24 27 30 \n",
      "4 8 12 16 20 24 28 32 36 40 \n",
      "5 10 15 20 25 30 35 40 45 50 \n",
      "6 12 18 24 30 36 42 48 54 60 \n",
      "7 14 21 28 35 42 49 56 63 70 \n",
      "8 16 24 32 40 48 56 64 72 80 \n",
      "9 18 27 36 45 54 63 72 81 90 \n",
      "10 20 30 40 50 60 70 80 90 100 \n"
     ],
     "output_type":"stream"
    }
   ],
   "metadata":{
    "datalore":{
     "node_id":"CuQgKAoXUnfGuuSUR3iN0s",
     "type":"CODE",
     "hide_input_from_viewers":true,
     "hide_output_from_viewers":true
    }
   }
  },
  {
   "cell_type":"code",
   "source":[
    "x = 6\n",
    "for i in range(x):\n",
    "    for j in range(i):\n",
    "        print(i, end= ' ')\n",
    "    print('')"
   ],
   "execution_count":48,
   "outputs":[
    {
     "name":"stdout",
     "text":[
      "\n",
      "1 \n",
      "2 2 \n",
      "3 3 3 \n",
      "4 4 4 4 \n",
      "5 5 5 5 5 \n"
     ],
     "output_type":"stream"
    }
   ],
   "metadata":{
    "datalore":{
     "node_id":"0BB7AylVvcmIhIzkxO669x",
     "type":"CODE",
     "hide_input_from_viewers":true,
     "hide_output_from_viewers":true
    }
   }
  },
  {
   "cell_type":"code",
   "source":[
    "x = 5\n",
    "for i in range(1,x+1):\n",
    "    for j in range(1,i+1):\n",
    "        print(j, end= ' ')\n",
    "    print('')"
   ],
   "execution_count":49,
   "outputs":[
    {
     "name":"stdout",
     "text":[
      "1 \n",
      "1 2 \n",
      "1 2 3 \n",
      "1 2 3 4 \n",
      "1 2 3 4 5 \n"
     ],
     "output_type":"stream"
    }
   ],
   "metadata":{
    "datalore":{
     "node_id":"5wSH50ZM7gMpFaavPJEaUF",
     "type":"CODE",
     "hide_input_from_viewers":true,
     "hide_output_from_viewers":true
    }
   }
  },
  {
   "cell_type":"code",
   "source":[
    "x = 5\n",
    "y = 0\n",
    "for i in range(x,0,-1):\n",
    "    y += 1\n",
    "    for j in range(1,i+1):\n",
    "        print('*', end=' ')\n",
    "    print('')"
   ],
   "execution_count":50,
   "outputs":[
    {
     "name":"stdout",
     "text":[
      "* * * * * \n",
      "* * * * \n",
      "* * * \n",
      "* * \n",
      "* \n"
     ],
     "output_type":"stream"
    }
   ],
   "metadata":{
    "datalore":{
     "node_id":"Zp4Kwna3pzhQF3bFyi6YhZ",
     "type":"CODE",
     "hide_input_from_viewers":true,
     "hide_output_from_viewers":true
    }
   }
  },
  {
   "cell_type":"code",
   "source":[
    "# Funtions - 1.Built-in 2.User defined\n",
    "def Fita(): #default\n",
    "    print(\"Welcome to Fita  Academy\")\n",
    "\n",
    "Fita()"
   ],
   "execution_count":51,
   "outputs":[
    {
     "name":"stdout",
     "text":[
      "Welcome to Fita  Academy\n"
     ],
     "output_type":"stream"
    }
   ],
   "metadata":{
    "datalore":{
     "node_id":"WkOKouF5tAxc42IHv6CvCm",
     "type":"CODE",
     "hide_input_from_viewers":true,
     "hide_output_from_viewers":true
    }
   }
  },
  {
   "cell_type":"code",
   "source":[
    "def Course(name,cour): #parameterized functions\n",
    "    print(\"Student name is\",name)\n",
    "    print(\"Course name is\",cour)\n",
    "\n",
    "Course(\"Lokesh\",\"Data Science\")"
   ],
   "execution_count":52,
   "outputs":[
    {
     "name":"stdout",
     "text":[
      "Student name is Lokesh\n",
      "Course name is Data Science\n"
     ],
     "output_type":"stream"
    }
   ],
   "metadata":{
    "datalore":{
     "node_id":"izoEfYXmwnNQoZDiTMXbjg",
     "type":"CODE",
     "hide_input_from_viewers":true,
     "hide_output_from_viewers":true
    }
   }
  },
  {
   "cell_type":"code",
   "source":[
    "def Add(a,b):\n",
    "    add = a+b\n",
    "    return add\n",
    "\n",
    "res = Add(15,3)\n",
    "print(\"Sum is\",res)"
   ],
   "execution_count":53,
   "outputs":[
    {
     "name":"stdout",
     "text":[
      "Sum is 18\n"
     ],
     "output_type":"stream"
    }
   ],
   "metadata":{
    "datalore":{
     "node_id":"oFybf55dfD69SgbWtRlh1l",
     "type":"CODE",
     "hide_input_from_viewers":true,
     "hide_output_from_viewers":true
    }
   }
  },
  {
   "cell_type":"code",
   "source":[
    "from random import randint #function from module\n",
    "\n",
    "print(randint(10,50))"
   ],
   "execution_count":54,
   "outputs":[
    {
     "name":"stdout",
     "text":[
      "43\n"
     ],
     "output_type":"stream"
    }
   ],
   "metadata":{
    "datalore":{
     "node_id":"IkxTm1V4t2eew3jEBFyylc",
     "type":"CODE",
     "hide_input_from_viewers":true,
     "hide_output_from_viewers":true
    }
   }
  },
  {
   "cell_type":"code",
   "source":[
    "def Even(even_list):\n",
    "    even_num = []\n",
    "    for n in even_list:\n",
    "        if n%2 == 0:\n",
    "            even_num.append(n) #appending the even nummbers in the return\n",
    "    return even_num\n",
    "\n",
    "eve = Even([4,6,3,8,7,9,10,24])\n",
    "print(\"Even numbers are\",eve)"
   ],
   "execution_count":55,
   "outputs":[
    {
     "name":"stdout",
     "text":[
      "Even numbers are [4, 6, 8, 10, 24]\n"
     ],
     "output_type":"stream"
    }
   ],
   "metadata":{
    "datalore":{
     "node_id":"LpxHpsSV3PethpdoukBRUi",
     "type":"CODE",
     "hide_input_from_viewers":true,
     "hide_output_from_viewers":true
    }
   }
  },
  {
   "cell_type":"code",
   "source":[
    "#lambda function\n",
    "li = [4,6,3,8,7,9,10,24]\n",
    "even = list(filter(lambda x: x%2 == 0,li)) #filter used to return the values using on the conditions\n",
    "print(\"Even numbers are\",even)"
   ],
   "execution_count":56,
   "outputs":[
    {
     "name":"stdout",
     "text":[
      "Even numbers are [4, 6, 8, 10, 24]\n"
     ],
     "output_type":"stream"
    }
   ],
   "metadata":{
    "datalore":{
     "node_id":"cShwnqIttNo0Uj9CIia5ZH",
     "type":"CODE",
     "hide_input_from_viewers":true,
     "hide_output_from_viewers":true
    }
   }
  },
  {
   "cell_type":"code",
   "source":[
    "def fact(x):\n",
    "    if x==1:\n",
    "        return 1\n",
    "    else:\n",
    "        return(x * fact(x-1))\n",
    "    \n",
    "fact(5)"
   ],
   "execution_count":57,
   "outputs":[
    {
     "data":{
      "text\/plain":[
       "120"
      ]
     },
     "metadata":{
      
     },
     "output_type":"display_data"
    }
   ],
   "metadata":{
    "datalore":{
     "node_id":"y3JL8cA3SzoiHaHsN7hWVk",
     "type":"CODE",
     "hide_input_from_viewers":true,
     "hide_output_from_viewers":true
    }
   }
  },
  {
   "cell_type":"code",
   "source":[
    "#oops\n",
    "class Student:\n",
    "    def __init__(self, name, course, branch): #self used to assign the variables\n",
    "        self.name = name\n",
    "        self.course = course\n",
    "        self.branch = branch\n",
    "    def Fita(self):\n",
    "        print(\"Student name is\",self.name, \"and course is\",self.course)\n",
    "    def Work(self):\n",
    "        print(\"Branch is\",self.branch)\n",
    "\n",
    "Stu = Student(\"Jeeva\",\"Python\",\"Tnagar\")\n",
    "Stu.Fita()\n",
    "Stu.Work()"
   ],
   "execution_count":58,
   "outputs":[
    {
     "name":"stdout",
     "text":[
      "Student name is Jeeva and course is Python\n",
      "Branch is Tnagar\n"
     ],
     "output_type":"stream"
    }
   ],
   "metadata":{
    "datalore":{
     "node_id":"Vu4UOIB5ZuPkuzRtB75HJn",
     "type":"CODE",
     "hide_input_from_viewers":true,
     "hide_output_from_viewers":true
    }
   }
  },
  {
   "cell_type":"code",
   "source":[
    "#class and instance variables\n",
    "class Student:\n",
    "    city = \"Chennai\"\n",
    "    def __init__(self, name, course, branch):\n",
    "        self.name = name\n",
    "        self.course = course\n",
    "        self.branch = branch\n",
    "    def Fita(self):\n",
    "        print(\"Student name is\",self.name, \"and course is\",self.course)\n",
    "    def Work(self):\n",
    "        print(\"Branch is\",self.branch)\n",
    "\n",
    "Stu = Student(\"Jeeva\",\"Python\",\"Tnagar\")\n",
    "print(Stu.city)\n",
    "Stu.Fita()\n",
    "Stu.Work()"
   ],
   "execution_count":59,
   "outputs":[
    {
     "name":"stdout",
     "text":[
      "Chennai\n",
      "Student name is Jeeva and course is Python\n",
      "Branch is Tnagar\n"
     ],
     "output_type":"stream"
    }
   ],
   "metadata":{
    "datalore":{
     "node_id":"om9GbOuT3VmbEopGoU4RWb",
     "type":"CODE",
     "hide_input_from_viewers":true,
     "hide_output_from_viewers":true
    }
   }
  },
  {
   "cell_type":"code",
   "source":[
    "class Student:\n",
    "    city = \"Chennai\" #class variable\n",
    "    def __init__(self, name, course, branch): #contructor\n",
    "        self.name = name #instance variables\n",
    "        self.course = course\n",
    "        self.branch = branch\n",
    "    def Fita(self):\n",
    "        print(\"Student name is\",self.name, \"and course is\",self.course)\n",
    "    def Work(self):\n",
    "        print(\"Branch is\",self.branch)\n",
    "    @classmethod #class method\n",
    "    def Org(loc,name):\n",
    "        loc.city = name\n",
    "        print(name)\n",
    "\n",
    "\n",
    "Stu = Student(\"Jeeva\",\"Python\",\"Tnagar\")\n",
    "Stu.Org(\"Bangalore\")\n",
    "Stu.Fita()\n",
    "Stu.Work()"
   ],
   "execution_count":60,
   "outputs":[
    {
     "name":"stdout",
     "text":[
      "Bangalore\n",
      "Student name is Jeeva and course is Python\n",
      "Branch is Tnagar\n"
     ],
     "output_type":"stream"
    }
   ],
   "metadata":{
    "datalore":{
     "node_id":"anHkkDrdR0qQkrpFCVGdwf",
     "type":"CODE",
     "hide_input_from_viewers":true,
     "hide_output_from_viewers":true
    }
   }
  },
  {
   "cell_type":"code",
   "source":[
    "class cal():\n",
    "    def __init__(self,a,b):\n",
    "        self.a = a\n",
    "        self.b = b\n",
    "    def add(self):\n",
    "        return self.a + self.b\n",
    "    def sub(self):\n",
    "        return self.a - self.b\n",
    "    def multiply(self):\n",
    "        return self.a * self.b\n",
    "    def divide(self):\n",
    "        return self.a \/ self.b\n",
    "\n",
    "a = int(input('Enter First number : '))\n",
    "b = int(input('Enter Second number : '))        \n",
    "obj=cal(a,b)\n",
    "while True:\n",
    "    def menu():\n",
    "        x = ('1. Add \\n2. Sub \\n3. Multiply \\n4. Divide') \n",
    "        print(x)\n",
    "    menu()\n",
    "    choice = int(input('Please select one of the following : ')) \n",
    "    if choice == 1:\n",
    "        print(\"Result: \",obj.add())\n",
    "    elif choice == 2:\n",
    "        print(\"Result: \",obj.sub())\n",
    "    elif choice == 3:\n",
    "        print(\"Result: \",obj.multiply())    \n",
    "    elif choice == 4:\n",
    "        print(\"Result: \",obj.divide())\n",
    "    elif choice == 0:\n",
    "        print('Again try one of the following')\n",
    "        break\n",
    "    else:\n",
    "        print('Invalid option') \n",
    "        break     \n",
    "print()"
   ],
   "execution_count":61,
   "outputs":[
    {
     "name":"stdout",
     "text":[
      "Enter First number :  7\n",
      "Enter Second number :  8\n",
      "1. Add \n",
      "2. Sub \n",
      "3. Multiply \n",
      "4. Divide\n",
      "Please select one of the following :  3\n",
      "Result:  56\n",
      "1. Add \n",
      "2. Sub \n",
      "3. Multiply \n",
      "4. Divide\n",
      "Please select one of the following :  0\n",
      "Again try one of the following\n",
      "\n"
     ],
     "output_type":"stream"
    }
   ],
   "metadata":{
    "datalore":{
     "node_id":"8lDWG8LjvTbvzBX2NTnJSH",
     "type":"CODE",
     "hide_input_from_viewers":true,
     "hide_output_from_viewers":true
    }
   }
  },
  {
   "cell_type":"code",
   "source":[
    "#Inheritance - Single, Mutliple, Multilevel, Hierachical\n",
    "#single inheritance - A to B\n",
    "class Kohli:\n",
    "    def Batting(self):\n",
    "        print(\"This is Parent Kohli Class\")\n",
    "\n",
    "class RCB(Kohli):\n",
    "    def Captain(self):\n",
    "        print(\"This is IPL child class\")\n",
    "\n",
    "r = RCB()\n",
    "r.Captain()\n",
    "r.Batting()"
   ],
   "execution_count":62,
   "outputs":[
    {
     "name":"stdout",
     "text":[
      "This is IPL child class\n",
      "This is Parent Kohli Class\n"
     ],
     "output_type":"stream"
    }
   ],
   "metadata":{
    "datalore":{
     "node_id":"qgIltIzHsq64nKyXnB3oJ1",
     "type":"CODE",
     "hide_input_from_viewers":true,
     "hide_output_from_viewers":true
    }
   }
  },
  {
   "cell_type":"code",
   "source":[
    "#Multiple - A and B to C\n",
    "class Kohli:\n",
    "    def details(self,name,runs):\n",
    "        print(\"This is Kohli Class\")\n",
    "        print(\"Name-\",name,\"Runs-\",runs)\n",
    "class Rohit:\n",
    "    def info(self,name,runs):\n",
    "        print(\"This is Rohit Class\")\n",
    "        print(\"Name-\",name,\"Runs-\",runs)\n",
    "class Run(Kohli,Rohit):\n",
    "    def cricket(self,total,skill):\n",
    "        print(\"This is Child class\")\n",
    "        print(\"Total Runs-\",total,\"Specialist-\",skill)\n",
    "\n",
    "ob = Run()\n",
    "ob.details(\"Virat Kohli\",\"500\")\n",
    "ob.info(\"Rohit Sharma\",\"380\")\n",
    "ob.cricket(\"880\",\"All Rounders\")"
   ],
   "execution_count":63,
   "outputs":[
    {
     "name":"stdout",
     "text":[
      "This is Kohli Class\n",
      "Name- Virat Kohli Runs- 500\n",
      "This is Rohit Class\n",
      "Name- Rohit Sharma Runs- 380\n",
      "This is Child class\n",
      "Total Runs- 880 Specialist- All Rounders\n"
     ],
     "output_type":"stream"
    }
   ],
   "metadata":{
    "datalore":{
     "node_id":"eVEZTqSa4vjhlHjFMGjBuB",
     "type":"CODE",
     "hide_input_from_viewers":true,
     "hide_output_from_viewers":true
    }
   }
  },
  {
   "cell_type":"code",
   "source":[
    "#Murltilevel - A to B to C\n",
    "class Kohli:\n",
    "    def details(self,name,runs):\n",
    "        print(\"This is Kohli Class\")\n",
    "        print(\"Name-\",name,\"Runs-\",runs)\n",
    "class Rohit(Kohli):\n",
    "    def info(self,name,runs):\n",
    "        print(\"This is Rohit Class\")\n",
    "        print(\"Name-\",name,\"Runs-\",runs)\n",
    "class Run(Rohit):\n",
    "    def cricket(self,total,skill):\n",
    "        print(\"This is Child class\")\n",
    "        print(\"Total Runs-\",total,\"Specialist-\",skill)\n",
    "\n",
    "ob1 = Run()\n",
    "ob1.cricket(\"4232\",\"Batsman\")\n",
    "ob1.info(\"Rohit\",\"432\")\n",
    "ob1.details(\"Virat\",\"324\")"
   ],
   "execution_count":64,
   "outputs":[
    {
     "name":"stdout",
     "text":[
      "This is Child class\n",
      "Total Runs- 4232 Specialist- Batsman\n",
      "This is Rohit Class\n",
      "Name- Rohit Runs- 432\n",
      "This is Kohli Class\n",
      "Name- Virat Runs- 324\n"
     ],
     "output_type":"stream"
    }
   ],
   "metadata":{
    "datalore":{
     "node_id":"yUH6Wof3JceQxFNHVJv8Qd",
     "type":"CODE",
     "hide_input_from_viewers":true,
     "hide_output_from_viewers":true
    }
   }
  },
  {
   "cell_type":"code",
   "source":[
    "#Hierarchical - A to B, C , D\n",
    "class India:\n",
    "    def player(self,name,age):\n",
    "        print(\"Player Name-\",name,\"Age-\",age)\n",
    "class Tennis(India):\n",
    "    def spo1(self,name,age):\n",
    "        self.name = name\n",
    "        self.age = age\n",
    "        print(\"Name -\",self.name,\"and age is \",self.age)\n",
    "class Hockey(India):\n",
    "    def spo2(self,name,age):\n",
    "        self.name = name\n",
    "        self.age = age\n",
    "        print(\"Name -\",self.name,\"and age is \",self.age)\n",
    "\n",
    "T = Tennis()\n",
    "T.player(\"Sania\",\"30\")\n",
    "T.spo1(\"Vihy\",24)\n",
    "H = Hockey()\n",
    "H.spo2(\"harish\",23)"
   ],
   "execution_count":66,
   "outputs":[
    {
     "name":"stdout",
     "text":[
      "Player Name- Sania Age- 30\n",
      "Name - Vihy and age is  24\n",
      "Name - harish and age is  23\n"
     ],
     "output_type":"stream"
    }
   ],
   "metadata":{
    "datalore":{
     "node_id":"deaRySsdxT7juPSnqDEasP",
     "type":"CODE",
     "hide_input_from_viewers":true,
     "hide_output_from_viewers":true
    }
   }
  }
 ],
 "metadata":{
  "kernelspec":{
   "display_name":"Python",
   "language":"python",
   "name":"python"
  },
  "datalore":{
   "version":1,
   "computation_mode":"REACTIVE",
   "package_manager":"pip",
   "base_environment":"default",
   "packages":[
    
   ]
  }
 },
 "nbformat":4,
 "nbformat_minor":4
}