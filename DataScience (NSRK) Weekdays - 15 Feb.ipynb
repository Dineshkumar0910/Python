{
 "cells":[
  {
   "cell_type":"markdown",
   "source":[
    "# Sheet 3"
   ],
   "attachments":{
    
   },
   "metadata":{
    "datalore":{
     "node_id":"Sheet 3",
     "type":"MD",
     "hide_input_from_viewers":false,
     "hide_output_from_viewers":false,
     "sheet_delimiter":true
    }
   }
  },
  {
   "cell_type":"code",
   "source":[
    "#13 Feb\n",
    "import pandas as pd\n",
    "data_table = pd.DataFrame({'Name':['Sathish','Mary','John'], 'Age':[23,31,20]})"
   ],
   "execution_count":2,
   "outputs":[
    
   ],
   "metadata":{
    "datalore":{
     "node_id":"Nv8iSyHcI02j8wnBSNT5rs",
     "type":"CODE",
     "hide_input_from_viewers":false,
     "hide_output_from_viewers":false
    }
   }
  },
  {
   "cell_type":"code",
   "source":[
    "data_table"
   ],
   "execution_count":3,
   "outputs":[
    {
     "data":{
      "text\/html":[
       "<div>\n",
       "<style scoped>\n",
       "    .dataframe tbody tr th:only-of-type {\n",
       "        vertical-align: middle;\n",
       "    }\n",
       "\n",
       "    .dataframe tbody tr th {\n",
       "        vertical-align: top;\n",
       "    }\n",
       "\n",
       "    .dataframe thead th {\n",
       "        text-align: right;\n",
       "    }\n",
       "<\/style>\n",
       "<table border=\"1\" class=\"dataframe\">\n",
       "  <thead>\n",
       "    <tr style=\"text-align: right;\">\n",
       "      <th><\/th>\n",
       "      <th>Name<\/th>\n",
       "      <th>Age<\/th>\n",
       "    <\/tr>\n",
       "  <\/thead>\n",
       "  <tbody>\n",
       "    <tr>\n",
       "      <th>0<\/th>\n",
       "      <td>Sathish<\/td>\n",
       "      <td>23<\/td>\n",
       "    <\/tr>\n",
       "    <tr>\n",
       "      <th>1<\/th>\n",
       "      <td>Mary<\/td>\n",
       "      <td>31<\/td>\n",
       "    <\/tr>\n",
       "    <tr>\n",
       "      <th>2<\/th>\n",
       "      <td>John<\/td>\n",
       "      <td>20<\/td>\n",
       "    <\/tr>\n",
       "  <\/tbody>\n",
       "<\/table>\n",
       "<\/div>"
      ]
     },
     "metadata":{
      
     },
     "output_type":"display_data"
    }
   ],
   "metadata":{
    "datalore":{
     "node_id":"tK3NwprvT8VJ7fluCxuic8",
     "type":"CODE",
     "hide_input_from_viewers":false,
     "hide_output_from_viewers":false
    }
   }
  },
  {
   "cell_type":"code",
   "source":[
    "data_table[\"Age\"]"
   ],
   "execution_count":4,
   "outputs":[
    {
     "data":{
      "text\/html":[
       "<pre>0    23\n",
       "1    31\n",
       "2    20\n",
       "Name: Age, dtype: int64<\/pre>"
      ]
     },
     "metadata":{
      
     },
     "output_type":"display_data"
    }
   ],
   "metadata":{
    "datalore":{
     "node_id":"Oo7irlfpt7INuLG8sqOPfA",
     "type":"CODE",
     "hide_input_from_viewers":false,
     "hide_output_from_viewers":false
    }
   }
  },
  {
   "cell_type":"code",
   "source":[
    "import numpy as np\n",
    "arr = np.array([2,5,7,4,1,9,5,2,6]).reshape(3,3,)\n",
    "arr"
   ],
   "execution_count":5,
   "outputs":[
    {
     "data":{
      "text\/html":[
       "<pre>array([[2, 5, 7],\n",
       "       [4, 1, 9],\n",
       "       [5, 2, 6]])<\/pre>"
      ]
     },
     "metadata":{
      
     },
     "output_type":"display_data"
    }
   ],
   "metadata":{
    "datalore":{
     "node_id":"Pk5CjqGaNGDY88GUOPjsFC",
     "type":"CODE",
     "hide_input_from_viewers":false,
     "hide_output_from_viewers":false
    }
   }
  },
  {
   "cell_type":"code",
   "source":[
    "table2 = pd.DataFrame(arr,columns=[\"D1\",\"D2\",\"D3\"])"
   ],
   "execution_count":8,
   "outputs":[
    
   ],
   "metadata":{
    "datalore":{
     "node_id":"4XkqzySEJ9XJMUnkO6cQJG",
     "type":"CODE",
     "hide_input_from_viewers":false,
     "hide_output_from_viewers":false
    }
   }
  },
  {
   "cell_type":"code",
   "source":[
    "table2.axes"
   ],
   "execution_count":9,
   "outputs":[
    {
     "data":{
      "text\/plain":[
       "[RangeIndex(start=0, stop=3, step=1),\n",
       " Index(['D1', 'D2', 'D3'], dtype='object')]"
      ]
     },
     "metadata":{
      
     },
     "output_type":"display_data"
    }
   ],
   "metadata":{
    "datalore":{
     "node_id":"jyAUobHsrCkIXdTedQzSVu",
     "type":"CODE",
     "hide_input_from_viewers":false,
     "hide_output_from_viewers":false
    }
   }
  },
  {
   "cell_type":"code",
   "source":[
    "table2.shape"
   ],
   "execution_count":10,
   "outputs":[
    {
     "data":{
      "text\/plain":[
       "(3, 3)"
      ]
     },
     "metadata":{
      
     },
     "output_type":"display_data"
    }
   ],
   "metadata":{
    "datalore":{
     "node_id":"tVh10FMFJofMig1cYb8r11",
     "type":"CODE",
     "hide_input_from_viewers":false,
     "hide_output_from_viewers":false
    }
   }
  },
  {
   "cell_type":"code",
   "source":[
    "table2.ndim"
   ],
   "execution_count":11,
   "outputs":[
    {
     "data":{
      "text\/plain":[
       "2"
      ]
     },
     "metadata":{
      
     },
     "output_type":"display_data"
    }
   ],
   "metadata":{
    "datalore":{
     "node_id":"shuroxyy8uzQKO6AUfpOtv",
     "type":"CODE",
     "hide_input_from_viewers":false,
     "hide_output_from_viewers":false
    }
   }
  },
  {
   "cell_type":"code",
   "source":[
    "table2.size"
   ],
   "execution_count":12,
   "outputs":[
    {
     "data":{
      "text\/plain":[
       "9"
      ]
     },
     "metadata":{
      
     },
     "output_type":"display_data"
    }
   ],
   "metadata":{
    "datalore":{
     "node_id":"AxY9qbqouPJdQavTQmtT0V",
     "type":"CODE",
     "hide_input_from_viewers":false,
     "hide_output_from_viewers":false
    }
   }
  },
  {
   "cell_type":"code",
   "source":[
    "table2.columns"
   ],
   "execution_count":13,
   "outputs":[
    {
     "data":{
      "text\/plain":[
       "Index(['D1', 'D2', 'D3'], dtype='object')"
      ]
     },
     "metadata":{
      
     },
     "output_type":"display_data"
    }
   ],
   "metadata":{
    "datalore":{
     "node_id":"GRV5yUvDCpyD9slMV2bFC9",
     "type":"CODE",
     "hide_input_from_viewers":false,
     "hide_output_from_viewers":false
    }
   }
  },
  {
   "cell_type":"code",
   "source":[
    "table2.index"
   ],
   "execution_count":14,
   "outputs":[
    {
     "data":{
      "text\/plain":[
       "RangeIndex(start=0, stop=3, step=1)"
      ]
     },
     "metadata":{
      
     },
     "output_type":"display_data"
    }
   ],
   "metadata":{
    "datalore":{
     "node_id":"AACgzXJjsDPuyTtVw1WDG4",
     "type":"CODE",
     "hide_input_from_viewers":false,
     "hide_output_from_viewers":false
    }
   }
  },
  {
   "cell_type":"code",
   "source":[
    "table2.columns = (\"Col1\",\"Col2\",\"Col3\")\n",
    "table2"
   ],
   "execution_count":15,
   "outputs":[
    {
     "data":{
      "text\/html":[
       "<div>\n",
       "<style scoped>\n",
       "    .dataframe tbody tr th:only-of-type {\n",
       "        vertical-align: middle;\n",
       "    }\n",
       "\n",
       "    .dataframe tbody tr th {\n",
       "        vertical-align: top;\n",
       "    }\n",
       "\n",
       "    .dataframe thead th {\n",
       "        text-align: right;\n",
       "    }\n",
       "<\/style>\n",
       "<table border=\"1\" class=\"dataframe\">\n",
       "  <thead>\n",
       "    <tr style=\"text-align: right;\">\n",
       "      <th><\/th>\n",
       "      <th>Col1<\/th>\n",
       "      <th>Col2<\/th>\n",
       "      <th>Col3<\/th>\n",
       "    <\/tr>\n",
       "  <\/thead>\n",
       "  <tbody>\n",
       "    <tr>\n",
       "      <th>0<\/th>\n",
       "      <td>2<\/td>\n",
       "      <td>5<\/td>\n",
       "      <td>7<\/td>\n",
       "    <\/tr>\n",
       "    <tr>\n",
       "      <th>1<\/th>\n",
       "      <td>4<\/td>\n",
       "      <td>1<\/td>\n",
       "      <td>9<\/td>\n",
       "    <\/tr>\n",
       "    <tr>\n",
       "      <th>2<\/th>\n",
       "      <td>5<\/td>\n",
       "      <td>2<\/td>\n",
       "      <td>6<\/td>\n",
       "    <\/tr>\n",
       "  <\/tbody>\n",
       "<\/table>\n",
       "<\/div>"
      ]
     },
     "metadata":{
      
     },
     "output_type":"display_data"
    }
   ],
   "metadata":{
    "datalore":{
     "node_id":"qQIvT2nQuNYUIsoOJ7Thvy",
     "type":"CODE",
     "hide_input_from_viewers":false,
     "hide_output_from_viewers":false
    }
   }
  },
  {
   "cell_type":"code",
   "source":[
    "table2.iloc[0]"
   ],
   "execution_count":16,
   "outputs":[
    {
     "data":{
      "text\/html":[
       "<pre>Col1    2\n",
       "Col2    5\n",
       "Col3    7\n",
       "Name: 0, dtype: int64<\/pre>"
      ]
     },
     "metadata":{
      
     },
     "output_type":"display_data"
    }
   ],
   "metadata":{
    "datalore":{
     "node_id":"4z7pmFm4i7g9nfVwJwdrYT",
     "type":"CODE",
     "hide_input_from_viewers":false,
     "hide_output_from_viewers":false
    }
   }
  },
  {
   "cell_type":"code",
   "source":[
    "table2.iloc[[0,1],2]"
   ],
   "execution_count":19,
   "outputs":[
    {
     "data":{
      "text\/html":[
       "<pre>0    7\n",
       "1    9\n",
       "Name: Col3, dtype: int64<\/pre>"
      ]
     },
     "metadata":{
      
     },
     "output_type":"display_data"
    }
   ],
   "metadata":{
    "datalore":{
     "node_id":"IE7b8OHEXVDxGX5hFrelOq",
     "type":"CODE",
     "hide_input_from_viewers":false,
     "hide_output_from_viewers":false
    }
   }
  },
  {
   "cell_type":"code",
   "source":[
    "table2[\"Col2\"][0]"
   ],
   "execution_count":22,
   "outputs":[
    {
     "data":{
      "text\/plain":[
       "5"
      ]
     },
     "metadata":{
      
     },
     "output_type":"display_data"
    }
   ],
   "metadata":{
    "datalore":{
     "node_id":"dF5Wx0wuzrys7PHtqLtnsk",
     "type":"CODE",
     "hide_input_from_viewers":false,
     "hide_output_from_viewers":false
    }
   }
  },
  {
   "cell_type":"code",
   "source":[
    "table2.set_index(\"Col1\",inplace = True)\n",
    "table2"
   ],
   "execution_count":23,
   "outputs":[
    {
     "data":{
      "text\/html":[
       "<div>\n",
       "<style scoped>\n",
       "    .dataframe tbody tr th:only-of-type {\n",
       "        vertical-align: middle;\n",
       "    }\n",
       "\n",
       "    .dataframe tbody tr th {\n",
       "        vertical-align: top;\n",
       "    }\n",
       "\n",
       "    .dataframe thead th {\n",
       "        text-align: right;\n",
       "    }\n",
       "<\/style>\n",
       "<table border=\"1\" class=\"dataframe\">\n",
       "  <thead>\n",
       "    <tr style=\"text-align: right;\">\n",
       "      <th><\/th>\n",
       "      <th>Col2<\/th>\n",
       "      <th>Col3<\/th>\n",
       "    <\/tr>\n",
       "    <tr>\n",
       "      <th>Col1<\/th>\n",
       "      <th><\/th>\n",
       "      <th><\/th>\n",
       "    <\/tr>\n",
       "  <\/thead>\n",
       "  <tbody>\n",
       "    <tr>\n",
       "      <th>2<\/th>\n",
       "      <td>5<\/td>\n",
       "      <td>7<\/td>\n",
       "    <\/tr>\n",
       "    <tr>\n",
       "      <th>4<\/th>\n",
       "      <td>1<\/td>\n",
       "      <td>9<\/td>\n",
       "    <\/tr>\n",
       "    <tr>\n",
       "      <th>5<\/th>\n",
       "      <td>2<\/td>\n",
       "      <td>6<\/td>\n",
       "    <\/tr>\n",
       "  <\/tbody>\n",
       "<\/table>\n",
       "<\/div>"
      ]
     },
     "metadata":{
      
     },
     "output_type":"display_data"
    }
   ],
   "metadata":{
    "datalore":{
     "node_id":"xae5UqH5ZhCOloWumjA37w",
     "type":"CODE",
     "hide_input_from_viewers":false,
     "hide_output_from_viewers":false
    }
   }
  },
  {
   "cell_type":"code",
   "source":[
    "table2.reset_index(inplace=True)\n",
    "table2"
   ],
   "execution_count":25,
   "outputs":[
    {
     "data":{
      "text\/html":[
       "<div>\n",
       "<style scoped>\n",
       "    .dataframe tbody tr th:only-of-type {\n",
       "        vertical-align: middle;\n",
       "    }\n",
       "\n",
       "    .dataframe tbody tr th {\n",
       "        vertical-align: top;\n",
       "    }\n",
       "\n",
       "    .dataframe thead th {\n",
       "        text-align: right;\n",
       "    }\n",
       "<\/style>\n",
       "<table border=\"1\" class=\"dataframe\">\n",
       "  <thead>\n",
       "    <tr style=\"text-align: right;\">\n",
       "      <th><\/th>\n",
       "      <th>index<\/th>\n",
       "      <th>Col1<\/th>\n",
       "      <th>Col2<\/th>\n",
       "      <th>Col3<\/th>\n",
       "    <\/tr>\n",
       "  <\/thead>\n",
       "  <tbody>\n",
       "    <tr>\n",
       "      <th>0<\/th>\n",
       "      <td>0<\/td>\n",
       "      <td>2<\/td>\n",
       "      <td>5<\/td>\n",
       "      <td>7<\/td>\n",
       "    <\/tr>\n",
       "    <tr>\n",
       "      <th>1<\/th>\n",
       "      <td>1<\/td>\n",
       "      <td>4<\/td>\n",
       "      <td>1<\/td>\n",
       "      <td>9<\/td>\n",
       "    <\/tr>\n",
       "    <tr>\n",
       "      <th>2<\/th>\n",
       "      <td>2<\/td>\n",
       "      <td>5<\/td>\n",
       "      <td>2<\/td>\n",
       "      <td>6<\/td>\n",
       "    <\/tr>\n",
       "  <\/tbody>\n",
       "<\/table>\n",
       "<\/div>"
      ]
     },
     "metadata":{
      
     },
     "output_type":"display_data"
    }
   ],
   "metadata":{
    "datalore":{
     "node_id":"yzIBIcVkbUVKhI957XUjVE",
     "type":"CODE",
     "hide_input_from_viewers":false,
     "hide_output_from_viewers":false
    }
   }
  },
  {
   "cell_type":"code",
   "source":[
    "table2.sort_index(inplace=True)\n",
    "table2"
   ],
   "execution_count":26,
   "outputs":[
    {
     "data":{
      "text\/html":[
       "<div>\n",
       "<style scoped>\n",
       "    .dataframe tbody tr th:only-of-type {\n",
       "        vertical-align: middle;\n",
       "    }\n",
       "\n",
       "    .dataframe tbody tr th {\n",
       "        vertical-align: top;\n",
       "    }\n",
       "\n",
       "    .dataframe thead th {\n",
       "        text-align: right;\n",
       "    }\n",
       "<\/style>\n",
       "<table border=\"1\" class=\"dataframe\">\n",
       "  <thead>\n",
       "    <tr style=\"text-align: right;\">\n",
       "      <th><\/th>\n",
       "      <th>index<\/th>\n",
       "      <th>Col1<\/th>\n",
       "      <th>Col2<\/th>\n",
       "      <th>Col3<\/th>\n",
       "    <\/tr>\n",
       "  <\/thead>\n",
       "  <tbody>\n",
       "    <tr>\n",
       "      <th>0<\/th>\n",
       "      <td>0<\/td>\n",
       "      <td>2<\/td>\n",
       "      <td>5<\/td>\n",
       "      <td>7<\/td>\n",
       "    <\/tr>\n",
       "    <tr>\n",
       "      <th>1<\/th>\n",
       "      <td>1<\/td>\n",
       "      <td>4<\/td>\n",
       "      <td>1<\/td>\n",
       "      <td>9<\/td>\n",
       "    <\/tr>\n",
       "    <tr>\n",
       "      <th>2<\/th>\n",
       "      <td>2<\/td>\n",
       "      <td>5<\/td>\n",
       "      <td>2<\/td>\n",
       "      <td>6<\/td>\n",
       "    <\/tr>\n",
       "  <\/tbody>\n",
       "<\/table>\n",
       "<\/div>"
      ]
     },
     "metadata":{
      
     },
     "output_type":"display_data"
    }
   ],
   "metadata":{
    "datalore":{
     "node_id":"Z93uCmH4kooPoXi7atVe2A",
     "type":"CODE",
     "hide_input_from_viewers":false,
     "hide_output_from_viewers":false
    }
   }
  },
  {
   "cell_type":"code",
   "source":[
    "emp = pd.DataFrame({\"Name\":[\"John\",\"Mike\",\"Loki\",\"Steve\"],\n",
    "                    \"Dep\":[\"IT\",\"HR\",\"Finance\",\"Manager\"],\n",
    "                    \"Income\":[44543,245432,234524,34534],\n",
    "                    \"Age\":[23,34,21,41]})\n",
    "emp"
   ],
   "execution_count":27,
   "outputs":[
    {
     "data":{
      "text\/html":[
       "<div>\n",
       "<style scoped>\n",
       "    .dataframe tbody tr th:only-of-type {\n",
       "        vertical-align: middle;\n",
       "    }\n",
       "\n",
       "    .dataframe tbody tr th {\n",
       "        vertical-align: top;\n",
       "    }\n",
       "\n",
       "    .dataframe thead th {\n",
       "        text-align: right;\n",
       "    }\n",
       "<\/style>\n",
       "<table border=\"1\" class=\"dataframe\">\n",
       "  <thead>\n",
       "    <tr style=\"text-align: right;\">\n",
       "      <th><\/th>\n",
       "      <th>Name<\/th>\n",
       "      <th>Dep<\/th>\n",
       "      <th>Income<\/th>\n",
       "      <th>Age<\/th>\n",
       "    <\/tr>\n",
       "  <\/thead>\n",
       "  <tbody>\n",
       "    <tr>\n",
       "      <th>0<\/th>\n",
       "      <td>John<\/td>\n",
       "      <td>IT<\/td>\n",
       "      <td>44543<\/td>\n",
       "      <td>23<\/td>\n",
       "    <\/tr>\n",
       "    <tr>\n",
       "      <th>1<\/th>\n",
       "      <td>Mike<\/td>\n",
       "      <td>HR<\/td>\n",
       "      <td>245432<\/td>\n",
       "      <td>34<\/td>\n",
       "    <\/tr>\n",
       "    <tr>\n",
       "      <th>2<\/th>\n",
       "      <td>Loki<\/td>\n",
       "      <td>Finance<\/td>\n",
       "      <td>234524<\/td>\n",
       "      <td>21<\/td>\n",
       "    <\/tr>\n",
       "    <tr>\n",
       "      <th>3<\/th>\n",
       "      <td>Steve<\/td>\n",
       "      <td>Manager<\/td>\n",
       "      <td>34534<\/td>\n",
       "      <td>41<\/td>\n",
       "    <\/tr>\n",
       "  <\/tbody>\n",
       "<\/table>\n",
       "<\/div>"
      ]
     },
     "metadata":{
      
     },
     "output_type":"display_data"
    }
   ],
   "metadata":{
    "datalore":{
     "node_id":"fxU5Ih6xjifjDupM9cqPRS",
     "type":"CODE",
     "hide_input_from_viewers":false,
     "hide_output_from_viewers":false
    }
   }
  },
  {
   "cell_type":"code",
   "source":[
    "emp[\"Dep\"] == \"IT\""
   ],
   "execution_count":28,
   "outputs":[
    {
     "data":{
      "text\/html":[
       "<pre>0     True\n",
       "1    False\n",
       "2    False\n",
       "3    False\n",
       "Name: Dep, dtype: bool<\/pre>"
      ]
     },
     "metadata":{
      
     },
     "output_type":"display_data"
    }
   ],
   "metadata":{
    "datalore":{
     "node_id":"pJEvJEcKw1oJuF0dRWiCHo",
     "type":"CODE",
     "hide_input_from_viewers":false,
     "hide_output_from_viewers":false
    }
   }
  },
  {
   "cell_type":"code",
   "source":[
    "varit = emp[\"Dep\"] == \"IT\"\n",
    "emp[varit]"
   ],
   "execution_count":30,
   "outputs":[
    {
     "data":{
      "text\/html":[
       "<div>\n",
       "<style scoped>\n",
       "    .dataframe tbody tr th:only-of-type {\n",
       "        vertical-align: middle;\n",
       "    }\n",
       "\n",
       "    .dataframe tbody tr th {\n",
       "        vertical-align: top;\n",
       "    }\n",
       "\n",
       "    .dataframe thead th {\n",
       "        text-align: right;\n",
       "    }\n",
       "<\/style>\n",
       "<table border=\"1\" class=\"dataframe\">\n",
       "  <thead>\n",
       "    <tr style=\"text-align: right;\">\n",
       "      <th><\/th>\n",
       "      <th>Name<\/th>\n",
       "      <th>Dep<\/th>\n",
       "      <th>Income<\/th>\n",
       "      <th>Age<\/th>\n",
       "    <\/tr>\n",
       "  <\/thead>\n",
       "  <tbody>\n",
       "    <tr>\n",
       "      <th>0<\/th>\n",
       "      <td>John<\/td>\n",
       "      <td>IT<\/td>\n",
       "      <td>44543<\/td>\n",
       "      <td>23<\/td>\n",
       "    <\/tr>\n",
       "  <\/tbody>\n",
       "<\/table>\n",
       "<\/div>"
      ]
     },
     "metadata":{
      
     },
     "output_type":"display_data"
    }
   ],
   "metadata":{
    "datalore":{
     "node_id":"K27v8HlVt7XCeripqxApm6",
     "type":"CODE",
     "hide_input_from_viewers":false,
     "hide_output_from_viewers":false
    }
   }
  },
  {
   "cell_type":"code",
   "source":[
    "emp[emp[\"Income\"]>34578]"
   ],
   "execution_count":32,
   "outputs":[
    {
     "data":{
      "text\/html":[
       "<div>\n",
       "<style scoped>\n",
       "    .dataframe tbody tr th:only-of-type {\n",
       "        vertical-align: middle;\n",
       "    }\n",
       "\n",
       "    .dataframe tbody tr th {\n",
       "        vertical-align: top;\n",
       "    }\n",
       "\n",
       "    .dataframe thead th {\n",
       "        text-align: right;\n",
       "    }\n",
       "<\/style>\n",
       "<table border=\"1\" class=\"dataframe\">\n",
       "  <thead>\n",
       "    <tr style=\"text-align: right;\">\n",
       "      <th><\/th>\n",
       "      <th>Name<\/th>\n",
       "      <th>Dep<\/th>\n",
       "      <th>Income<\/th>\n",
       "      <th>Age<\/th>\n",
       "    <\/tr>\n",
       "  <\/thead>\n",
       "  <tbody>\n",
       "    <tr>\n",
       "      <th>0<\/th>\n",
       "      <td>John<\/td>\n",
       "      <td>IT<\/td>\n",
       "      <td>44543<\/td>\n",
       "      <td>23<\/td>\n",
       "    <\/tr>\n",
       "    <tr>\n",
       "      <th>1<\/th>\n",
       "      <td>Mike<\/td>\n",
       "      <td>HR<\/td>\n",
       "      <td>245432<\/td>\n",
       "      <td>34<\/td>\n",
       "    <\/tr>\n",
       "    <tr>\n",
       "      <th>2<\/th>\n",
       "      <td>Loki<\/td>\n",
       "      <td>Finance<\/td>\n",
       "      <td>234524<\/td>\n",
       "      <td>21<\/td>\n",
       "    <\/tr>\n",
       "  <\/tbody>\n",
       "<\/table>\n",
       "<\/div>"
      ]
     },
     "metadata":{
      
     },
     "output_type":"display_data"
    }
   ],
   "metadata":{
    "datalore":{
     "node_id":"i2I4p5xuPoWksctGLPqCi2",
     "type":"CODE",
     "hide_input_from_viewers":false,
     "hide_output_from_viewers":false
    }
   }
  },
  {
   "cell_type":"code",
   "source":[
    "emp[(emp[\"Age\"]>30) | (emp[\"Income\"]>223322)]"
   ],
   "execution_count":35,
   "outputs":[
    {
     "data":{
      "text\/html":[
       "<div>\n",
       "<style scoped>\n",
       "    .dataframe tbody tr th:only-of-type {\n",
       "        vertical-align: middle;\n",
       "    }\n",
       "\n",
       "    .dataframe tbody tr th {\n",
       "        vertical-align: top;\n",
       "    }\n",
       "\n",
       "    .dataframe thead th {\n",
       "        text-align: right;\n",
       "    }\n",
       "<\/style>\n",
       "<table border=\"1\" class=\"dataframe\">\n",
       "  <thead>\n",
       "    <tr style=\"text-align: right;\">\n",
       "      <th><\/th>\n",
       "      <th>Name<\/th>\n",
       "      <th>Dep<\/th>\n",
       "      <th>Income<\/th>\n",
       "      <th>Age<\/th>\n",
       "    <\/tr>\n",
       "  <\/thead>\n",
       "  <tbody>\n",
       "    <tr>\n",
       "      <th>1<\/th>\n",
       "      <td>Mike<\/td>\n",
       "      <td>HR<\/td>\n",
       "      <td>245432<\/td>\n",
       "      <td>34<\/td>\n",
       "    <\/tr>\n",
       "    <tr>\n",
       "      <th>2<\/th>\n",
       "      <td>Loki<\/td>\n",
       "      <td>Finance<\/td>\n",
       "      <td>234524<\/td>\n",
       "      <td>21<\/td>\n",
       "    <\/tr>\n",
       "    <tr>\n",
       "      <th>3<\/th>\n",
       "      <td>Steve<\/td>\n",
       "      <td>Manager<\/td>\n",
       "      <td>34534<\/td>\n",
       "      <td>41<\/td>\n",
       "    <\/tr>\n",
       "  <\/tbody>\n",
       "<\/table>\n",
       "<\/div>"
      ]
     },
     "metadata":{
      
     },
     "output_type":"display_data"
    }
   ],
   "metadata":{
    "datalore":{
     "node_id":"VXJt4hdShfKsWtcnXsGPXh",
     "type":"CODE",
     "hide_input_from_viewers":false,
     "hide_output_from_viewers":false
    }
   }
  },
  {
   "cell_type":"code",
   "source":[
    "emp[(~emp[\"Age\"]>30) | (emp[\"Income\"]>223322)]"
   ],
   "execution_count":36,
   "outputs":[
    {
     "data":{
      "text\/html":[
       "<div>\n",
       "<style scoped>\n",
       "    .dataframe tbody tr th:only-of-type {\n",
       "        vertical-align: middle;\n",
       "    }\n",
       "\n",
       "    .dataframe tbody tr th {\n",
       "        vertical-align: top;\n",
       "    }\n",
       "\n",
       "    .dataframe thead th {\n",
       "        text-align: right;\n",
       "    }\n",
       "<\/style>\n",
       "<table border=\"1\" class=\"dataframe\">\n",
       "  <thead>\n",
       "    <tr style=\"text-align: right;\">\n",
       "      <th><\/th>\n",
       "      <th>Name<\/th>\n",
       "      <th>Dep<\/th>\n",
       "      <th>Income<\/th>\n",
       "      <th>Age<\/th>\n",
       "    <\/tr>\n",
       "  <\/thead>\n",
       "  <tbody>\n",
       "    <tr>\n",
       "      <th>1<\/th>\n",
       "      <td>Mike<\/td>\n",
       "      <td>HR<\/td>\n",
       "      <td>245432<\/td>\n",
       "      <td>34<\/td>\n",
       "    <\/tr>\n",
       "    <tr>\n",
       "      <th>2<\/th>\n",
       "      <td>Loki<\/td>\n",
       "      <td>Finance<\/td>\n",
       "      <td>234524<\/td>\n",
       "      <td>21<\/td>\n",
       "    <\/tr>\n",
       "  <\/tbody>\n",
       "<\/table>\n",
       "<\/div>"
      ]
     },
     "metadata":{
      
     },
     "output_type":"display_data"
    }
   ],
   "metadata":{
    "datalore":{
     "node_id":"WQH0WR6pJHm9oJsTqyNQUr",
     "type":"CODE",
     "hide_input_from_viewers":false,
     "hide_output_from_viewers":false
    }
   }
  },
  {
   "cell_type":"code",
   "source":[
    "emp.append({\"Name\":\"Vetri\",\"Dep\":\"Software\",\"Income\":53453,\"Age\":27},ignore_index=True)"
   ],
   "execution_count":39,
   "outputs":[
    {
     "data":{
      "text\/html":[
       "<div>\n",
       "<style scoped>\n",
       "    .dataframe tbody tr th:only-of-type {\n",
       "        vertical-align: middle;\n",
       "    }\n",
       "\n",
       "    .dataframe tbody tr th {\n",
       "        vertical-align: top;\n",
       "    }\n",
       "\n",
       "    .dataframe thead th {\n",
       "        text-align: right;\n",
       "    }\n",
       "<\/style>\n",
       "<table border=\"1\" class=\"dataframe\">\n",
       "  <thead>\n",
       "    <tr style=\"text-align: right;\">\n",
       "      <th><\/th>\n",
       "      <th>Name<\/th>\n",
       "      <th>Dep<\/th>\n",
       "      <th>Income<\/th>\n",
       "      <th>Age<\/th>\n",
       "    <\/tr>\n",
       "  <\/thead>\n",
       "  <tbody>\n",
       "    <tr>\n",
       "      <th>0<\/th>\n",
       "      <td>John<\/td>\n",
       "      <td>IT<\/td>\n",
       "      <td>44543<\/td>\n",
       "      <td>23<\/td>\n",
       "    <\/tr>\n",
       "    <tr>\n",
       "      <th>1<\/th>\n",
       "      <td>Mike<\/td>\n",
       "      <td>HR<\/td>\n",
       "      <td>245432<\/td>\n",
       "      <td>34<\/td>\n",
       "    <\/tr>\n",
       "    <tr>\n",
       "      <th>2<\/th>\n",
       "      <td>Loki<\/td>\n",
       "      <td>Finance<\/td>\n",
       "      <td>234524<\/td>\n",
       "      <td>21<\/td>\n",
       "    <\/tr>\n",
       "    <tr>\n",
       "      <th>3<\/th>\n",
       "      <td>Steve<\/td>\n",
       "      <td>Manager<\/td>\n",
       "      <td>34534<\/td>\n",
       "      <td>41<\/td>\n",
       "    <\/tr>\n",
       "    <tr>\n",
       "      <th>4<\/th>\n",
       "      <td>Vetri<\/td>\n",
       "      <td>Software<\/td>\n",
       "      <td>53453<\/td>\n",
       "      <td>27<\/td>\n",
       "    <\/tr>\n",
       "  <\/tbody>\n",
       "<\/table>\n",
       "<\/div>"
      ]
     },
     "metadata":{
      
     },
     "output_type":"display_data"
    }
   ],
   "metadata":{
    "datalore":{
     "node_id":"OPBdVWN8X52pJosXERq4by",
     "type":"CODE",
     "hide_input_from_viewers":false,
     "hide_output_from_viewers":false
    }
   }
  },
  {
   "cell_type":"code",
   "source":[
    "emp.drop(index=2)"
   ],
   "execution_count":40,
   "outputs":[
    {
     "data":{
      "text\/html":[
       "<div>\n",
       "<style scoped>\n",
       "    .dataframe tbody tr th:only-of-type {\n",
       "        vertical-align: middle;\n",
       "    }\n",
       "\n",
       "    .dataframe tbody tr th {\n",
       "        vertical-align: top;\n",
       "    }\n",
       "\n",
       "    .dataframe thead th {\n",
       "        text-align: right;\n",
       "    }\n",
       "<\/style>\n",
       "<table border=\"1\" class=\"dataframe\">\n",
       "  <thead>\n",
       "    <tr style=\"text-align: right;\">\n",
       "      <th><\/th>\n",
       "      <th>Name<\/th>\n",
       "      <th>Dep<\/th>\n",
       "      <th>Income<\/th>\n",
       "      <th>Age<\/th>\n",
       "    <\/tr>\n",
       "  <\/thead>\n",
       "  <tbody>\n",
       "    <tr>\n",
       "      <th>0<\/th>\n",
       "      <td>John<\/td>\n",
       "      <td>IT<\/td>\n",
       "      <td>44543<\/td>\n",
       "      <td>23<\/td>\n",
       "    <\/tr>\n",
       "    <tr>\n",
       "      <th>1<\/th>\n",
       "      <td>Mike<\/td>\n",
       "      <td>HR<\/td>\n",
       "      <td>245432<\/td>\n",
       "      <td>34<\/td>\n",
       "    <\/tr>\n",
       "    <tr>\n",
       "      <th>3<\/th>\n",
       "      <td>Steve<\/td>\n",
       "      <td>Manager<\/td>\n",
       "      <td>34534<\/td>\n",
       "      <td>41<\/td>\n",
       "    <\/tr>\n",
       "  <\/tbody>\n",
       "<\/table>\n",
       "<\/div>"
      ]
     },
     "metadata":{
      
     },
     "output_type":"display_data"
    }
   ],
   "metadata":{
    "datalore":{
     "node_id":"vQJJIBlbCbIEAOHZCThYyQ",
     "type":"CODE",
     "hide_input_from_viewers":false,
     "hide_output_from_viewers":false
    }
   }
  },
  {
   "cell_type":"code",
   "source":[
    "emp[\"Exp\"] = [2,3,7,1]\n",
    "emp"
   ],
   "execution_count":43,
   "outputs":[
    {
     "data":{
      "text\/html":[
       "<div>\n",
       "<style scoped>\n",
       "    .dataframe tbody tr th:only-of-type {\n",
       "        vertical-align: middle;\n",
       "    }\n",
       "\n",
       "    .dataframe tbody tr th {\n",
       "        vertical-align: top;\n",
       "    }\n",
       "\n",
       "    .dataframe thead th {\n",
       "        text-align: right;\n",
       "    }\n",
       "<\/style>\n",
       "<table border=\"1\" class=\"dataframe\">\n",
       "  <thead>\n",
       "    <tr style=\"text-align: right;\">\n",
       "      <th><\/th>\n",
       "      <th>Name<\/th>\n",
       "      <th>Dep<\/th>\n",
       "      <th>Income<\/th>\n",
       "      <th>Age<\/th>\n",
       "      <th>Exp<\/th>\n",
       "    <\/tr>\n",
       "  <\/thead>\n",
       "  <tbody>\n",
       "    <tr>\n",
       "      <th>0<\/th>\n",
       "      <td>John<\/td>\n",
       "      <td>IT<\/td>\n",
       "      <td>44543<\/td>\n",
       "      <td>23<\/td>\n",
       "      <td>2<\/td>\n",
       "    <\/tr>\n",
       "    <tr>\n",
       "      <th>1<\/th>\n",
       "      <td>Mike<\/td>\n",
       "      <td>HR<\/td>\n",
       "      <td>245432<\/td>\n",
       "      <td>34<\/td>\n",
       "      <td>3<\/td>\n",
       "    <\/tr>\n",
       "    <tr>\n",
       "      <th>2<\/th>\n",
       "      <td>Loki<\/td>\n",
       "      <td>Finance<\/td>\n",
       "      <td>234524<\/td>\n",
       "      <td>21<\/td>\n",
       "      <td>7<\/td>\n",
       "    <\/tr>\n",
       "    <tr>\n",
       "      <th>3<\/th>\n",
       "      <td>Steve<\/td>\n",
       "      <td>Manager<\/td>\n",
       "      <td>34534<\/td>\n",
       "      <td>41<\/td>\n",
       "      <td>1<\/td>\n",
       "    <\/tr>\n",
       "  <\/tbody>\n",
       "<\/table>\n",
       "<\/div>"
      ]
     },
     "metadata":{
      
     },
     "output_type":"display_data"
    }
   ],
   "metadata":{
    "datalore":{
     "node_id":"5HLiZZcFGsyUVjK7rforgi",
     "type":"CODE",
     "hide_input_from_viewers":false,
     "hide_output_from_viewers":false
    }
   }
  },
  {
   "cell_type":"code",
   "source":[
    "emp.drop(columns=[\"Exp\"])"
   ],
   "execution_count":44,
   "outputs":[
    {
     "data":{
      "text\/html":[
       "<div>\n",
       "<style scoped>\n",
       "    .dataframe tbody tr th:only-of-type {\n",
       "        vertical-align: middle;\n",
       "    }\n",
       "\n",
       "    .dataframe tbody tr th {\n",
       "        vertical-align: top;\n",
       "    }\n",
       "\n",
       "    .dataframe thead th {\n",
       "        text-align: right;\n",
       "    }\n",
       "<\/style>\n",
       "<table border=\"1\" class=\"dataframe\">\n",
       "  <thead>\n",
       "    <tr style=\"text-align: right;\">\n",
       "      <th><\/th>\n",
       "      <th>Name<\/th>\n",
       "      <th>Dep<\/th>\n",
       "      <th>Income<\/th>\n",
       "      <th>Age<\/th>\n",
       "    <\/tr>\n",
       "  <\/thead>\n",
       "  <tbody>\n",
       "    <tr>\n",
       "      <th>0<\/th>\n",
       "      <td>John<\/td>\n",
       "      <td>IT<\/td>\n",
       "      <td>44543<\/td>\n",
       "      <td>23<\/td>\n",
       "    <\/tr>\n",
       "    <tr>\n",
       "      <th>1<\/th>\n",
       "      <td>Mike<\/td>\n",
       "      <td>HR<\/td>\n",
       "      <td>245432<\/td>\n",
       "      <td>34<\/td>\n",
       "    <\/tr>\n",
       "    <tr>\n",
       "      <th>2<\/th>\n",
       "      <td>Loki<\/td>\n",
       "      <td>Finance<\/td>\n",
       "      <td>234524<\/td>\n",
       "      <td>21<\/td>\n",
       "    <\/tr>\n",
       "    <tr>\n",
       "      <th>3<\/th>\n",
       "      <td>Steve<\/td>\n",
       "      <td>Manager<\/td>\n",
       "      <td>34534<\/td>\n",
       "      <td>41<\/td>\n",
       "    <\/tr>\n",
       "  <\/tbody>\n",
       "<\/table>\n",
       "<\/div>"
      ]
     },
     "metadata":{
      
     },
     "output_type":"display_data"
    }
   ],
   "metadata":{
    "datalore":{
     "node_id":"jo2FBzF3czLeZhtQhsHWfo",
     "type":"CODE",
     "hide_input_from_viewers":false,
     "hide_output_from_viewers":false
    }
   }
  },
  {
   "cell_type":"code",
   "source":[
    "#15 Feb\n",
    "import pandas as pd\n",
    "class1 = pd.DataFrame({\"Name\":['Lokesh','Sathish','Vikas'],\"Stu No\":[123,456,789],\"GPA\":[7.8,8.1,9.3]})\n",
    "class2 = pd.DataFrame({\"Name\":['Vigesh','Varun','Siraj'],\"Stu No\":[345,987,567],\"GPA\":[8.6,8.5,9.1]})\n",
    "class1\n",
    "class2"
   ],
   "execution_count":1,
   "outputs":[
    {
     "data":{
      "text\/html":[
       "<div>\n",
       "<style scoped>\n",
       "    .dataframe tbody tr th:only-of-type {\n",
       "        vertical-align: middle;\n",
       "    }\n",
       "\n",
       "    .dataframe tbody tr th {\n",
       "        vertical-align: top;\n",
       "    }\n",
       "\n",
       "    .dataframe thead th {\n",
       "        text-align: right;\n",
       "    }\n",
       "<\/style>\n",
       "<table border=\"1\" class=\"dataframe\">\n",
       "  <thead>\n",
       "    <tr style=\"text-align: right;\">\n",
       "      <th><\/th>\n",
       "      <th>Name<\/th>\n",
       "      <th>Stu No<\/th>\n",
       "      <th>GPA<\/th>\n",
       "    <\/tr>\n",
       "  <\/thead>\n",
       "  <tbody>\n",
       "    <tr>\n",
       "      <th>0<\/th>\n",
       "      <td>Vigesh<\/td>\n",
       "      <td>345<\/td>\n",
       "      <td>8.6<\/td>\n",
       "    <\/tr>\n",
       "    <tr>\n",
       "      <th>1<\/th>\n",
       "      <td>Varun<\/td>\n",
       "      <td>987<\/td>\n",
       "      <td>8.5<\/td>\n",
       "    <\/tr>\n",
       "    <tr>\n",
       "      <th>2<\/th>\n",
       "      <td>Siraj<\/td>\n",
       "      <td>567<\/td>\n",
       "      <td>9.1<\/td>\n",
       "    <\/tr>\n",
       "  <\/tbody>\n",
       "<\/table>\n",
       "<\/div>"
      ]
     },
     "metadata":{
      
     },
     "output_type":"display_data"
    }
   ],
   "metadata":{
    "datalore":{
     "node_id":"dW111LktbmQ30nLLowG7sY",
     "type":"CODE",
     "hide_input_from_viewers":false,
     "hide_output_from_viewers":false
    }
   }
  },
  {
   "cell_type":"code",
   "source":[
    "pd.concat([class1,class2])"
   ],
   "execution_count":2,
   "outputs":[
    {
     "data":{
      "text\/html":[
       "<div>\n",
       "<style scoped>\n",
       "    .dataframe tbody tr th:only-of-type {\n",
       "        vertical-align: middle;\n",
       "    }\n",
       "\n",
       "    .dataframe tbody tr th {\n",
       "        vertical-align: top;\n",
       "    }\n",
       "\n",
       "    .dataframe thead th {\n",
       "        text-align: right;\n",
       "    }\n",
       "<\/style>\n",
       "<table border=\"1\" class=\"dataframe\">\n",
       "  <thead>\n",
       "    <tr style=\"text-align: right;\">\n",
       "      <th><\/th>\n",
       "      <th>Name<\/th>\n",
       "      <th>Stu No<\/th>\n",
       "      <th>GPA<\/th>\n",
       "    <\/tr>\n",
       "  <\/thead>\n",
       "  <tbody>\n",
       "    <tr>\n",
       "      <th>0<\/th>\n",
       "      <td>Lokesh<\/td>\n",
       "      <td>123<\/td>\n",
       "      <td>7.8<\/td>\n",
       "    <\/tr>\n",
       "    <tr>\n",
       "      <th>1<\/th>\n",
       "      <td>Sathish<\/td>\n",
       "      <td>456<\/td>\n",
       "      <td>8.1<\/td>\n",
       "    <\/tr>\n",
       "    <tr>\n",
       "      <th>2<\/th>\n",
       "      <td>Vikas<\/td>\n",
       "      <td>789<\/td>\n",
       "      <td>9.3<\/td>\n",
       "    <\/tr>\n",
       "    <tr>\n",
       "      <th>0<\/th>\n",
       "      <td>Vigesh<\/td>\n",
       "      <td>345<\/td>\n",
       "      <td>8.6<\/td>\n",
       "    <\/tr>\n",
       "    <tr>\n",
       "      <th>1<\/th>\n",
       "      <td>Varun<\/td>\n",
       "      <td>987<\/td>\n",
       "      <td>8.5<\/td>\n",
       "    <\/tr>\n",
       "    <tr>\n",
       "      <th>2<\/th>\n",
       "      <td>Siraj<\/td>\n",
       "      <td>567<\/td>\n",
       "      <td>9.1<\/td>\n",
       "    <\/tr>\n",
       "  <\/tbody>\n",
       "<\/table>\n",
       "<\/div>"
      ]
     },
     "metadata":{
      
     },
     "output_type":"display_data"
    }
   ],
   "metadata":{
    "datalore":{
     "node_id":"OPGiHUXpqleK4BVKQs3XU9",
     "type":"CODE",
     "hide_input_from_viewers":false,
     "hide_output_from_viewers":false
    }
   }
  },
  {
   "cell_type":"code",
   "source":[
    "pd.concat([class1,class2],join=\"inner\")"
   ],
   "execution_count":3,
   "outputs":[
    {
     "data":{
      "text\/html":[
       "<div>\n",
       "<style scoped>\n",
       "    .dataframe tbody tr th:only-of-type {\n",
       "        vertical-align: middle;\n",
       "    }\n",
       "\n",
       "    .dataframe tbody tr th {\n",
       "        vertical-align: top;\n",
       "    }\n",
       "\n",
       "    .dataframe thead th {\n",
       "        text-align: right;\n",
       "    }\n",
       "<\/style>\n",
       "<table border=\"1\" class=\"dataframe\">\n",
       "  <thead>\n",
       "    <tr style=\"text-align: right;\">\n",
       "      <th><\/th>\n",
       "      <th>Name<\/th>\n",
       "      <th>Stu No<\/th>\n",
       "      <th>GPA<\/th>\n",
       "    <\/tr>\n",
       "  <\/thead>\n",
       "  <tbody>\n",
       "    <tr>\n",
       "      <th>0<\/th>\n",
       "      <td>Lokesh<\/td>\n",
       "      <td>123<\/td>\n",
       "      <td>7.8<\/td>\n",
       "    <\/tr>\n",
       "    <tr>\n",
       "      <th>1<\/th>\n",
       "      <td>Sathish<\/td>\n",
       "      <td>456<\/td>\n",
       "      <td>8.1<\/td>\n",
       "    <\/tr>\n",
       "    <tr>\n",
       "      <th>2<\/th>\n",
       "      <td>Vikas<\/td>\n",
       "      <td>789<\/td>\n",
       "      <td>9.3<\/td>\n",
       "    <\/tr>\n",
       "    <tr>\n",
       "      <th>0<\/th>\n",
       "      <td>Vigesh<\/td>\n",
       "      <td>345<\/td>\n",
       "      <td>8.6<\/td>\n",
       "    <\/tr>\n",
       "    <tr>\n",
       "      <th>1<\/th>\n",
       "      <td>Varun<\/td>\n",
       "      <td>987<\/td>\n",
       "      <td>8.5<\/td>\n",
       "    <\/tr>\n",
       "    <tr>\n",
       "      <th>2<\/th>\n",
       "      <td>Siraj<\/td>\n",
       "      <td>567<\/td>\n",
       "      <td>9.1<\/td>\n",
       "    <\/tr>\n",
       "  <\/tbody>\n",
       "<\/table>\n",
       "<\/div>"
      ]
     },
     "metadata":{
      
     },
     "output_type":"display_data"
    }
   ],
   "metadata":{
    "datalore":{
     "node_id":"QyRfv2x0hGLkspytYGk6kH",
     "type":"CODE",
     "hide_input_from_viewers":false,
     "hide_output_from_viewers":false
    }
   }
  },
  {
   "cell_type":"code",
   "source":[
    "pd.merge(class1,class2,how=\"left\")"
   ],
   "execution_count":5,
   "outputs":[
    {
     "data":{
      "text\/html":[
       "<div>\n",
       "<style scoped>\n",
       "    .dataframe tbody tr th:only-of-type {\n",
       "        vertical-align: middle;\n",
       "    }\n",
       "\n",
       "    .dataframe tbody tr th {\n",
       "        vertical-align: top;\n",
       "    }\n",
       "\n",
       "    .dataframe thead th {\n",
       "        text-align: right;\n",
       "    }\n",
       "<\/style>\n",
       "<table border=\"1\" class=\"dataframe\">\n",
       "  <thead>\n",
       "    <tr style=\"text-align: right;\">\n",
       "      <th><\/th>\n",
       "      <th>Name<\/th>\n",
       "      <th>Stu No<\/th>\n",
       "      <th>GPA<\/th>\n",
       "    <\/tr>\n",
       "  <\/thead>\n",
       "  <tbody>\n",
       "    <tr>\n",
       "      <th>0<\/th>\n",
       "      <td>Lokesh<\/td>\n",
       "      <td>123<\/td>\n",
       "      <td>7.8<\/td>\n",
       "    <\/tr>\n",
       "    <tr>\n",
       "      <th>1<\/th>\n",
       "      <td>Sathish<\/td>\n",
       "      <td>456<\/td>\n",
       "      <td>8.1<\/td>\n",
       "    <\/tr>\n",
       "    <tr>\n",
       "      <th>2<\/th>\n",
       "      <td>Vikas<\/td>\n",
       "      <td>789<\/td>\n",
       "      <td>9.3<\/td>\n",
       "    <\/tr>\n",
       "  <\/tbody>\n",
       "<\/table>\n",
       "<\/div>"
      ]
     },
     "metadata":{
      
     },
     "output_type":"display_data"
    }
   ],
   "metadata":{
    "datalore":{
     "node_id":"KCXMSyGd4htsCUFFz1cdhu",
     "type":"CODE",
     "hide_input_from_viewers":false,
     "hide_output_from_viewers":false
    }
   }
  },
  {
   "cell_type":"code",
   "source":[
    "pd.merge(class1,class2,how=\"right\")"
   ],
   "execution_count":6,
   "outputs":[
    {
     "data":{
      "text\/html":[
       "<div>\n",
       "<style scoped>\n",
       "    .dataframe tbody tr th:only-of-type {\n",
       "        vertical-align: middle;\n",
       "    }\n",
       "\n",
       "    .dataframe tbody tr th {\n",
       "        vertical-align: top;\n",
       "    }\n",
       "\n",
       "    .dataframe thead th {\n",
       "        text-align: right;\n",
       "    }\n",
       "<\/style>\n",
       "<table border=\"1\" class=\"dataframe\">\n",
       "  <thead>\n",
       "    <tr style=\"text-align: right;\">\n",
       "      <th><\/th>\n",
       "      <th>Name<\/th>\n",
       "      <th>Stu No<\/th>\n",
       "      <th>GPA<\/th>\n",
       "    <\/tr>\n",
       "  <\/thead>\n",
       "  <tbody>\n",
       "    <tr>\n",
       "      <th>0<\/th>\n",
       "      <td>Vigesh<\/td>\n",
       "      <td>345<\/td>\n",
       "      <td>8.6<\/td>\n",
       "    <\/tr>\n",
       "    <tr>\n",
       "      <th>1<\/th>\n",
       "      <td>Varun<\/td>\n",
       "      <td>987<\/td>\n",
       "      <td>8.5<\/td>\n",
       "    <\/tr>\n",
       "    <tr>\n",
       "      <th>2<\/th>\n",
       "      <td>Siraj<\/td>\n",
       "      <td>567<\/td>\n",
       "      <td>9.1<\/td>\n",
       "    <\/tr>\n",
       "  <\/tbody>\n",
       "<\/table>\n",
       "<\/div>"
      ]
     },
     "metadata":{
      
     },
     "output_type":"display_data"
    }
   ],
   "metadata":{
    "datalore":{
     "node_id":"akhhkHMl3rUotCkjbWYCtx",
     "type":"CODE",
     "hide_input_from_viewers":false,
     "hide_output_from_viewers":false
    }
   }
  },
  {
   "cell_type":"code",
   "source":[
    "employees = pd.DataFrame({\"Name\":[\"Josh\",\"Mike\",\"Julia\",\"Sergio\",\"Julia\",\"Michael\",\"Sarath\",\"Jakub\",\"Chris\"],\n",
    "                          \"Department\":[\"IT\",\"Human Resources\",\"Finance\",\"Supply Chain\",\"Finance\",\"Marketing\",\"IT\",\"Human Resources\",\"Law\"],\n",
    "                          \"Income\":[4800,5200,6600,5700,7200,8400,7700,4200,9400],\n",
    "                          \"Age\":[24,28,33,41,22,46,31,27,39],\n",
    "                          \"Experience\":[2,5,9,17,1,24,10,6,13]})\n",
    "employees"
   ],
   "execution_count":7,
   "outputs":[
    {
     "data":{
      "text\/html":[
       "<div>\n",
       "<style scoped>\n",
       "    .dataframe tbody tr th:only-of-type {\n",
       "        vertical-align: middle;\n",
       "    }\n",
       "\n",
       "    .dataframe tbody tr th {\n",
       "        vertical-align: top;\n",
       "    }\n",
       "\n",
       "    .dataframe thead th {\n",
       "        text-align: right;\n",
       "    }\n",
       "<\/style>\n",
       "<table border=\"1\" class=\"dataframe\">\n",
       "  <thead>\n",
       "    <tr style=\"text-align: right;\">\n",
       "      <th><\/th>\n",
       "      <th>Name<\/th>\n",
       "      <th>Department<\/th>\n",
       "      <th>Income<\/th>\n",
       "      <th>Age<\/th>\n",
       "      <th>Experience<\/th>\n",
       "    <\/tr>\n",
       "  <\/thead>\n",
       "  <tbody>\n",
       "    <tr>\n",
       "      <th>0<\/th>\n",
       "      <td>Josh<\/td>\n",
       "      <td>IT<\/td>\n",
       "      <td>4800<\/td>\n",
       "      <td>24<\/td>\n",
       "      <td>2<\/td>\n",
       "    <\/tr>\n",
       "    <tr>\n",
       "      <th>1<\/th>\n",
       "      <td>Mike<\/td>\n",
       "      <td>Human Resources<\/td>\n",
       "      <td>5200<\/td>\n",
       "      <td>28<\/td>\n",
       "      <td>5<\/td>\n",
       "    <\/tr>\n",
       "    <tr>\n",
       "      <th>2<\/th>\n",
       "      <td>Julia<\/td>\n",
       "      <td>Finance<\/td>\n",
       "      <td>6600<\/td>\n",
       "      <td>33<\/td>\n",
       "      <td>9<\/td>\n",
       "    <\/tr>\n",
       "    <tr>\n",
       "      <th>3<\/th>\n",
       "      <td>Sergio<\/td>\n",
       "      <td>Supply Chain<\/td>\n",
       "      <td>5700<\/td>\n",
       "      <td>41<\/td>\n",
       "      <td>17<\/td>\n",
       "    <\/tr>\n",
       "    <tr>\n",
       "      <th>4<\/th>\n",
       "      <td>Julia<\/td>\n",
       "      <td>Finance<\/td>\n",
       "      <td>7200<\/td>\n",
       "      <td>22<\/td>\n",
       "      <td>1<\/td>\n",
       "    <\/tr>\n",
       "    <tr>\n",
       "      <th>5<\/th>\n",
       "      <td>Michael<\/td>\n",
       "      <td>Marketing<\/td>\n",
       "      <td>8400<\/td>\n",
       "      <td>46<\/td>\n",
       "      <td>24<\/td>\n",
       "    <\/tr>\n",
       "    <tr>\n",
       "      <th>6<\/th>\n",
       "      <td>Sarath<\/td>\n",
       "      <td>IT<\/td>\n",
       "      <td>7700<\/td>\n",
       "      <td>31<\/td>\n",
       "      <td>10<\/td>\n",
       "    <\/tr>\n",
       "    <tr>\n",
       "      <th>7<\/th>\n",
       "      <td>Jakub<\/td>\n",
       "      <td>Human Resources<\/td>\n",
       "      <td>4200<\/td>\n",
       "      <td>27<\/td>\n",
       "      <td>6<\/td>\n",
       "    <\/tr>\n",
       "    <tr>\n",
       "      <th>8<\/th>\n",
       "      <td>Chris<\/td>\n",
       "      <td>Law<\/td>\n",
       "      <td>9400<\/td>\n",
       "      <td>39<\/td>\n",
       "      <td>13<\/td>\n",
       "    <\/tr>\n",
       "  <\/tbody>\n",
       "<\/table>\n",
       "<\/div>"
      ]
     },
     "metadata":{
      
     },
     "output_type":"display_data"
    }
   ],
   "metadata":{
    "datalore":{
     "node_id":"QAyzJ3uj0o3udJTI1EqpKz",
     "type":"CODE",
     "hide_input_from_viewers":false,
     "hide_output_from_viewers":false
    }
   }
  },
  {
   "cell_type":"code",
   "source":[
    "employees.count()"
   ],
   "execution_count":8,
   "outputs":[
    {
     "data":{
      "text\/html":[
       "<pre>Name          9\n",
       "Department    9\n",
       "Income        9\n",
       "Age           9\n",
       "Experience    9\n",
       "dtype: int64<\/pre>"
      ]
     },
     "metadata":{
      
     },
     "output_type":"display_data"
    }
   ],
   "metadata":{
    "datalore":{
     "node_id":"62P4CJPOe098TohLWGMjFU",
     "type":"CODE",
     "hide_input_from_viewers":false,
     "hide_output_from_viewers":false
    }
   }
  },
  {
   "cell_type":"code",
   "source":[
    "employees[\"Department\"].value_counts()"
   ],
   "execution_count":9,
   "outputs":[
    {
     "data":{
      "text\/html":[
       "<pre>IT                 2\n",
       "Human Resources    2\n",
       "Finance            2\n",
       "Supply Chain       1\n",
       "Marketing          1\n",
       "Law                1\n",
       "Name: Department, dtype: int64<\/pre>"
      ]
     },
     "metadata":{
      
     },
     "output_type":"display_data"
    }
   ],
   "metadata":{
    "datalore":{
     "node_id":"4UGaLkC1vL34zy6lX1uYj4",
     "type":"CODE",
     "hide_input_from_viewers":false,
     "hide_output_from_viewers":false
    }
   }
  },
  {
   "cell_type":"code",
   "source":[
    "employees.mean()"
   ],
   "execution_count":10,
   "outputs":[
    {
     "name":"stderr",
     "text":[
      "<ipython-input-10-54586efc808d>:1: FutureWarning: Dropping of nuisance columns in DataFrame reductions (with 'numeric_only=None') is deprecated; in a future version this will raise TypeError.  Select only valid columns before calling the reduction.\n",
      "  employees.mean()\n"
     ],
     "output_type":"stream"
    },
    {
     "data":{
      "text\/html":[
       "<pre>Income        6577.777778\n",
       "Age             32.333333\n",
       "Experience       9.666667\n",
       "dtype: float64<\/pre>"
      ]
     },
     "metadata":{
      
     },
     "output_type":"display_data"
    }
   ],
   "metadata":{
    "datalore":{
     "node_id":"4QoOEYRhi6eHvq8pZ4Ryru",
     "type":"CODE",
     "hide_input_from_viewers":false,
     "hide_output_from_viewers":false
    }
   }
  },
  {
   "cell_type":"code",
   "source":[
    "employees.median()"
   ],
   "execution_count":11,
   "outputs":[
    {
     "name":"stderr",
     "text":[
      "<ipython-input-11-8010e1878e06>:1: FutureWarning: Dropping of nuisance columns in DataFrame reductions (with 'numeric_only=None') is deprecated; in a future version this will raise TypeError.  Select only valid columns before calling the reduction.\n",
      "  employees.median()\n"
     ],
     "output_type":"stream"
    },
    {
     "data":{
      "text\/html":[
       "<pre>Income        6600.0\n",
       "Age             31.0\n",
       "Experience       9.0\n",
       "dtype: float64<\/pre>"
      ]
     },
     "metadata":{
      
     },
     "output_type":"display_data"
    }
   ],
   "metadata":{
    "datalore":{
     "node_id":"U4FOC1ZKHf1ghaPg2U1QMs",
     "type":"CODE",
     "hide_input_from_viewers":false,
     "hide_output_from_viewers":false
    }
   }
  },
  {
   "cell_type":"code",
   "source":[
    "employees.sum()"
   ],
   "execution_count":12,
   "outputs":[
    {
     "data":{
      "text\/html":[
       "<pre>Name            JoshMikeJuliaSergioJuliaMichaelSarathJakubChris\n",
       "Department    ITHuman ResourcesFinanceSupply ChainFinanceMar...\n",
       "Income                                                    59200\n",
       "Age                                                         291\n",
       "Experience                                                   87\n",
       "dtype: object<\/pre>"
      ]
     },
     "metadata":{
      
     },
     "output_type":"display_data"
    }
   ],
   "metadata":{
    "datalore":{
     "node_id":"xuSp4mj3kqCRVLJg5ALv05",
     "type":"CODE",
     "hide_input_from_viewers":false,
     "hide_output_from_viewers":false
    }
   }
  },
  {
   "cell_type":"code",
   "source":[
    "employees.min()"
   ],
   "execution_count":13,
   "outputs":[
    {
     "data":{
      "text\/html":[
       "<pre>Name            Chris\n",
       "Department    Finance\n",
       "Income           4200\n",
       "Age                22\n",
       "Experience          1\n",
       "dtype: object<\/pre>"
      ]
     },
     "metadata":{
      
     },
     "output_type":"display_data"
    }
   ],
   "metadata":{
    "datalore":{
     "node_id":"E1sGN6w3Ky7b0tMLBJYGtv",
     "type":"CODE",
     "hide_input_from_viewers":false,
     "hide_output_from_viewers":false
    }
   }
  },
  {
   "cell_type":"code",
   "source":[
    "employees.max()"
   ],
   "execution_count":14,
   "outputs":[
    {
     "data":{
      "text\/html":[
       "<pre>Name                Sergio\n",
       "Department    Supply Chain\n",
       "Income                9400\n",
       "Age                     46\n",
       "Experience              24\n",
       "dtype: object<\/pre>"
      ]
     },
     "metadata":{
      
     },
     "output_type":"display_data"
    }
   ],
   "metadata":{
    "datalore":{
     "node_id":"vHsZeaQnYhTMLc3Ei6r1Hm",
     "type":"CODE",
     "hide_input_from_viewers":false,
     "hide_output_from_viewers":false
    }
   }
  },
  {
   "cell_type":"code",
   "source":[
    "employees.std()"
   ],
   "execution_count":15,
   "outputs":[
    {
     "name":"stderr",
     "text":[
      "<ipython-input-15-561b13b4ed81>:1: FutureWarning: Dropping of nuisance columns in DataFrame reductions (with 'numeric_only=None') is deprecated; in a future version this will raise TypeError.  Select only valid columns before calling the reduction.\n",
      "  employees.std()\n"
     ],
     "output_type":"stream"
    },
    {
     "data":{
      "text\/html":[
       "<pre>Income        1746.981524\n",
       "Age              8.154753\n",
       "Experience       7.416198\n",
       "dtype: float64<\/pre>"
      ]
     },
     "metadata":{
      
     },
     "output_type":"display_data"
    }
   ],
   "metadata":{
    "datalore":{
     "node_id":"eKywXWnc109zSvqsW7jVUX",
     "type":"CODE",
     "hide_input_from_viewers":false,
     "hide_output_from_viewers":false
    }
   }
  },
  {
   "cell_type":"code",
   "source":[
    "employees.var()"
   ],
   "execution_count":16,
   "outputs":[
    {
     "name":"stderr",
     "text":[
      "<ipython-input-16-c383542361dd>:1: FutureWarning: Dropping of nuisance columns in DataFrame reductions (with 'numeric_only=None') is deprecated; in a future version this will raise TypeError.  Select only valid columns before calling the reduction.\n",
      "  employees.var()\n"
     ],
     "output_type":"stream"
    },
    {
     "data":{
      "text\/html":[
       "<pre>Income        3.051944e+06\n",
       "Age           6.650000e+01\n",
       "Experience    5.500000e+01\n",
       "dtype: float64<\/pre>"
      ]
     },
     "metadata":{
      
     },
     "output_type":"display_data"
    }
   ],
   "metadata":{
    "datalore":{
     "node_id":"j1sZKsVogkRZyB1dZQKPV1",
     "type":"CODE",
     "hide_input_from_viewers":false,
     "hide_output_from_viewers":false
    }
   }
  },
  {
   "cell_type":"code",
   "source":[
    "employees.describe()"
   ],
   "execution_count":17,
   "outputs":[
    {
     "data":{
      "text\/html":[
       "<div>\n",
       "<style scoped>\n",
       "    .dataframe tbody tr th:only-of-type {\n",
       "        vertical-align: middle;\n",
       "    }\n",
       "\n",
       "    .dataframe tbody tr th {\n",
       "        vertical-align: top;\n",
       "    }\n",
       "\n",
       "    .dataframe thead th {\n",
       "        text-align: right;\n",
       "    }\n",
       "<\/style>\n",
       "<table border=\"1\" class=\"dataframe\">\n",
       "  <thead>\n",
       "    <tr style=\"text-align: right;\">\n",
       "      <th><\/th>\n",
       "      <th>Income<\/th>\n",
       "      <th>Age<\/th>\n",
       "      <th>Experience<\/th>\n",
       "    <\/tr>\n",
       "  <\/thead>\n",
       "  <tbody>\n",
       "    <tr>\n",
       "      <th>count<\/th>\n",
       "      <td>9.000000<\/td>\n",
       "      <td>9.000000<\/td>\n",
       "      <td>9.000000<\/td>\n",
       "    <\/tr>\n",
       "    <tr>\n",
       "      <th>mean<\/th>\n",
       "      <td>6577.777778<\/td>\n",
       "      <td>32.333333<\/td>\n",
       "      <td>9.666667<\/td>\n",
       "    <\/tr>\n",
       "    <tr>\n",
       "      <th>std<\/th>\n",
       "      <td>1746.981524<\/td>\n",
       "      <td>8.154753<\/td>\n",
       "      <td>7.416198<\/td>\n",
       "    <\/tr>\n",
       "    <tr>\n",
       "      <th>min<\/th>\n",
       "      <td>4200.000000<\/td>\n",
       "      <td>22.000000<\/td>\n",
       "      <td>1.000000<\/td>\n",
       "    <\/tr>\n",
       "    <tr>\n",
       "      <th>25%<\/th>\n",
       "      <td>5200.000000<\/td>\n",
       "      <td>27.000000<\/td>\n",
       "      <td>5.000000<\/td>\n",
       "    <\/tr>\n",
       "    <tr>\n",
       "      <th>50%<\/th>\n",
       "      <td>6600.000000<\/td>\n",
       "      <td>31.000000<\/td>\n",
       "      <td>9.000000<\/td>\n",
       "    <\/tr>\n",
       "    <tr>\n",
       "      <th>75%<\/th>\n",
       "      <td>7700.000000<\/td>\n",
       "      <td>39.000000<\/td>\n",
       "      <td>13.000000<\/td>\n",
       "    <\/tr>\n",
       "    <tr>\n",
       "      <th>max<\/th>\n",
       "      <td>9400.000000<\/td>\n",
       "      <td>46.000000<\/td>\n",
       "      <td>24.000000<\/td>\n",
       "    <\/tr>\n",
       "  <\/tbody>\n",
       "<\/table>\n",
       "<\/div>"
      ]
     },
     "metadata":{
      
     },
     "output_type":"display_data"
    }
   ],
   "metadata":{
    "datalore":{
     "node_id":"3fYnJ4QU6banKF2myya2XW",
     "type":"CODE",
     "hide_input_from_viewers":false,
     "hide_output_from_viewers":false
    }
   }
  },
  {
   "cell_type":"code",
   "source":[
    "employees.sem()"
   ],
   "execution_count":18,
   "outputs":[
    {
     "name":"stderr",
     "text":[
      "<ipython-input-18-c34e3d6562b9>:1: FutureWarning: Dropping of nuisance columns in DataFrame reductions (with 'numeric_only=None') is deprecated; in a future version this will raise TypeError.  Select only valid columns before calling the reduction.\n",
      "  employees.sem()\n"
     ],
     "output_type":"stream"
    },
    {
     "data":{
      "text\/html":[
       "<pre>Income        582.327175\n",
       "Age             2.718251\n",
       "Experience      2.472066\n",
       "dtype: float64<\/pre>"
      ]
     },
     "metadata":{
      
     },
     "output_type":"display_data"
    }
   ],
   "metadata":{
    "datalore":{
     "node_id":"LJyilgKERnnGtbWpyxs2Ca",
     "type":"CODE",
     "hide_input_from_viewers":false,
     "hide_output_from_viewers":false
    }
   }
  },
  {
   "cell_type":"code",
   "source":[
    "df_n = pd.read_csv(\"netflix_titles.csv\")"
   ],
   "execution_count":21,
   "outputs":[
    
   ],
   "metadata":{
    "datalore":{
     "node_id":"B63KzboeCmQfKEfZ5dbCMv",
     "type":"CODE",
     "hide_input_from_viewers":false,
     "hide_output_from_viewers":false
    }
   }
  },
  {
   "cell_type":"code",
   "source":[
    "df_n.head()"
   ],
   "execution_count":22,
   "outputs":[
    {
     "data":{
      "text\/html":[
       "<div>\n",
       "<style scoped>\n",
       "    .dataframe tbody tr th:only-of-type {\n",
       "        vertical-align: middle;\n",
       "    }\n",
       "\n",
       "    .dataframe tbody tr th {\n",
       "        vertical-align: top;\n",
       "    }\n",
       "\n",
       "    .dataframe thead th {\n",
       "        text-align: right;\n",
       "    }\n",
       "<\/style>\n",
       "<table border=\"1\" class=\"dataframe\">\n",
       "  <thead>\n",
       "    <tr style=\"text-align: right;\">\n",
       "      <th><\/th>\n",
       "      <th>show_id<\/th>\n",
       "      <th>type<\/th>\n",
       "      <th>title<\/th>\n",
       "      <th>director<\/th>\n",
       "      <th>cast<\/th>\n",
       "      <th>country<\/th>\n",
       "      <th>date_added<\/th>\n",
       "      <th>release_year<\/th>\n",
       "      <th>rating<\/th>\n",
       "      <th>duration<\/th>\n",
       "      <th>listed_in<\/th>\n",
       "      <th>description<\/th>\n",
       "    <\/tr>\n",
       "  <\/thead>\n",
       "  <tbody>\n",
       "    <tr>\n",
       "      <th>0<\/th>\n",
       "      <td>s1<\/td>\n",
       "      <td>Movie<\/td>\n",
       "      <td>Dick Johnson Is Dead<\/td>\n",
       "      <td>Kirsten Johnson<\/td>\n",
       "      <td>NaN<\/td>\n",
       "      <td>United States<\/td>\n",
       "      <td>September 25, 2021<\/td>\n",
       "      <td>2020<\/td>\n",
       "      <td>PG-13<\/td>\n",
       "      <td>90 min<\/td>\n",
       "      <td>Documentaries<\/td>\n",
       "      <td>As her father nears the end of his life, filmm...<\/td>\n",
       "    <\/tr>\n",
       "    <tr>\n",
       "      <th>1<\/th>\n",
       "      <td>s2<\/td>\n",
       "      <td>TV Show<\/td>\n",
       "      <td>Blood &amp; Water<\/td>\n",
       "      <td>NaN<\/td>\n",
       "      <td>Ama Qamata, Khosi Ngema, Gail Mabalane, Thaban...<\/td>\n",
       "      <td>South Africa<\/td>\n",
       "      <td>September 24, 2021<\/td>\n",
       "      <td>2021<\/td>\n",
       "      <td>TV-MA<\/td>\n",
       "      <td>2 Seasons<\/td>\n",
       "      <td>International TV Shows, TV Dramas, TV Mysteries<\/td>\n",
       "      <td>After crossing paths at a party, a Cape Town t...<\/td>\n",
       "    <\/tr>\n",
       "    <tr>\n",
       "      <th>2<\/th>\n",
       "      <td>s3<\/td>\n",
       "      <td>TV Show<\/td>\n",
       "      <td>Ganglands<\/td>\n",
       "      <td>Julien Leclercq<\/td>\n",
       "      <td>Sami Bouajila, Tracy Gotoas, Samuel Jouy, Nabi...<\/td>\n",
       "      <td>NaN<\/td>\n",
       "      <td>September 24, 2021<\/td>\n",
       "      <td>2021<\/td>\n",
       "      <td>TV-MA<\/td>\n",
       "      <td>1 Season<\/td>\n",
       "      <td>Crime TV Shows, International TV Shows, TV Act...<\/td>\n",
       "      <td>To protect his family from a powerful drug lor...<\/td>\n",
       "    <\/tr>\n",
       "    <tr>\n",
       "      <th>3<\/th>\n",
       "      <td>s4<\/td>\n",
       "      <td>TV Show<\/td>\n",
       "      <td>Jailbirds New Orleans<\/td>\n",
       "      <td>NaN<\/td>\n",
       "      <td>NaN<\/td>\n",
       "      <td>NaN<\/td>\n",
       "      <td>September 24, 2021<\/td>\n",
       "      <td>2021<\/td>\n",
       "      <td>TV-MA<\/td>\n",
       "      <td>1 Season<\/td>\n",
       "      <td>Docuseries, Reality TV<\/td>\n",
       "      <td>Feuds, flirtations and toilet talk go down amo...<\/td>\n",
       "    <\/tr>\n",
       "    <tr>\n",
       "      <th>4<\/th>\n",
       "      <td>s5<\/td>\n",
       "      <td>TV Show<\/td>\n",
       "      <td>Kota Factory<\/td>\n",
       "      <td>NaN<\/td>\n",
       "      <td>Mayur More, Jitendra Kumar, Ranjan Raj, Alam K...<\/td>\n",
       "      <td>India<\/td>\n",
       "      <td>September 24, 2021<\/td>\n",
       "      <td>2021<\/td>\n",
       "      <td>TV-MA<\/td>\n",
       "      <td>2 Seasons<\/td>\n",
       "      <td>International TV Shows, Romantic TV Shows, TV ...<\/td>\n",
       "      <td>In a city of coaching centers known to train I...<\/td>\n",
       "    <\/tr>\n",
       "  <\/tbody>\n",
       "<\/table>\n",
       "<\/div>"
      ]
     },
     "metadata":{
      
     },
     "output_type":"display_data"
    }
   ],
   "metadata":{
    "datalore":{
     "node_id":"5LTjvQ1LsDQyY5yZJmWoww",
     "type":"CODE",
     "hide_input_from_viewers":false,
     "hide_output_from_viewers":false
    }
   }
  },
  {
   "cell_type":"code",
   "source":[
    "df_n.tail()"
   ],
   "execution_count":23,
   "outputs":[
    {
     "data":{
      "text\/html":[
       "<div>\n",
       "<style scoped>\n",
       "    .dataframe tbody tr th:only-of-type {\n",
       "        vertical-align: middle;\n",
       "    }\n",
       "\n",
       "    .dataframe tbody tr th {\n",
       "        vertical-align: top;\n",
       "    }\n",
       "\n",
       "    .dataframe thead th {\n",
       "        text-align: right;\n",
       "    }\n",
       "<\/style>\n",
       "<table border=\"1\" class=\"dataframe\">\n",
       "  <thead>\n",
       "    <tr style=\"text-align: right;\">\n",
       "      <th><\/th>\n",
       "      <th>show_id<\/th>\n",
       "      <th>type<\/th>\n",
       "      <th>title<\/th>\n",
       "      <th>director<\/th>\n",
       "      <th>cast<\/th>\n",
       "      <th>country<\/th>\n",
       "      <th>date_added<\/th>\n",
       "      <th>release_year<\/th>\n",
       "      <th>rating<\/th>\n",
       "      <th>duration<\/th>\n",
       "      <th>listed_in<\/th>\n",
       "      <th>description<\/th>\n",
       "    <\/tr>\n",
       "  <\/thead>\n",
       "  <tbody>\n",
       "    <tr>\n",
       "      <th>8802<\/th>\n",
       "      <td>s8803<\/td>\n",
       "      <td>Movie<\/td>\n",
       "      <td>Zodiac<\/td>\n",
       "      <td>David Fincher<\/td>\n",
       "      <td>Mark Ruffalo, Jake Gyllenhaal, Robert Downey J...<\/td>\n",
       "      <td>United States<\/td>\n",
       "      <td>November 20, 2019<\/td>\n",
       "      <td>2007<\/td>\n",
       "      <td>R<\/td>\n",
       "      <td>158 min<\/td>\n",
       "      <td>Cult Movies, Dramas, Thrillers<\/td>\n",
       "      <td>A political cartoonist, a crime reporter and a...<\/td>\n",
       "    <\/tr>\n",
       "    <tr>\n",
       "      <th>8803<\/th>\n",
       "      <td>s8804<\/td>\n",
       "      <td>TV Show<\/td>\n",
       "      <td>Zombie Dumb<\/td>\n",
       "      <td>NaN<\/td>\n",
       "      <td>NaN<\/td>\n",
       "      <td>NaN<\/td>\n",
       "      <td>July 1, 2019<\/td>\n",
       "      <td>2018<\/td>\n",
       "      <td>TV-Y7<\/td>\n",
       "      <td>2 Seasons<\/td>\n",
       "      <td>Kids' TV, Korean TV Shows, TV Comedies<\/td>\n",
       "      <td>While living alone in a spooky town, a young g...<\/td>\n",
       "    <\/tr>\n",
       "    <tr>\n",
       "      <th>8804<\/th>\n",
       "      <td>s8805<\/td>\n",
       "      <td>Movie<\/td>\n",
       "      <td>Zombieland<\/td>\n",
       "      <td>Ruben Fleischer<\/td>\n",
       "      <td>Jesse Eisenberg, Woody Harrelson, Emma Stone, ...<\/td>\n",
       "      <td>United States<\/td>\n",
       "      <td>November 1, 2019<\/td>\n",
       "      <td>2009<\/td>\n",
       "      <td>R<\/td>\n",
       "      <td>88 min<\/td>\n",
       "      <td>Comedies, Horror Movies<\/td>\n",
       "      <td>Looking to survive in a world taken over by zo...<\/td>\n",
       "    <\/tr>\n",
       "    <tr>\n",
       "      <th>8805<\/th>\n",
       "      <td>s8806<\/td>\n",
       "      <td>Movie<\/td>\n",
       "      <td>Zoom<\/td>\n",
       "      <td>Peter Hewitt<\/td>\n",
       "      <td>Tim Allen, Courteney Cox, Chevy Chase, Kate Ma...<\/td>\n",
       "      <td>United States<\/td>\n",
       "      <td>January 11, 2020<\/td>\n",
       "      <td>2006<\/td>\n",
       "      <td>PG<\/td>\n",
       "      <td>88 min<\/td>\n",
       "      <td>Children &amp; Family Movies, Comedies<\/td>\n",
       "      <td>Dragged from civilian life, a former superhero...<\/td>\n",
       "    <\/tr>\n",
       "    <tr>\n",
       "      <th>8806<\/th>\n",
       "      <td>s8807<\/td>\n",
       "      <td>Movie<\/td>\n",
       "      <td>Zubaan<\/td>\n",
       "      <td>Mozez Singh<\/td>\n",
       "      <td>Vicky Kaushal, Sarah-Jane Dias, Raaghav Chanan...<\/td>\n",
       "      <td>India<\/td>\n",
       "      <td>March 2, 2019<\/td>\n",
       "      <td>2015<\/td>\n",
       "      <td>TV-14<\/td>\n",
       "      <td>111 min<\/td>\n",
       "      <td>Dramas, International Movies, Music &amp; Musicals<\/td>\n",
       "      <td>A scrappy but poor boy worms his way into a ty...<\/td>\n",
       "    <\/tr>\n",
       "  <\/tbody>\n",
       "<\/table>\n",
       "<\/div>"
      ]
     },
     "metadata":{
      
     },
     "output_type":"display_data"
    }
   ],
   "metadata":{
    "datalore":{
     "node_id":"laO6uPO8Py3fssbJukaQeK",
     "type":"CODE",
     "hide_input_from_viewers":false,
     "hide_output_from_viewers":false
    }
   }
  },
  {
   "cell_type":"code",
   "source":[
    "df_n.shape"
   ],
   "execution_count":25,
   "outputs":[
    {
     "data":{
      "text\/plain":[
       "(8807, 12)"
      ]
     },
     "metadata":{
      
     },
     "output_type":"display_data"
    }
   ],
   "metadata":{
    "datalore":{
     "node_id":"EZN7Qbk5xxP7uRLJGi0oaj",
     "type":"CODE",
     "hide_input_from_viewers":false,
     "hide_output_from_viewers":false
    }
   }
  },
  {
   "cell_type":"code",
   "source":[
    "df_n.info"
   ],
   "execution_count":26,
   "outputs":[
    {
     "data":{
      "text\/plain":[
       "<bound method DataFrame.info of      show_id     type                  title         director  \\\n",
       "0         s1    Movie   Dick Johnson Is Dead  Kirsten Johnson   \n",
       "1         s2  TV Show          Blood & Water              NaN   \n",
       "2         s3  TV Show              Ganglands  Julien Leclercq   \n",
       "3         s4  TV Show  Jailbirds New Orleans              NaN   \n",
       "4         s5  TV Show           Kota Factory              NaN   \n",
       "...      ...      ...                    ...              ...   \n",
       "8802   s8803    Movie                 Zodiac    David Fincher   \n",
       "8803   s8804  TV Show            Zombie Dumb              NaN   \n",
       "8804   s8805    Movie             Zombieland  Ruben Fleischer   \n",
       "8805   s8806    Movie                   Zoom     Peter Hewitt   \n",
       "8806   s8807    Movie                 Zubaan      Mozez Singh   \n",
       "\n",
       "                                                   cast        country  \\\n",
       "0                                                   NaN  United States   \n",
       "1     Ama Qamata, Khosi Ngema, Gail Mabalane, Thaban...   South Africa   \n",
       "2     Sami Bouajila, Tracy Gotoas, Samuel Jouy, Nabi...            NaN   \n",
       "3                                                   NaN            NaN   \n",
       "4     Mayur More, Jitendra Kumar, Ranjan Raj, Alam K...          India   \n",
       "...                                                 ...            ...   \n",
       "8802  Mark Ruffalo, Jake Gyllenhaal, Robert Downey J...  United States   \n",
       "8803                                                NaN            NaN   \n",
       "8804  Jesse Eisenberg, Woody Harrelson, Emma Stone, ...  United States   \n",
       "8805  Tim Allen, Courteney Cox, Chevy Chase, Kate Ma...  United States   \n",
       "8806  Vicky Kaushal, Sarah-Jane Dias, Raaghav Chanan...          India   \n",
       "\n",
       "              date_added  release_year rating   duration  \\\n",
       "0     September 25, 2021          2020  PG-13     90 min   \n",
       "1     September 24, 2021          2021  TV-MA  2 Seasons   \n",
       "2     September 24, 2021          2021  TV-MA   1 Season   \n",
       "3     September 24, 2021          2021  TV-MA   1 Season   \n",
       "4     September 24, 2021          2021  TV-MA  2 Seasons   \n",
       "...                  ...           ...    ...        ...   \n",
       "8802   November 20, 2019          2007      R    158 min   \n",
       "8803        July 1, 2019          2018  TV-Y7  2 Seasons   \n",
       "8804    November 1, 2019          2009      R     88 min   \n",
       "8805    January 11, 2020          2006     PG     88 min   \n",
       "8806       March 2, 2019          2015  TV-14    111 min   \n",
       "\n",
       "                                              listed_in  \\\n",
       "0                                         Documentaries   \n",
       "1       International TV Shows, TV Dramas, TV Mysteries   \n",
       "2     Crime TV Shows, International TV Shows, TV Act...   \n",
       "3                                Docuseries, Reality TV   \n",
       "4     International TV Shows, Romantic TV Shows, TV ...   \n",
       "...                                                 ...   \n",
       "8802                     Cult Movies, Dramas, Thrillers   \n",
       "8803             Kids' TV, Korean TV Shows, TV Comedies   \n",
       "8804                            Comedies, Horror Movies   \n",
       "8805                 Children & Family Movies, Comedies   \n",
       "8806     Dramas, International Movies, Music & Musicals   \n",
       "\n",
       "                                            description  \n",
       "0     As her father nears the end of his life, filmm...  \n",
       "1     After crossing paths at a party, a Cape Town t...  \n",
       "2     To protect his family from a powerful drug lor...  \n",
       "3     Feuds, flirtations and toilet talk go down amo...  \n",
       "4     In a city of coaching centers known to train I...  \n",
       "...                                                 ...  \n",
       "8802  A political cartoonist, a crime reporter and a...  \n",
       "8803  While living alone in a spooky town, a young g...  \n",
       "8804  Looking to survive in a world taken over by zo...  \n",
       "8805  Dragged from civilian life, a former superhero...  \n",
       "8806  A scrappy but poor boy worms his way into a ty...  \n",
       "\n",
       "[8807 rows x 12 columns]>"
      ]
     },
     "metadata":{
      
     },
     "output_type":"display_data"
    }
   ],
   "metadata":{
    "datalore":{
     "node_id":"B9L1hD7Pq1ay6rr3suI5Ba",
     "type":"CODE",
     "hide_input_from_viewers":false,
     "hide_output_from_viewers":false
    }
   }
  },
  {
   "cell_type":"code",
   "source":[
    "df_n.describe()"
   ],
   "execution_count":27,
   "outputs":[
    {
     "data":{
      "text\/html":[
       "<div>\n",
       "<style scoped>\n",
       "    .dataframe tbody tr th:only-of-type {\n",
       "        vertical-align: middle;\n",
       "    }\n",
       "\n",
       "    .dataframe tbody tr th {\n",
       "        vertical-align: top;\n",
       "    }\n",
       "\n",
       "    .dataframe thead th {\n",
       "        text-align: right;\n",
       "    }\n",
       "<\/style>\n",
       "<table border=\"1\" class=\"dataframe\">\n",
       "  <thead>\n",
       "    <tr style=\"text-align: right;\">\n",
       "      <th><\/th>\n",
       "      <th>release_year<\/th>\n",
       "    <\/tr>\n",
       "  <\/thead>\n",
       "  <tbody>\n",
       "    <tr>\n",
       "      <th>count<\/th>\n",
       "      <td>8807.000000<\/td>\n",
       "    <\/tr>\n",
       "    <tr>\n",
       "      <th>mean<\/th>\n",
       "      <td>2014.180198<\/td>\n",
       "    <\/tr>\n",
       "    <tr>\n",
       "      <th>std<\/th>\n",
       "      <td>8.819312<\/td>\n",
       "    <\/tr>\n",
       "    <tr>\n",
       "      <th>min<\/th>\n",
       "      <td>1925.000000<\/td>\n",
       "    <\/tr>\n",
       "    <tr>\n",
       "      <th>25%<\/th>\n",
       "      <td>2013.000000<\/td>\n",
       "    <\/tr>\n",
       "    <tr>\n",
       "      <th>50%<\/th>\n",
       "      <td>2017.000000<\/td>\n",
       "    <\/tr>\n",
       "    <tr>\n",
       "      <th>75%<\/th>\n",
       "      <td>2019.000000<\/td>\n",
       "    <\/tr>\n",
       "    <tr>\n",
       "      <th>max<\/th>\n",
       "      <td>2021.000000<\/td>\n",
       "    <\/tr>\n",
       "  <\/tbody>\n",
       "<\/table>\n",
       "<\/div>"
      ]
     },
     "metadata":{
      
     },
     "output_type":"display_data"
    }
   ],
   "metadata":{
    "datalore":{
     "node_id":"spwkAD75G2efHC2iVYvsUP",
     "type":"CODE",
     "hide_input_from_viewers":false,
     "hide_output_from_viewers":false
    }
   }
  },
  {
   "cell_type":"code",
   "source":[
    "df_n.describe(include=[object,'category',\"int64\"])"
   ],
   "execution_count":28,
   "outputs":[
    {
     "data":{
      "text\/html":[
       "<div>\n",
       "<style scoped>\n",
       "    .dataframe tbody tr th:only-of-type {\n",
       "        vertical-align: middle;\n",
       "    }\n",
       "\n",
       "    .dataframe tbody tr th {\n",
       "        vertical-align: top;\n",
       "    }\n",
       "\n",
       "    .dataframe thead th {\n",
       "        text-align: right;\n",
       "    }\n",
       "<\/style>\n",
       "<table border=\"1\" class=\"dataframe\">\n",
       "  <thead>\n",
       "    <tr style=\"text-align: right;\">\n",
       "      <th><\/th>\n",
       "      <th>show_id<\/th>\n",
       "      <th>type<\/th>\n",
       "      <th>title<\/th>\n",
       "      <th>director<\/th>\n",
       "      <th>cast<\/th>\n",
       "      <th>country<\/th>\n",
       "      <th>date_added<\/th>\n",
       "      <th>release_year<\/th>\n",
       "      <th>rating<\/th>\n",
       "      <th>duration<\/th>\n",
       "      <th>listed_in<\/th>\n",
       "      <th>description<\/th>\n",
       "    <\/tr>\n",
       "  <\/thead>\n",
       "  <tbody>\n",
       "    <tr>\n",
       "      <th>count<\/th>\n",
       "      <td>8807<\/td>\n",
       "      <td>8807<\/td>\n",
       "      <td>8807<\/td>\n",
       "      <td>6173<\/td>\n",
       "      <td>7982<\/td>\n",
       "      <td>7976<\/td>\n",
       "      <td>8797<\/td>\n",
       "      <td>8807.000000<\/td>\n",
       "      <td>8803<\/td>\n",
       "      <td>8804<\/td>\n",
       "      <td>8807<\/td>\n",
       "      <td>8807<\/td>\n",
       "    <\/tr>\n",
       "    <tr>\n",
       "      <th>unique<\/th>\n",
       "      <td>8807<\/td>\n",
       "      <td>2<\/td>\n",
       "      <td>8807<\/td>\n",
       "      <td>4528<\/td>\n",
       "      <td>7692<\/td>\n",
       "      <td>748<\/td>\n",
       "      <td>1767<\/td>\n",
       "      <td>NaN<\/td>\n",
       "      <td>17<\/td>\n",
       "      <td>220<\/td>\n",
       "      <td>514<\/td>\n",
       "      <td>8775<\/td>\n",
       "    <\/tr>\n",
       "    <tr>\n",
       "      <th>top<\/th>\n",
       "      <td>s1<\/td>\n",
       "      <td>Movie<\/td>\n",
       "      <td>Dick Johnson Is Dead<\/td>\n",
       "      <td>Rajiv Chilaka<\/td>\n",
       "      <td>David Attenborough<\/td>\n",
       "      <td>United States<\/td>\n",
       "      <td>January 1, 2020<\/td>\n",
       "      <td>NaN<\/td>\n",
       "      <td>TV-MA<\/td>\n",
       "      <td>1 Season<\/td>\n",
       "      <td>Dramas, International Movies<\/td>\n",
       "      <td>Paranormal activity at a lush, abandoned prope...<\/td>\n",
       "    <\/tr>\n",
       "    <tr>\n",
       "      <th>freq<\/th>\n",
       "      <td>1<\/td>\n",
       "      <td>6131<\/td>\n",
       "      <td>1<\/td>\n",
       "      <td>19<\/td>\n",
       "      <td>19<\/td>\n",
       "      <td>2818<\/td>\n",
       "      <td>109<\/td>\n",
       "      <td>NaN<\/td>\n",
       "      <td>3207<\/td>\n",
       "      <td>1793<\/td>\n",
       "      <td>362<\/td>\n",
       "      <td>4<\/td>\n",
       "    <\/tr>\n",
       "    <tr>\n",
       "      <th>mean<\/th>\n",
       "      <td>NaN<\/td>\n",
       "      <td>NaN<\/td>\n",
       "      <td>NaN<\/td>\n",
       "      <td>NaN<\/td>\n",
       "      <td>NaN<\/td>\n",
       "      <td>NaN<\/td>\n",
       "      <td>NaN<\/td>\n",
       "      <td>2014.180198<\/td>\n",
       "      <td>NaN<\/td>\n",
       "      <td>NaN<\/td>\n",
       "      <td>NaN<\/td>\n",
       "      <td>NaN<\/td>\n",
       "    <\/tr>\n",
       "    <tr>\n",
       "      <th>std<\/th>\n",
       "      <td>NaN<\/td>\n",
       "      <td>NaN<\/td>\n",
       "      <td>NaN<\/td>\n",
       "      <td>NaN<\/td>\n",
       "      <td>NaN<\/td>\n",
       "      <td>NaN<\/td>\n",
       "      <td>NaN<\/td>\n",
       "      <td>8.819312<\/td>\n",
       "      <td>NaN<\/td>\n",
       "      <td>NaN<\/td>\n",
       "      <td>NaN<\/td>\n",
       "      <td>NaN<\/td>\n",
       "    <\/tr>\n",
       "    <tr>\n",
       "      <th>min<\/th>\n",
       "      <td>NaN<\/td>\n",
       "      <td>NaN<\/td>\n",
       "      <td>NaN<\/td>\n",
       "      <td>NaN<\/td>\n",
       "      <td>NaN<\/td>\n",
       "      <td>NaN<\/td>\n",
       "      <td>NaN<\/td>\n",
       "      <td>1925.000000<\/td>\n",
       "      <td>NaN<\/td>\n",
       "      <td>NaN<\/td>\n",
       "      <td>NaN<\/td>\n",
       "      <td>NaN<\/td>\n",
       "    <\/tr>\n",
       "    <tr>\n",
       "      <th>25%<\/th>\n",
       "      <td>NaN<\/td>\n",
       "      <td>NaN<\/td>\n",
       "      <td>NaN<\/td>\n",
       "      <td>NaN<\/td>\n",
       "      <td>NaN<\/td>\n",
       "      <td>NaN<\/td>\n",
       "      <td>NaN<\/td>\n",
       "      <td>2013.000000<\/td>\n",
       "      <td>NaN<\/td>\n",
       "      <td>NaN<\/td>\n",
       "      <td>NaN<\/td>\n",
       "      <td>NaN<\/td>\n",
       "    <\/tr>\n",
       "    <tr>\n",
       "      <th>50%<\/th>\n",
       "      <td>NaN<\/td>\n",
       "      <td>NaN<\/td>\n",
       "      <td>NaN<\/td>\n",
       "      <td>NaN<\/td>\n",
       "      <td>NaN<\/td>\n",
       "      <td>NaN<\/td>\n",
       "      <td>NaN<\/td>\n",
       "      <td>2017.000000<\/td>\n",
       "      <td>NaN<\/td>\n",
       "      <td>NaN<\/td>\n",
       "      <td>NaN<\/td>\n",
       "      <td>NaN<\/td>\n",
       "    <\/tr>\n",
       "    <tr>\n",
       "      <th>75%<\/th>\n",
       "      <td>NaN<\/td>\n",
       "      <td>NaN<\/td>\n",
       "      <td>NaN<\/td>\n",
       "      <td>NaN<\/td>\n",
       "      <td>NaN<\/td>\n",
       "      <td>NaN<\/td>\n",
       "      <td>NaN<\/td>\n",
       "      <td>2019.000000<\/td>\n",
       "      <td>NaN<\/td>\n",
       "      <td>NaN<\/td>\n",
       "      <td>NaN<\/td>\n",
       "      <td>NaN<\/td>\n",
       "    <\/tr>\n",
       "    <tr>\n",
       "      <th>max<\/th>\n",
       "      <td>NaN<\/td>\n",
       "      <td>NaN<\/td>\n",
       "      <td>NaN<\/td>\n",
       "      <td>NaN<\/td>\n",
       "      <td>NaN<\/td>\n",
       "      <td>NaN<\/td>\n",
       "      <td>NaN<\/td>\n",
       "      <td>2021.000000<\/td>\n",
       "      <td>NaN<\/td>\n",
       "      <td>NaN<\/td>\n",
       "      <td>NaN<\/td>\n",
       "      <td>NaN<\/td>\n",
       "    <\/tr>\n",
       "  <\/tbody>\n",
       "<\/table>\n",
       "<\/div>"
      ]
     },
     "metadata":{
      
     },
     "output_type":"display_data"
    }
   ],
   "metadata":{
    "datalore":{
     "node_id":"QeyKHQJuLLc4Jy1weMYxqL",
     "type":"CODE",
     "hide_input_from_viewers":false,
     "hide_output_from_viewers":false
    }
   }
  },
  {
   "cell_type":"code",
   "source":[
    "df_n[\"show_id\"] == \"s8803\""
   ],
   "execution_count":36,
   "outputs":[
    {
     "data":{
      "text\/html":[
       "<pre>0       False\n",
       "1       False\n",
       "2       False\n",
       "3       False\n",
       "4       False\n",
       "        ...  \n",
       "8802     True\n",
       "8803    False\n",
       "8804    False\n",
       "8805    False\n",
       "8806    False\n",
       "Name: show_id, Length: 8807, dtype: bool<\/pre>"
      ]
     },
     "metadata":{
      
     },
     "output_type":"display_data"
    }
   ],
   "metadata":{
    "datalore":{
     "node_id":"ChQ8MIvs1xIZ8KDDDInRlm",
     "type":"CODE",
     "hide_input_from_viewers":false,
     "hide_output_from_viewers":false
    }
   }
  },
  {
   "cell_type":"code",
   "source":[
    "df_n.isna().sum()"
   ],
   "execution_count":37,
   "outputs":[
    {
     "data":{
      "text\/html":[
       "<pre>show_id            0\n",
       "type               0\n",
       "title              0\n",
       "director        2634\n",
       "cast             825\n",
       "country          831\n",
       "date_added        10\n",
       "release_year       0\n",
       "rating             4\n",
       "duration           3\n",
       "listed_in          0\n",
       "description        0\n",
       "dtype: int64<\/pre>"
      ]
     },
     "metadata":{
      
     },
     "output_type":"display_data"
    }
   ],
   "metadata":{
    "datalore":{
     "node_id":"HZNIbZN2RvhFYVYCgTGMMA",
     "type":"CODE",
     "hide_input_from_viewers":false,
     "hide_output_from_viewers":false
    }
   }
  },
  {
   "cell_type":"code",
   "source":[
    "df_n.nunique()"
   ],
   "execution_count":38,
   "outputs":[
    {
     "data":{
      "text\/html":[
       "<pre>show_id         8807\n",
       "type               2\n",
       "title           8807\n",
       "director        4528\n",
       "cast            7692\n",
       "country          748\n",
       "date_added      1767\n",
       "release_year      74\n",
       "rating            17\n",
       "duration         220\n",
       "listed_in        514\n",
       "description     8775\n",
       "dtype: int64<\/pre>"
      ]
     },
     "metadata":{
      
     },
     "output_type":"display_data"
    }
   ],
   "metadata":{
    "datalore":{
     "node_id":"9lt6ufVKAG8GKZMHDIfLVA",
     "type":"CODE",
     "hide_input_from_viewers":false,
     "hide_output_from_viewers":false
    }
   }
  }
 ],
 "metadata":{
  "kernelspec":{
   "display_name":"Python",
   "language":"python",
   "name":"python"
  },
  "datalore":{
   "version":1,
   "computation_mode":"JUPYTER",
   "package_manager":"pip",
   "base_environment":"default",
   "packages":[
    
   ]
  }
 },
 "nbformat":4,
 "nbformat_minor":4
}